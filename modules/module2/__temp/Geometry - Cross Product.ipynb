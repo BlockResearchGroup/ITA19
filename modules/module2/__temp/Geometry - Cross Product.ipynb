{
 "cells": [
  {
   "cell_type": "markdown",
   "metadata": {
    "slideshow": {
     "slide_type": "slide"
    }
   },
   "source": [
    "## Cross product"
   ]
  },
  {
   "cell_type": "markdown",
   "metadata": {
    "slideshow": {
     "slide_type": "fragment"
    }
   },
   "source": [
    "The cross product of two vectors $\\mathbf{a}$ and $\\mathbf{b}$ is a third vector that is perpendicular to the plane defined by $\\mathbf{a}$ and $\\mathbf{b}$:"
   ]
  },
  {
   "cell_type": "markdown",
   "metadata": {
    "slideshow": {
     "slide_type": "slide"
    }
   },
   "source": [
    "<img src=\"images/CrossProduct_vector.png\" style=\"margin: 0 auto; width: 25%;\" />"
   ]
  },
  {
   "cell_type": "markdown",
   "metadata": {
    "slideshow": {
     "slide_type": "fragment"
    }
   },
   "source": [
    "$$\n",
    "\\mathbf{a}\\times\\mathbf{b} = [a_y b_z - b_y a_z, \\, a_z b_x - b_z a_x, \\, a_x b_y - b_x a_y]\n",
    "$$"
   ]
  },
  {
   "cell_type": "markdown",
   "metadata": {
    "slideshow": {
     "slide_type": "fragment"
    }
   },
   "source": [
    "<img src=\"images/CrossProduct_vector.png\" style=\"margin: 0 auto; width: 25%;\" />"
   ]
  },
  {
   "cell_type": "markdown",
   "metadata": {
    "slideshow": {
     "slide_type": "fragment"
    }
   },
   "source": [
    "$$\n",
    "\\mathbf{a}\\times\\mathbf{b} = [a_y b_z - b_y a_z, \\, a_z b_x - b_z a_x, \\, a_x b_y - b_x a_y]\n",
    "$$"
   ]
  },
  {
   "cell_type": "markdown",
   "metadata": {
    "slideshow": {
     "slide_type": "slide"
    }
   },
   "source": [
    "Considering two vectors $\\mathbf{a}$ and $\\mathbf{b}$, the length of the cross product of $\\mathbf{a}$ and $\\mathbf{b}$ will increase from $0$ to $1$ as the angle between them increases from "
   ]
  }
 ],
 "metadata": {
  "celltoolbar": "Slideshow",
  "kernelspec": {
   "display_name": "Python [conda env:ita19] *",
   "language": "python",
   "name": "conda-env-ita19-py"
  },
  "language_info": {
   "codemirror_mode": {
    "name": "ipython",
    "version": 3
   },
   "file_extension": ".py",
   "mimetype": "text/x-python",
   "name": "python",
   "nbconvert_exporter": "python",
   "pygments_lexer": "ipython3",
   "version": "3.6.7"
  }
 },
 "nbformat": 4,
 "nbformat_minor": 2
}
