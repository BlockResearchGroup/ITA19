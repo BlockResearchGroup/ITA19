{
 "cells": [
  {
   "cell_type": "code",
   "execution_count": 1,
   "metadata": {
    "slideshow": {
     "slide_type": "skip"
    }
   },
   "outputs": [],
   "source": [
    "from notebook.services.config import ConfigManager\n",
    "cm = ConfigManager()\n",
    "cm.update('livereveal', {'scroll': True,})\n",
    "\n",
    "%load_ext autoreload\n",
    "%autoreload 2"
   ]
  },
  {
   "cell_type": "markdown",
   "metadata": {},
   "source": [
    "# What is a robot?\n",
    "\n",
    "<img width=\"600\" src=\"https://www.therobotreport.com/wp-content/uploads/2019/06/Industrial-Robot-Sales-Broke-Records-in-2018.jpg\" />"
   ]
  },
  {
   "cell_type": "markdown",
   "metadata": {
    "slideshow": {
     "slide_type": "notes"
    }
   },
   "source": [
    "The robot is a machine that, independently of its exterior, is able to modify the environment in which it operates.\n",
    "_Robotics_ is commonly defined as the science studying the _intelligent connection between perception and action_.\n",
    "\n",
    "\n",
    "https://www.federica.eu/l/introduction_to_robotics\n",
    "    \n",
    "B. Siciliano, L. Sciavicco, L. Villani, G. Oriolo, Robotics: Modelling, Planning and Control, Springer, London, 2009, ISBN 978-1-84628-642-1\n",
    "    "
   ]
  },
  {
   "cell_type": "markdown",
   "metadata": {
    "slideshow": {
     "slide_type": "slide"
    }
   },
   "source": [
    "## Basic robot components\n",
    "\n",
    "<table style=\"font-size:100%\">\n",
    "<tr style=\"background: none;\">\n",
    "<td style=\"text-align: left; width:30%\">\n",
    "Most of the industrial robots have 6 basic components: <br /><br />\n",
    "<ul>\n",
    "<li>manipulator</li>\n",
    "<li>end-effector</li>\n",
    "<li>actuators</li>\n",
    "<li>sensors</li>\n",
    "<li>controller</li>\n",
    "<li>teach pendant</li>\n",
    "</ul>\n",
    "</td>\n",
    "<td style=\"text-align: left;\">\n",
    "<img style='height:550px' src=\"images/basic_robot_components.svg\" />\n",
    "</td>\n",
    "</tr>\n",
    "</table>"
   ]
  },
  {
   "cell_type": "markdown",
   "metadata": {
    "slideshow": {
     "slide_type": "notes"
    }
   },
   "source": [
    "### Manipulator\n",
    "* A collection of links (mechanical linkages) connected by joints\n",
    "* Generally, joints are either revolute (rotary) or prismatic (linear)\n",
    "* Each joint has joint axis along which the particular link either rotates or slides\n",
    "* Every joint axis identifies a degree of freedom (DOF)\n",
    "\n",
    "### End-effector\n",
    "* The part that is connected to the last joint of a manipulator\n",
    "* The _hand_ or _tool_ which performs the required task depending on the fabrication process\n",
    "* If actuated (e.g. gripper gripping) the end-effector can be controlled by the robots controller via I/O.\n",
    "\n",
    "### Actuators\n",
    "* Used to move the elements of the manipulators\n",
    "* Each actuator is driven by a controller\n",
    "* Can be electric motors (servomotor, stepper motor), pneumatic cylinders or hydraulic cylinders\n",
    "\n",
    "### Sensors\n",
    "* Internal sensors: check joint position, temperature, force, ...\n",
    "* External sensors: percept environment\n",
    "    \n",
    "### Controller\n",
    "* Brain of the robot\n",
    "* Receives the data from the computer, controls the motions of the actuators and coordintes the motions with the sensory feedback information.\n",
    "\n",
    "### Teach pendant\n",
    "* A control box for programming the motions of a robot\n",
    "* Teach pendants are typically handheld devices and may be wired or wireless"
   ]
  },
  {
   "cell_type": "markdown",
   "metadata": {
    "slideshow": {
     "slide_type": "slide"
    }
   },
   "source": [
    "## Robot coordinate frames\n",
    "\n",
    "<table style=\"font-size:100%\">\n",
    "<tr style=\"background: none;\">\n",
    "<td style=\"text-align: left; width:40%; vertical-align: top;\">\n",
    "<ul>\n",
    "<li>World coordinate frame (WCF)</li>\n",
    "<li>Robot coordinate frame (RCF)</li>\n",
    "<li>Tool0 coordinate frame (T0CF)</li>\n",
    "<li>Tool coordinate frame (TCF)</li>\n",
    "<li>Object coordinate frame (OCF)</li>\n",
    "</ul>\n",
    "</td>\n",
    "<td style=\"text-align: left;\">\n",
    "<img width=\"600\" src=\"https://gramaziokohler.github.io/compas_fab/latest/_images/02_coordinate_frames.jpg\" />\n",
    "</td>\n",
    "</tr>\n",
    "</table>"
   ]
  },
  {
   "cell_type": "markdown",
   "metadata": {
    "slideshow": {
     "slide_type": "slide"
    }
   },
   "source": [
    "## Robot workspace\n",
    "\n",
    "Workspace is the envelope the robot can reach. \n",
    "\n",
    "<table style=\"font-size:100%\">\n",
    "<tr style=\"background: none;\">\n",
    "<td><img src=\"https://www.federica.eu/users/46/images/siciliano-bruno-42271-01-71301-18-1.jpg\" /></td>\n",
    "<td><img src=\"https://www.federica.eu/users/46/images/siciliano-bruno-42271-01-71301-17-1.jpg\" /></td>\n",
    "<td><img src=\"https://www.federica.eu/users/46/images/siciliano-bruno-42271-01-71301-14-1.jpg\" /></td>\n",
    "</tr>\n",
    "<tr style=\"background: none;\">\n",
    "<td style=\"text-align:center;\">anthropomorphic manipulator</td>\n",
    "<td style=\"text-align:center;\">SCARA manipulator</td>\n",
    "<td style=\"text-align:center;\">cartesian manipulator</td>\n",
    "</tr>\n",
    "</table>"
   ]
  },
  {
   "cell_type": "markdown",
   "metadata": {
    "slideshow": {
     "slide_type": "slide"
    }
   },
   "source": [
    "## Robot programming 🤖\n",
    "\n",
    "* Offline control\n",
    "* Online real-time control\n",
    "* Online non-real-time control"
   ]
  },
  {
   "cell_type": "markdown",
   "metadata": {
    "slideshow": {
     "slide_type": "slide"
    }
   },
   "source": [
    "## Robot programming 🤖\n",
    "\n",
    "### Traditional (offline) programming\n",
    "\n",
    "Vendor-proprietary language and tools:\n",
    "\n",
    "<table>\n",
    "<tr>\n",
    "   <th>Vendor</th>\n",
    "   <th>Language</th>\n",
    "   <th>Software</th>\n",
    "</tr>\n",
    "<tr>\n",
    "<td>\n",
    "ABB<br />\n",
    "Staubli<br />\n",
    "UR<br />\n",
    "KUKA<br />\n",
    "</td>\n",
    "<td>\n",
    "RAPID<br />\n",
    "VAL3<br />\n",
    "URScript<br />\n",
    "KRL<br />\n",
    "</td>\n",
    "<td>\n",
    "ABB RobotStudio<br />\n",
    "Staubli Robotics Suite<br />\n",
    "URSim<br />\n",
    "KUKA WorkVisual<br />\n",
    "</td>\n",
    "</tr>\n",
    "</table>\n",
    "\n",
    "<img src=\"images/traditional_robot_programming.svg\" />\n"
   ]
  },
  {
   "cell_type": "code",
   "execution_count": null,
   "metadata": {
    "slideshow": {
     "slide_type": "slide"
    }
   },
   "outputs": [],
   "source": [
    "## Robot programming 🤖\n",
    "\n",
    "Control robots directly from within parametric design environment (Grasshopper, Dynamo, ...)\n",
    "\n",
    "<table>\n",
    "<tr>\n",
    "<th style=\"text-align: center;\">HAL</th>\n",
    "<th style=\"text-align: center;\">TACO</th>\n",
    "<th style=\"text-align: center;\">KUKA|prc</th>\n",
    "<th style=\"text-align: center;\">Scorpion</th>\n",
    "<th style=\"text-align: center;\">visose</th>\n",
    "<th style=\"text-align: center;\">Machina</th>\n",
    "</tr>\n",
    "<tr>\n",
    "<td><img style=\"height: 80px\" src=\"https://hal-robotics.com/wp-content/uploads/2017/08/HALRoboticsLogoSmall.png\" /></td>\n",
    "<td><img style=\"height: 80px\" src=\"http://blickfeld7.com/architecture/rhino/grasshopper/Taco/img/Logo.png\" /></td>\n",
    "<td><img style=\"height: 80px\" src=\"https://www.robotsinarchitecture.org/wp-content/uploads/2015/05/prclogo1.png\" /></td>\n",
    "<td><img style=\"height: 80px\" src=\"https://static.food4rhino.com/s3fs-public/styles/thumbnail/public/users-files/scorpion/app/logosmall.png\" /></td>\n",
    "<td><img style=\"height: 80px\" src=\"https://github.com/visose/Robots/raw/master/Documentation/Images/title.png\" /></td>\n",
    "<td><img style=\"height: 80px\" src=\"https://avatars2.githubusercontent.com/u/37315479?s=200&v=4\" /></td>\n",
    "</tr>\n",
    "</table>"
   ]
  },
  {
   "cell_type": "markdown",
   "metadata": {
    "slideshow": {
     "slide_type": "fragment"
    }
   },
   "source": [
    "## Robot programming 🤖\n",
    "\n",
    "### Online programming\n",
    "\n",
    "<img src=\"images/online_robot_programming.svg\" />"
   ]
  },
  {
   "cell_type": "code",
   "execution_count": null,
   "metadata": {},
   "outputs": [],
   "source": [
    "TODO ### ROS\n"
   ]
  },
  {
   "cell_type": "code",
   "execution_count": null,
   "metadata": {},
   "outputs": [],
   "source": [
    "TODO: example online control"
   ]
  },
  {
   "cell_type": "code",
   "execution_count": 1,
   "metadata": {
    "slideshow": {
     "slide_type": "slide"
    }
   },
   "outputs": [
    {
     "data": {
      "text/html": [
       "<h2>Online non-real-time control</h2><br /><iframe src=\"https://player.vimeo.com/video/56125747?title=0&byline=0&portrait=0\" width=\"700\" height=\"394\" frameborder=\"0\" webkitallowfullscreen mozallowfullscreen allowfullscreen></iframe><p><a href=\"https://vimeo.com/56125747\"></p>"
      ],
      "text/plain": [
       "<IPython.core.display.HTML object>"
      ]
     },
     "execution_count": 1,
     "metadata": {},
     "output_type": "execute_result"
    }
   ],
   "source": [
    "from IPython.display import HTML\n",
    "HTML('<h2>Online non-real-time control</h2><br /><iframe src=\"https://player.vimeo.com/video/56125747?title=0&byline=0&portrait=0\" width=\"700\" height=\"394\" frameborder=\"0\" webkitallowfullscreen mozallowfullscreen allowfullscreen></iframe><p><a href=\"https://vimeo.com/56125747\"></p>')"
   ]
  },
  {
   "cell_type": "markdown",
   "metadata": {
    "slideshow": {
     "slide_type": "slide"
    }
   },
   "source": [
    "## Forward and inverse kinematics\n",
    "\n",
    "<img src=\"images/ik_fk.jpg\" style=\"height: 500px\" />"
   ]
  },
  {
   "cell_type": "markdown",
   "metadata": {
    "slideshow": {
     "slide_type": "slide"
    }
   },
   "source": [
    "## Robot singularities\n",
    "\n",
    "An industrial robot can be controlled in two spaces: joint space and Cartesian space.\n",
    "\n",
    "* `MoveJ` – move the robot linear in joint space\n",
    "* `MoveL` or `MoveC` – move the robot linear/circular in cartesian space (ee-velocity)\n",
    "\n",
    "A robot singularity occurs if the robot moves in Cartesian space and the controller fails to calculate inverse kinematics (position and velocity)."
   ]
  },
  {
   "cell_type": "markdown",
   "metadata": {
    "slideshow": {
     "slide_type": "notes"
    }
   },
   "source": [
    "For `MoveL` you specify a desired pose for the end-effector AND a desired Cartesian path. \n",
    "To find the necessary joint positions along the desired Cartesian path, the robot controller must calculate\n",
    "the inverse position and velocity kinematics of the robot. Singularities arise when this calculation fails\n",
    "(for example, division by zero or infinite angular velocity) and must therefore be avoided.\n",
    "\n",
    "Jogging a six-axis robotic arm in joint space, and the only time the robot will stop is when a joint hits\n",
    "a limit or when there is a mechanical interference. "
   ]
  },
  {
   "cell_type": "code",
   "execution_count": 2,
   "metadata": {
    "slideshow": {
     "slide_type": "slide"
    }
   },
   "outputs": [
    {
     "data": {
      "text/html": [
       "<iframe src=\"https://player.vimeo.com/video/20095999?title=0&byline=0&portrait=0\" width=\"700\" height=\"394\" frameborder=\"0\" webkitallowfullscreen mozallowfullscreen allowfullscreen></iframe><p><a href=\"https://vimeo.com/20095999\"></p>"
      ],
      "text/plain": [
       "<IPython.core.display.HTML object>"
      ]
     },
     "execution_count": 2,
     "metadata": {},
     "output_type": "execute_result"
    }
   ],
   "source": [
    "from IPython.display import HTML\n",
    "HTML('<iframe src=\"https://player.vimeo.com/video/20095999?title=0&byline=0&portrait=0\" width=\"700\" height=\"394\" frameborder=\"0\" webkitallowfullscreen mozallowfullscreen allowfullscreen></iframe><p><a href=\"https://vimeo.com/20095999\"></p>')"
   ]
  },
  {
   "cell_type": "code",
   "execution_count": null,
   "metadata": {},
   "outputs": [],
   "source": [
    "=> hint at ROS\n",
    "ros uses only joint trajectories, so omitting singularities"
   ]
  },
  {
   "cell_type": "markdown",
   "metadata": {
    "slideshow": {
     "slide_type": "notes"
    }
   },
   "source": [
    "## Robot characteristics\n",
    "\n",
    "* payload\n",
    "* reach\n",
    "* precision\n",
    "* repeatability"
   ]
  }
 ],
 "metadata": {
  "celltoolbar": "Slideshow",
  "kernelspec": {
   "display_name": "Python 3",
   "language": "python",
   "name": "python3"
  },
  "language_info": {
   "codemirror_mode": {
    "name": "ipython",
    "version": 3
   },
   "file_extension": ".py",
   "mimetype": "text/x-python",
   "name": "python",
   "nbconvert_exporter": "python",
   "pygments_lexer": "ipython3",
   "version": "3.6.7"
  },
  "rise": {
   "theme": "white"
  }
 },
 "nbformat": 4,
 "nbformat_minor": 2
}
