{
 "cells": [
  {
   "cell_type": "code",
   "execution_count": 1,
   "metadata": {},
   "outputs": [],
   "source": [
    "#%matplotlib notebook"
   ]
  },
  {
   "cell_type": "code",
   "execution_count": 2,
   "metadata": {},
   "outputs": [],
   "source": [
    "import ipywidgets as widgets"
   ]
  },
  {
   "cell_type": "code",
   "execution_count": 3,
   "metadata": {},
   "outputs": [],
   "source": [
    "import compas\n",
    "from compas_plotters import Plotter\n",
    "from matplotlib.patches import Circle\n",
    "from random import randint"
   ]
  },
  {
   "cell_type": "code",
   "execution_count": 4,
   "metadata": {
    "scrolled": false
   },
   "outputs": [
    {
     "data": {
      "image/png": "[encoded data removed]",
      "text/plain": [
       "<Figure size 500x300 with 1 Axes>"
      ]
     },
     "metadata": {},
     "output_type": "display_data"
    },
    {
     "data": {
      "application/vnd.jupyter.widget-view+json": {
       "model_id": "9b08add004a84e4f92e765d79036ff1e",
       "version_major": 2,
       "version_minor": 0
      },
      "text/plain": [
       "interactive(children=(IntSlider(value=5, description='x', max=8, min=2), Output()), _dom_classes=('widget-inte…"
      ]
     },
     "metadata": {},
     "output_type": "display_data"
    }
   ],
   "source": [
    "plotter = Plotter(figsize=(5, 3))\n",
    "\n",
    "plotter.axes.set_xlim((0, 10))\n",
    "plotter.axes.set_ylim((0, 10))\n",
    "\n",
    "c1 = plotter.axes.add_artist(Circle((5, 5), 0.3))\n",
    "c2 = plotter.axes.add_artist(Circle((5, 5), 0.3))\n",
    "\n",
    "def move(x, y):\n",
    "    c1.center = x, y\n",
    "    c2.center = x + 1, y\n",
    "    c2.radius = 0.1 * x\n",
    "    plotter.figure.canvas.draw()\n",
    "\n",
    "f = widgets.interact(move, x=(2, 8), y=widgets.fixed(5))\n"
   ]
  },
  {
   "cell_type": "markdown",
   "metadata": {},
   "source": [
    "## To Do"
   ]
  },
  {
   "cell_type": "markdown",
   "metadata": {},
   "source": [
    "Switch drawing of points to drawing of `Circle Artists` instead of `Patches`.\n",
    "* https://matplotlib.org/3.1.1/api/axes_api.html\n",
    "* https://matplotlib.org/3.1.1/api/artist_api.html#matplotlib.artist.Artist"
   ]
  },
  {
   "cell_type": "markdown",
   "metadata": {},
   "source": [
    "Keep track of a collection of `Circles` to draw."
   ]
  },
  {
   "cell_type": "markdown",
   "metadata": {},
   "source": [
    "Add the following methods to accomplish this:\n",
    "* set_points\n",
    "* get_points\n",
    "* add_point\n",
    "* remove_point\n",
    "* set_point_size\n",
    "* set_point_location"
   ]
  }
 ],
 "metadata": {
  "kernelspec": {
   "display_name": "Python [conda env:ita19] *",
   "language": "python",
   "name": "conda-env-ita19-py"
  },
  "language_info": {
   "codemirror_mode": {
    "name": "ipython",
    "version": 3
   },
   "file_extension": ".py",
   "mimetype": "text/x-python",
   "name": "python",
   "nbconvert_exporter": "python",
   "pygments_lexer": "ipython3",
   "version": "3.7.3"
  }
 },
 "nbformat": 4,
 "nbformat_minor": 2
}
