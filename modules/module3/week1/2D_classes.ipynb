{
 "cells": [
  {
   "cell_type": "code",
   "execution_count": 25,
   "metadata": {
    "slideshow": {
     "slide_type": "fragment"
    }
   },
   "outputs": [],
   "source": [
    "class Rectangle(object):\n",
    "    def __init__(self, px, py, w, h):\n",
    "        self.px = px\n",
    "        self.py = py\n",
    "        self.w  = w\n",
    "        self.h  = h\n",
    "    \n",
    "    def get_distance(self, x, y):\n",
    "        return max(abs(self.px - x) - self.w/2, abs(self.py - y) - self.h/2)"
   ]
  },
  {
   "cell_type": "code",
   "execution_count": 24,
   "metadata": {},
   "outputs": [],
   "source": [
    "class Circle(object):\n",
    "    def __init__(self, px, py, r):\n",
    "        self.px = px\n",
    "        self.py = py\n",
    "        self.r  = r\n",
    "    \n",
    "    def get_distance(self, x, y):\n",
    "        return math.sqrt((self.px - x)**2 + (self.py - y)**2) - self.r"
   ]
  },
  {
   "cell_type": "code",
   "execution_count": 101,
   "metadata": {
    "slideshow": {
     "slide_type": "fragment"
    }
   },
   "outputs": [],
   "source": [
    "class Union(object):\n",
    "    def __init__(self, objs=None):\n",
    "        if not objs:\n",
    "            self.objs = []\n",
    "        else:\n",
    "            self.objs = objs\n",
    "    \n",
    "    def get_distance(self, x, y):\n",
    "        d = [o.get_distance(x,y) for o in self.objs]\n",
    "        return min(d)"
   ]
  },
  {
   "cell_type": "code",
   "execution_count": 68,
   "metadata": {
    "cell_style": "split",
    "slideshow": {
     "slide_type": "slide"
    }
   },
   "outputs": [],
   "source": [
    "class Intersection(object):\n",
    "    def __init__(self, objs=None):\n",
    "        if not objs:\n",
    "            self.objs = []\n",
    "        else:\n",
    "            self.objs = objs\n",
    "    \n",
    "    def get_distance(self, x, y):\n",
    "        d = [o.get_distance(x,y) for o in self.objs]\n",
    "        return max(d)"
   ]
  },
  {
   "cell_type": "code",
   "execution_count": 82,
   "metadata": {
    "cell_style": "split",
    "slideshow": {
     "slide_type": "fragment"
    }
   },
   "outputs": [],
   "source": [
    "class Subtraction(object):\n",
    "    def __init__(self, a, b):\n",
    "        self.a = a\n",
    "        self.b = b\n",
    "    \n",
    "    def get_distance(self, x, y):\n",
    "        da = self.a.get_distance(x,y)\n",
    "        db = self.b.get_distacne(x,y)\n",
    "        return max(da, -db)"
   ]
  },
  {
   "cell_type": "code",
   "execution_count": 75,
   "metadata": {
    "cell_style": "split",
    "slideshow": {
     "slide_type": "-"
    }
   },
   "outputs": [],
   "source": [
    "class Lattice(object):\n",
    "    def __init__(self, wl=1.):\n",
    "        self.wl = wl\n",
    "    \n",
    "    def get_distance(self, x, y):\n",
    "        d = math.sin(x * math.pi / self.wl) + math.sin(y * math.pi / self.wl)\n",
    "        return abs(d)-0.4"
   ]
  },
  {
   "cell_type": "code",
   "execution_count": 69,
   "metadata": {
    "cell_style": "split",
    "slideshow": {
     "slide_type": "fragment"
    }
   },
   "outputs": [],
   "source": [
    "class Shell(object):\n",
    "    def __init__(self, obj=None, d=1.):\n",
    "        self.obj = obj\n",
    "        self.d = d\n",
    "    \n",
    "    def get_distance(self, x, y):\n",
    "        return abs(self.obj.get_distance(x, y)) - self.d"
   ]
  },
  {
   "cell_type": "code",
   "execution_count": 165,
   "metadata": {
    "cell_style": "split",
    "slideshow": {
     "slide_type": "fragment"
    }
   },
   "outputs": [],
   "source": [
    "class Overlay(object):\n",
    "    def __init__(self, a, b, f):\n",
    "        self.a = a\n",
    "        self.b = b\n",
    "        self.f = f\n",
    "    \n",
    "    def get_distance(self, x, y):\n",
    "        da = self.a.get_distance(x,y)\n",
    "        db = self.b.get_distance(x,y)\n",
    "        return da + self.f * db"
   ]
  },
  {
   "cell_type": "code",
   "execution_count": null,
   "metadata": {},
   "outputs": [],
   "source": []
  }
 ],
 "metadata": {
  "kernelspec": {
   "display_name": "Python 3",
   "language": "python",
   "name": "python3"
  },
  "language_info": {
   "codemirror_mode": {
    "name": "ipython",
    "version": 3
   },
   "file_extension": ".py",
   "mimetype": "text/x-python",
   "name": "python",
   "nbconvert_exporter": "python",
   "pygments_lexer": "ipython3",
   "version": "3.6.7"
  }
 },
 "nbformat": 4,
 "nbformat_minor": 2
}
