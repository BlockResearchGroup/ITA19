{
 "cells": [
  {
   "cell_type": "code",
   "execution_count": 1,
   "metadata": {},
   "outputs": [],
   "source": [
    "import numpy as np\n",
    "import ipyvolume as ipv\n",
    "from compas.geometry import Point, Frame, Box, Sphere\n",
    "from compas_vol.primitives import VolBox, VolSphere\n",
    "from compas_vol.combinations import Union"
   ]
  },
  {
   "cell_type": "code",
   "execution_count": 2,
   "metadata": {},
   "outputs": [],
   "source": [
    "from compas.geometry import Point, Frame, Box, Sphere"
   ]
  },
  {
   "cell_type": "code",
   "execution_count": 3,
   "metadata": {},
   "outputs": [
    {
     "data": {
      "text/plain": [
       "'0.11.2-68622856'"
      ]
     },
     "execution_count": 3,
     "metadata": {},
     "output_type": "execute_result"
    }
   ],
   "source": [
    "import compas\n",
    "compas.__version__"
   ]
  },
  {
   "cell_type": "code",
   "execution_count": 4,
   "metadata": {},
   "outputs": [
    {
     "data": {
      "text/plain": [
       "'0.1.0'"
      ]
     },
     "execution_count": 4,
     "metadata": {},
     "output_type": "execute_result"
    }
   ],
   "source": [
    "import compas_vol\n",
    "compas_vol.__version__"
   ]
  },
  {
   "cell_type": "code",
   "execution_count": 6,
   "metadata": {},
   "outputs": [],
   "source": [
    "box = Box(Frame(Point(2,3,1), (1,0.2,-0.3), (0,1,0.4)), 25, 20, 15)\n",
    "vbox = VolBox(box, 4.0)"
   ]
  },
  {
   "cell_type": "code",
   "execution_count": 7,
   "metadata": {},
   "outputs": [
    {
     "data": {
      "text/plain": [
       "0.11752446224117374"
      ]
     },
     "execution_count": 7,
     "metadata": {},
     "output_type": "execute_result"
    }
   ],
   "source": [
    "vbox.get_distance(Point(7,6,9))"
   ]
  },
  {
   "cell_type": "code",
   "execution_count": 8,
   "metadata": {},
   "outputs": [],
   "source": [
    "x, y, z = np.ogrid[-20:20:128j,-20:20:128j,-20:20:128j]"
   ]
  },
  {
   "cell_type": "code",
   "execution_count": 9,
   "metadata": {},
   "outputs": [
    {
     "data": {
      "text/plain": [
       "(128, 1, 1)"
      ]
     },
     "execution_count": 9,
     "metadata": {},
     "output_type": "execute_result"
    }
   ],
   "source": [
    "x.shape"
   ]
  },
  {
   "cell_type": "code",
   "execution_count": 10,
   "metadata": {},
   "outputs": [],
   "source": [
    "dm = vbox.get_distance_numpy(x, y, z)"
   ]
  },
  {
   "cell_type": "code",
   "execution_count": 11,
   "metadata": {},
   "outputs": [
    {
     "data": {
      "text/plain": [
       "(128, 128, 128)"
      ]
     },
     "execution_count": 11,
     "metadata": {},
     "output_type": "execute_result"
    }
   ],
   "source": [
    "dm.shape"
   ]
  },
  {
   "cell_type": "code",
   "execution_count": 12,
   "metadata": {},
   "outputs": [
    {
     "data": {
      "application/vnd.jupyter.widget-view+json": {
       "model_id": "6cb72de06bc8474da2a00abf0c8e9085",
       "version_major": 2,
       "version_minor": 0
      },
      "text/plain": [
       "VBox(children=(VBox(children=(HBox(children=(Label(value='levels:'), FloatSlider(value=0.1, max=1.0, step=0.00…"
      ]
     },
     "metadata": {},
     "output_type": "display_data"
    }
   ],
   "source": [
    "fig = ipv.figure()\n",
    "ipv.volshow(dm)\n",
    "ipv.show()"
   ]
  },
  {
   "cell_type": "code",
   "execution_count": 13,
   "metadata": {},
   "outputs": [
    {
     "data": {
      "application/vnd.jupyter.widget-view+json": {
       "model_id": "275f70c14f7b4ea29c7502a713151d3c",
       "version_major": 2,
       "version_minor": 0
      },
      "text/plain": [
       "VBox(children=(Figure(camera=PerspectiveCamera(fov=46.0, position=(0.0, 0.0, 2.0), quaternion=(0.0, 0.0, 0.0, …"
      ]
     },
     "metadata": {},
     "output_type": "display_data"
    }
   ],
   "source": [
    "fig = ipv.figure()\n",
    "mesh = ipv.plot_isosurface(dm, 0.0, color='white')\n",
    "ipv.show()"
   ]
  },
  {
   "cell_type": "code",
   "execution_count": 14,
   "metadata": {},
   "outputs": [],
   "source": [
    "sphere = Sphere(Point(-4,-4,-4), 15)\n",
    "vsphere = VolSphere(sphere)"
   ]
  },
  {
   "cell_type": "code",
   "execution_count": 15,
   "metadata": {},
   "outputs": [],
   "source": [
    "union = Union(vbox, vsphere)"
   ]
  },
  {
   "cell_type": "code",
   "execution_count": 16,
   "metadata": {},
   "outputs": [],
   "source": [
    "dm2 = union.get_distance_numpy(x, y, z)"
   ]
  },
  {
   "cell_type": "code",
   "execution_count": 17,
   "metadata": {},
   "outputs": [
    {
     "data": {
      "application/vnd.jupyter.widget-view+json": {
       "model_id": "23e328e579c34c0abf42702e93959d67",
       "version_major": 2,
       "version_minor": 0
      },
      "text/plain": [
       "VBox(children=(Figure(camera=PerspectiveCamera(fov=46.0, position=(0.0, 0.0, 2.0), quaternion=(0.0, 0.0, 0.0, …"
      ]
     },
     "metadata": {},
     "output_type": "display_data"
    }
   ],
   "source": [
    "fig = ipv.figure()\n",
    "mesh = ipv.plot_isosurface(dm2, 0.0, color='white', extent=[(-20,20) for _ in range(3)])\n",
    "ipv.style.use('minimal')\n",
    "ipv.show()"
   ]
  },
  {
   "cell_type": "code",
   "execution_count": 18,
   "metadata": {},
   "outputs": [],
   "source": [
    "from compas_vol.microstructures import Lattice\n",
    "from compas_vol.combinations import Intersection"
   ]
  },
  {
   "cell_type": "code",
   "execution_count": 19,
   "metadata": {
    "scrolled": true
   },
   "outputs": [
    {
     "name": "stdout",
     "output_type": "stream",
     "text": [
      "Help on class Lattice in module compas_vol.microstructures.lattice:\n",
      "\n",
      "class Lattice(builtins.object)\n",
      " |  A lattice is defined by it's type, size of a unit cell and its strut diameter.\n",
      " |  Optionally, a frame can be specified to modify orientation and origin.\n",
      " |  \n",
      " |  Parameters\n",
      " |  ----------\n",
      " |  ltype : int\n",
      " |      The index to the type of lattice.\n",
      " |      A dictionary with indices and corresponding type names can be retrieved with the property `typenames`.\n",
      " |  unitcell : float\n",
      " |      The edgelength of a cubic unit cell.\n",
      " |  thickness : float\n",
      " |      The diameter of the struts.\n",
      " |  \n",
      " |  Examples\n",
      " |  --------\n",
      " |  >>> from compas_vol.microstructure import Lattice\n",
      " |  >>> lat = Lattice(5, 5.0, 0.3)\n",
      " |  >>> lat.frame = Frame((1, 0, 0), (1, 0.2, 0.1), (-0.3, 1, 0.2))\n",
      " |  \n",
      " |  Methods defined here:\n",
      " |  \n",
      " |  __init__(self, ltype=0, unitcell=1.0, thickness=0.1)\n",
      " |      Initialize self.  See help(type(self)) for accurate signature.\n",
      " |  \n",
      " |  create_points(self)\n",
      " |      Creates a list of 20 points (xyz tuples) as possible strut anchors.\n",
      " |      The points are on the vertices (0-7) and edge centres (8-19) of a unit cell octant.\n",
      " |  \n",
      " |  create_types(self)\n",
      " |      A lattice type is defined by a list of index tuples.\n",
      " |      The indices refer to `self.pointlist`, generated by `create_points` and specify start and end of each strut.\n",
      " |  \n",
      " |  get_distance(self, point)\n",
      " |      single point distance function\n",
      " |  \n",
      " |  get_distance_numpy(self, x, y, z)\n",
      " |      vectorized distance function\n",
      " |  \n",
      " |  ----------------------------------------------------------------------\n",
      " |  Data descriptors defined here:\n",
      " |  \n",
      " |  __dict__\n",
      " |      dictionary for instance variables (if defined)\n",
      " |  \n",
      " |  __weakref__\n",
      " |      list of weak references to the object (if defined)\n",
      " |  \n",
      " |  frame\n",
      " |      Frame: The lattice's frame.\n",
      " |  \n",
      " |  lattice_type\n",
      " |  \n",
      " |  ltype\n",
      " |  \n",
      " |  typenames\n",
      "\n"
     ]
    }
   ],
   "source": [
    "help(Lattice)"
   ]
  },
  {
   "cell_type": "code",
   "execution_count": 20,
   "metadata": {},
   "outputs": [],
   "source": [
    "lattice = Lattice(1, 7.0, 2.0)"
   ]
  },
  {
   "cell_type": "code",
   "execution_count": 21,
   "metadata": {},
   "outputs": [
    {
     "data": {
      "text/plain": [
       "{0: 'bigx',\n",
       " 1: 'grid',\n",
       " 2: 'star',\n",
       " 3: 'cross',\n",
       " 4: 'octagon',\n",
       " 5: 'octet',\n",
       " 6: 'vintile',\n",
       " 7: 'dual',\n",
       " 8: 'interlock',\n",
       " 9: 'isotrop',\n",
       " 10: 'hexgrid'}"
      ]
     },
     "execution_count": 21,
     "metadata": {},
     "output_type": "execute_result"
    }
   ],
   "source": [
    "lattice.typenames"
   ]
  },
  {
   "cell_type": "code",
   "execution_count": 23,
   "metadata": {},
   "outputs": [],
   "source": [
    "lattice.type = 5\n",
    "lattice.unitcell = 6\n",
    "lattice.thickness = 1\n",
    "intersection = Intersection(union, lattice)"
   ]
  },
  {
   "cell_type": "code",
   "execution_count": 25,
   "metadata": {},
   "outputs": [],
   "source": [
    "dm3 = intersection.get_distance_numpy(x,y,z)"
   ]
  },
  {
   "cell_type": "code",
   "execution_count": 26,
   "metadata": {},
   "outputs": [
    {
     "data": {
      "application/vnd.jupyter.widget-view+json": {
       "model_id": "65070ff5198e44b99c85c81d5873ecc4",
       "version_major": 2,
       "version_minor": 0
      },
      "text/plain": [
       "VBox(children=(Figure(camera=PerspectiveCamera(fov=46.0, position=(0.0, 0.0, 2.0), quaternion=(0.0, 0.0, 0.0, …"
      ]
     },
     "metadata": {},
     "output_type": "display_data"
    }
   ],
   "source": [
    "fig = ipv.figure()\n",
    "mesh = ipv.plot_isosurface(dm3, 0.0, color='white', extent=[(-20,20) for _ in range(3)])\n",
    "ipv.style.use('minimal')\n",
    "ipv.show()"
   ]
  },
  {
   "cell_type": "code",
   "execution_count": 27,
   "metadata": {},
   "outputs": [],
   "source": [
    "from compas_vol.modifications import Shell"
   ]
  },
  {
   "cell_type": "code",
   "execution_count": 28,
   "metadata": {},
   "outputs": [],
   "source": [
    "shell = Shell(union, 1.5, 0.5)\n",
    "union_complete = Union(intersection, shell)"
   ]
  },
  {
   "cell_type": "code",
   "execution_count": 29,
   "metadata": {},
   "outputs": [],
   "source": [
    "dm4 = union_complete.get_distance_numpy(x,y,z)"
   ]
  },
  {
   "cell_type": "code",
   "execution_count": 30,
   "metadata": {},
   "outputs": [
    {
     "data": {
      "application/vnd.jupyter.widget-view+json": {
       "model_id": "04972dc61f1241f581899ff9a7e9d454",
       "version_major": 2,
       "version_minor": 0
      },
      "text/plain": [
       "VBox(children=(Figure(camera=PerspectiveCamera(fov=46.0, position=(0.0, 0.0, 2.0), quaternion=(0.0, 0.0, 0.0, …"
      ]
     },
     "metadata": {},
     "output_type": "display_data"
    }
   ],
   "source": [
    "fig = ipv.figure()\n",
    "mesh = ipv.plot_isosurface(dm4, 0.0, color='white', extent=[(-20,20) for _ in range(3)])\n",
    "ipv.style.use('minimal')\n",
    "ipv.show()"
   ]
  },
  {
   "cell_type": "code",
   "execution_count": 31,
   "metadata": {},
   "outputs": [],
   "source": [
    "from compas_vol.utilities import export_ipv_mesh"
   ]
  },
  {
   "cell_type": "code",
   "execution_count": 32,
   "metadata": {},
   "outputs": [],
   "source": [
    "export_ipv_mesh(mesh, '/Users/bernham/Desktop/union_complete.obj')"
   ]
  },
  {
   "cell_type": "code",
   "execution_count": 33,
   "metadata": {},
   "outputs": [],
   "source": [
    "from compas_vol.primitives import VolPlane, VolCylinder\n",
    "from compas_vol.microstructures import TPMS\n",
    "from compas.geometry import Plane, Cylinder, Circle\n",
    "from compas_vol.combinations import Subtraction\n",
    "from compas_vol.modifications import Overlay"
   ]
  },
  {
   "cell_type": "code",
   "execution_count": 34,
   "metadata": {},
   "outputs": [],
   "source": [
    "handlebox = VolBox(Box(Frame.worldXY(), 250, 30, 10), 1.5)\n",
    "endcap = VolCylinder(Cylinder(Circle(Plane((125,0,0), (0,0,1)), 15), 10))\n",
    "handle = Union(handlebox, endcap)"
   ]
  },
  {
   "cell_type": "code",
   "execution_count": 35,
   "metadata": {},
   "outputs": [],
   "source": [
    "rx, ry, rz = np.ogrid[-130:145:550j, -16:16:64j, -8:8:32j]"
   ]
  },
  {
   "cell_type": "code",
   "execution_count": 36,
   "metadata": {},
   "outputs": [],
   "source": [
    "dmhandle = handle.get_distance_numpy(rx, ry, rz)"
   ]
  },
  {
   "cell_type": "code",
   "execution_count": 37,
   "metadata": {
    "scrolled": true
   },
   "outputs": [
    {
     "data": {
      "application/vnd.jupyter.widget-view+json": {
       "model_id": "706542d9b55d4571ab1867ca8bc0f052",
       "version_major": 2,
       "version_minor": 0
      },
      "text/plain": [
       "VBox(children=(Figure(camera=PerspectiveCamera(fov=46.0, position=(0.0, 0.0, 2.0), quaternion=(0.0, 0.0, 0.0, …"
      ]
     },
     "metadata": {},
     "output_type": "display_data"
    }
   ],
   "source": [
    "ipv.figure(width=800, height=450)\n",
    "mesh = ipv.plot_isosurface(dmhandle, 0.0, extent=[[-130,145], [-16,16], [-8,8]], color='pink')\n",
    "ipv.xyzlim(145)\n",
    "ipv.style.use('minimal')\n",
    "ipv.show()"
   ]
  },
  {
   "cell_type": "code",
   "execution_count": 38,
   "metadata": {},
   "outputs": [],
   "source": [
    "gyroid = TPMS(tpmstype='Gyroid', wavelength=5.0)\n",
    "shell = Shell(gyroid, 2.0, 0.5)\n",
    "vplane = VolPlane(Plane((0,0,0), (1,0,0)))\n",
    "thickening = Overlay(shell, vplane, 0.005)\n",
    "taper = Overlay(handle, vplane, -0.01)\n",
    "intersection = Intersection(thickening, taper)\n",
    "outercylinder = VolCylinder(Cylinder(Circle(Plane((125,0,0), (0,0,1)), 12), 13))\n",
    "innercylinder = VolCylinder(Cylinder(Circle(Plane((125,0,0), (0,0,1)), 10), 20))\n",
    "add = Union(intersection, outercylinder)\n",
    "finalresult = Subtraction(add, innercylinder)"
   ]
  },
  {
   "cell_type": "code",
   "execution_count": 39,
   "metadata": {},
   "outputs": [],
   "source": [
    "wrenchdm = finalresult.get_distance_numpy(rx, ry, rz)"
   ]
  },
  {
   "cell_type": "code",
   "execution_count": 41,
   "metadata": {},
   "outputs": [
    {
     "data": {
      "application/vnd.jupyter.widget-view+json": {
       "model_id": "68d79db988d64e1891d85a7abcf2eddd",
       "version_major": 2,
       "version_minor": 0
      },
      "text/plain": [
       "VBox(children=(Figure(camera=PerspectiveCamera(fov=46.0, position=(0.0, 0.0, 2.0), quaternion=(0.0, 0.0, 0.0, …"
      ]
     },
     "metadata": {},
     "output_type": "display_data"
    }
   ],
   "source": [
    "ipv.figure(width=800, height=450)\n",
    "mesh = ipv.plot_isosurface(wrenchdm, 0.0, extent=[[-130,145], [-16,16], [-8,8]], color='pink')\n",
    "ipv.xyzlim(145)\n",
    "ipv.style.use('minimal')\n",
    "ipv.show()"
   ]
  },
  {
   "cell_type": "code",
   "execution_count": 43,
   "metadata": {},
   "outputs": [],
   "source": [
    "export_ipv_mesh(mesh, 'wrench.obj')"
   ]
  },
  {
   "cell_type": "code",
   "execution_count": null,
   "metadata": {},
   "outputs": [],
   "source": []
  }
 ],
 "metadata": {
  "kernelspec": {
   "display_name": "Python 3",
   "language": "python",
   "name": "python3"
  },
  "language_info": {
   "codemirror_mode": {
    "name": "ipython",
    "version": 3
   },
   "file_extension": ".py",
   "mimetype": "text/x-python",
   "name": "python",
   "nbconvert_exporter": "python",
   "pygments_lexer": "ipython3",
   "version": "3.6.7"
  }
 },
 "nbformat": 4,
 "nbformat_minor": 2
}
