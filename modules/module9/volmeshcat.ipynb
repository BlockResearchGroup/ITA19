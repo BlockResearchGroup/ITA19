{
 "cells": [
  {
   "cell_type": "code",
   "execution_count": 1,
   "metadata": {},
   "outputs": [],
   "source": [
    "import meshcat\n",
    "import meshcat.geometry as g"
   ]
  },
  {
   "cell_type": "code",
   "execution_count": 2,
   "metadata": {},
   "outputs": [
    {
     "name": "stdout",
     "output_type": "stream",
     "text": [
      "You can open the visualizer by visiting the following URL:\n",
      "http://127.0.0.1:7006/static/\n"
     ]
    },
    {
     "data": {
      "text/html": [
       "\n",
       "<div style=\"height: 400px; width: 600px; overflow-x: auto; overflow-y: hidden; resize: both\">\n",
       "<iframe src=\"http://127.0.0.1:7006/static/\" style=\"width: 100%; height: 100%; border: none\"></iframe>\n",
       "</div>\n"
      ],
      "text/plain": [
       "<IPython.core.display.HTML object>"
      ]
     },
     "execution_count": 2,
     "metadata": {},
     "output_type": "execute_result"
    }
   ],
   "source": [
    "vis = meshcat.Visualizer()\n",
    "vis.jupyter_cell()"
   ]
  },
  {
   "cell_type": "code",
   "execution_count": 3,
   "metadata": {},
   "outputs": [],
   "source": [
    "vis.set_object(g.Box([0.1, 0.1, 0.2]))"
   ]
  },
  {
   "cell_type": "code",
   "execution_count": 4,
   "metadata": {},
   "outputs": [],
   "source": [
    "vis.delete()"
   ]
  },
  {
   "cell_type": "code",
   "execution_count": 8,
   "metadata": {},
   "outputs": [],
   "source": [
    "objstring = 'v 0 0 0\\nv 10 0 0\\nv 5 10 5\\nf 1 2 3'\n",
    "vis.set_object(g.MeshGeometry(objstring, 'obj'))"
   ]
  },
  {
   "cell_type": "code",
   "execution_count": 9,
   "metadata": {},
   "outputs": [
    {
     "name": "stdout",
     "output_type": "stream",
     "text": [
      "v 0 0 0\n",
      "v 10 0 0\n",
      "v 5 10 5\n",
      "f 1 2 3\n"
     ]
    }
   ],
   "source": [
    "print(objstring)"
   ]
  },
  {
   "cell_type": "code",
   "execution_count": 13,
   "metadata": {},
   "outputs": [],
   "source": [
    "import numpy as np\n",
    "from compas.geometry import Point, Frame, Box\n",
    "from compas_vol.primitives import VolBox"
   ]
  },
  {
   "cell_type": "code",
   "execution_count": 11,
   "metadata": {},
   "outputs": [],
   "source": [
    "from skimage.measure import marching_cubes_lewiner"
   ]
  },
  {
   "cell_type": "code",
   "execution_count": 14,
   "metadata": {},
   "outputs": [],
   "source": [
    "box = Box(Frame(Point(0, 0, 0), [1, 0.2, 0.1], [-0.1, 1, 0.1]), 20, 15, 10)\n",
    "vb = VolBox(box, 2.0)\n",
    "\n",
    "x, y, z = np.ogrid[-15:15:60j, -15:15:60j, -15:15:60j]\n",
    "d = vb.get_distance_numpy(x, y, z)"
   ]
  },
  {
   "cell_type": "code",
   "execution_count": 23,
   "metadata": {},
   "outputs": [],
   "source": [
    "verts, faces, normals, values = marching_cubes_lewiner(d, 0.0, spacing=(0.5,0.5,0.5), step_size=3)"
   ]
  },
  {
   "cell_type": "code",
   "execution_count": 24,
   "metadata": {},
   "outputs": [
    {
     "data": {
      "text/plain": [
       "(634, 3)"
      ]
     },
     "execution_count": 24,
     "metadata": {},
     "output_type": "execute_result"
    }
   ],
   "source": [
    "verts.shape"
   ]
  },
  {
   "cell_type": "code",
   "execution_count": 25,
   "metadata": {},
   "outputs": [
    {
     "data": {
      "text/plain": [
       "array([[ 4.44883156, 15.        , 16.5       ],\n",
       "       [ 4.5       , 14.74415874, 16.5       ],\n",
       "       [ 4.5       , 15.        , 15.98831749],\n",
       "       [ 4.5       , 15.        , 17.04547119],\n",
       "       [ 4.44883156, 16.5       , 13.5       ],\n",
       "       [ 4.5       , 16.24415779, 13.5       ],\n",
       "       [ 4.5       , 16.5       , 12.98831749],\n",
       "       [ 4.29883194, 16.5       , 15.        ],\n",
       "       [ 4.5       , 15.49415874, 15.        ],\n",
       "       [ 4.14883184, 16.5       , 16.5       ]])"
      ]
     },
     "execution_count": 25,
     "metadata": {},
     "output_type": "execute_result"
    }
   ],
   "source": [
    "verts[:10]"
   ]
  },
  {
   "cell_type": "code",
   "execution_count": 33,
   "metadata": {},
   "outputs": [
    {
     "name": "stdout",
     "output_type": "stream",
     "text": [
      "v 4.448832 15.000000 16.500000\n",
      "v 4.500000 14.744159 16.500000\n",
      "v 4.500000 15.000000 15.988317\n",
      "v 4.500000 15.000000 17.045471\n",
      "v 4.448832 16.500000 13.500000\n",
      "v 4.500000 16.244158 13.500000\n",
      "v 4.500000 16.500000 12.988317\n",
      "v 4.298832 16.500000 15.000000\n",
      "v 4.500000 15.494159 15.000000\n",
      "v 4.148832 16.500000 16.500000\n"
     ]
    }
   ],
   "source": [
    "for v in verts[:10]:\n",
    "    print('v %f %f %f' % (v[0], v[1], v[2]))"
   ]
  },
  {
   "cell_type": "code",
   "execution_count": 37,
   "metadata": {},
   "outputs": [
    {
     "name": "stdout",
     "output_type": "stream",
     "text": [
      "v 4.449 15.000 16.500\n",
      "v 4.500 14.744 16.500\n",
      "v 4.500 15.000 15.988\n",
      "v 4.500 15.000 17.045\n",
      "v 4.449 16.500 13.500\n",
      "v 4.500 16.244 13.500\n",
      "v 4.500 16.500 12.988\n",
      "v 4.299 16.500 15.000\n",
      "v 4.500 15.494 15.000\n",
      "v 4.149 16.500 16.500\n"
     ]
    }
   ],
   "source": [
    "for v in verts[:10]:\n",
    "    print('v {:.3f} {:.3f} {:.3f}'.format(v[0], v[1], v[2]))"
   ]
  },
  {
   "cell_type": "code",
   "execution_count": 38,
   "metadata": {},
   "outputs": [
    {
     "name": "stdout",
     "output_type": "stream",
     "text": [
      "f 2 1 0\n",
      "f 3 0 1\n",
      "f 6 5 4\n",
      "f 8 7 4\n",
      "f 8 4 5\n",
      "f 7 8 2\n",
      "f 0 7 2\n",
      "f 9 7 0\n",
      "f 0 3 10\n",
      "f 11 0 10\n"
     ]
    }
   ],
   "source": [
    "for v in faces[:10]:\n",
    "    print('f {} {} {}'.format(v[0], v[1], v[2]))"
   ]
  },
  {
   "cell_type": "code",
   "execution_count": 26,
   "metadata": {},
   "outputs": [
    {
     "data": {
      "text/plain": [
       "(1264, 3)"
      ]
     },
     "execution_count": 26,
     "metadata": {},
     "output_type": "execute_result"
    }
   ],
   "source": [
    "faces.shape"
   ]
  },
  {
   "cell_type": "code",
   "execution_count": 27,
   "metadata": {},
   "outputs": [
    {
     "data": {
      "text/plain": [
       "array([[ 2,  1,  0],\n",
       "       [ 3,  0,  1],\n",
       "       [ 6,  5,  4],\n",
       "       [ 8,  7,  4],\n",
       "       [ 8,  4,  5],\n",
       "       [ 7,  8,  2],\n",
       "       [ 0,  7,  2],\n",
       "       [ 9,  7,  0],\n",
       "       [ 0,  3, 10],\n",
       "       [11,  0, 10]], dtype=int32)"
      ]
     },
     "execution_count": 27,
     "metadata": {},
     "output_type": "execute_result"
    }
   ],
   "source": [
    "faces[:10]"
   ]
  },
  {
   "cell_type": "code",
   "execution_count": 21,
   "metadata": {},
   "outputs": [
    {
     "data": {
      "text/plain": [
       "(5708,)"
      ]
     },
     "execution_count": 21,
     "metadata": {},
     "output_type": "execute_result"
    }
   ],
   "source": [
    "values.shape"
   ]
  },
  {
   "cell_type": "code",
   "execution_count": 22,
   "metadata": {},
   "outputs": [
    {
     "data": {
      "text/plain": [
       "array([0.64508647, 0.6450865 , 0.6450865 , 0.6934849 , 0.7152725 ,\n",
       "       0.7152725 , 0.6450865 , 0.6450865 , 0.6450865 , 0.6450865 ],\n",
       "      dtype=float32)"
      ]
     },
     "execution_count": 22,
     "metadata": {},
     "output_type": "execute_result"
    }
   ],
   "source": [
    "values[:10]"
   ]
  },
  {
   "cell_type": "code",
   "execution_count": null,
   "metadata": {},
   "outputs": [],
   "source": []
  }
 ],
 "metadata": {
  "kernelspec": {
   "display_name": "Python 3",
   "language": "python",
   "name": "python3"
  },
  "language_info": {
   "codemirror_mode": {
    "name": "ipython",
    "version": 3
   },
   "file_extension": ".py",
   "mimetype": "text/x-python",
   "name": "python",
   "nbconvert_exporter": "python",
   "pygments_lexer": "ipython3",
   "version": "3.7.3"
  }
 },
 "nbformat": 4,
 "nbformat_minor": 2
}
