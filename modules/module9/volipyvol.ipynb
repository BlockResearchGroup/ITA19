{
 "cells": [
  {
   "cell_type": "code",
   "execution_count": 1,
   "metadata": {
    "slideshow": {
     "slide_type": "skip"
    }
   },
   "outputs": [],
   "source": [
    "import numpy as np\n",
    "import ipyvolume as ipv"
   ]
  },
  {
   "cell_type": "code",
   "execution_count": 2,
   "metadata": {
    "slideshow": {
     "slide_type": "skip"
    }
   },
   "outputs": [],
   "source": [
    "from compas.geometry import Point, Frame, Box\n",
    "from compas_vol.primitives import VolBox"
   ]
  },
  {
   "cell_type": "markdown",
   "metadata": {
    "slideshow": {
     "slide_type": "slide"
    }
   },
   "source": [
    "# Render a Box"
   ]
  },
  {
   "cell_type": "code",
   "execution_count": 3,
   "metadata": {
    "slideshow": {
     "slide_type": "-"
    }
   },
   "outputs": [],
   "source": [
    "box = Box(Frame(Point(0, 0, 0), [1, 0.2, 0.1], [-0.1, 1, 0.1]), 20, 15, 10)\n",
    "vb = VolBox(box, 2.0)\n",
    "\n",
    "x, y, z = np.ogrid[-15:15:60j, -15:15:50j, -15:15:40j]\n",
    "d = vb.get_distance_numpy(x, y, z)"
   ]
  },
  {
   "cell_type": "code",
   "execution_count": 4,
   "metadata": {
    "slideshow": {
     "slide_type": "fragment"
    }
   },
   "outputs": [
    {
     "data": {
      "application/vnd.jupyter.widget-view+json": {
       "model_id": "bd3b5b7e178747c4a5491ce621f44608",
       "version_major": 2,
       "version_minor": 0
      },
      "text/plain": [
       "VBox(children=(Figure(camera=PerspectiveCamera(fov=46.0, position=(0.0, 0.0, 2.0), quaternion=(0.0, 0.0, 0.0, …"
      ]
     },
     "metadata": {},
     "output_type": "display_data"
    }
   ],
   "source": [
    "fig = ipv.figure()\n",
    "mesh = ipv.plot_isosurface(d, 0.)\n",
    "ipv.show()"
   ]
  },
  {
   "cell_type": "code",
   "execution_count": 6,
   "metadata": {},
   "outputs": [
    {
     "data": {
      "application/vnd.jupyter.widget-view+json": {
       "model_id": "6992b3f998e5464d8148d5a17ffa82fc",
       "version_major": 2,
       "version_minor": 0
      },
      "text/plain": [
       "VBox(children=(Figure(camera=PerspectiveCamera(fov=46.0, position=(0.0, 0.0, 2.0), quaternion=(0.0, 0.0, 0.0, …"
      ]
     },
     "metadata": {},
     "output_type": "display_data"
    }
   ],
   "source": [
    "fig = ipv.figure()\n",
    "mesh = ipv.plot_isosurface(d[::5,::3,::3], 0., color=[])\n",
    "ipv.show()"
   ]
  },
  {
   "cell_type": "code",
   "execution_count": 5,
   "metadata": {
    "slideshow": {
     "slide_type": "slide"
    }
   },
   "outputs": [
    {
     "data": {
      "application/vnd.jupyter.widget-view+json": {
       "model_id": "b265d6c1efbc4fbdb43e541fbb09e734",
       "version_major": 2,
       "version_minor": 0
      },
      "text/plain": [
       "VBox(children=(VBox(children=(HBox(children=(Label(value='levels:'), FloatSlider(value=0.1, max=1.0, step=0.00…"
      ]
     },
     "metadata": {},
     "output_type": "display_data"
    }
   ],
   "source": [
    "ipv.figure(width=800,height=450)\n",
    "ipv.volshow(d)\n",
    "ipv.style.use('minimal')\n",
    "ipv.show()"
   ]
  },
  {
   "cell_type": "code",
   "execution_count": 6,
   "metadata": {},
   "outputs": [
    {
     "data": {
      "text/plain": [
       "(60, 50, 40)"
      ]
     },
     "execution_count": 6,
     "metadata": {},
     "output_type": "execute_result"
    }
   ],
   "source": [
    "d.shape"
   ]
  },
  {
   "cell_type": "code",
   "execution_count": 7,
   "metadata": {},
   "outputs": [
    {
     "data": {
      "text/plain": [
       "array([[14.10118358, 13.59785952, 13.11693629, 12.66061853, 12.23127333],\n",
       "       [13.79052604, 13.2769703 , 12.78561337, 12.31874071, 11.87882346],\n",
       "       [13.49783856, 12.9742482 , 12.47261726, 11.99530719, 11.54488937],\n",
       "       [13.22415762, 12.69081633, 12.17916166, 11.69162512, 11.23087311],\n",
       "       [12.97052565, 12.42781159, 11.90648368, 11.40903655, 10.938225  ]])"
      ]
     },
     "execution_count": 7,
     "metadata": {},
     "output_type": "execute_result"
    }
   ],
   "source": [
    "d[0,:5,:5]"
   ]
  },
  {
   "cell_type": "code",
   "execution_count": 8,
   "metadata": {},
   "outputs": [],
   "source": [
    "from compas_vol.combinations import Union"
   ]
  },
  {
   "cell_type": "code",
   "execution_count": 9,
   "metadata": {},
   "outputs": [],
   "source": [
    "import random"
   ]
  },
  {
   "cell_type": "code",
   "execution_count": 10,
   "metadata": {},
   "outputs": [],
   "source": [
    "bu = []\n",
    "for i in range(30):\n",
    "    p = Point(-15+random.random()*30,-15+random.random()*30,-15+random.random()*30)\n",
    "    box = Box(Frame(p, [random.random() for _ in range(3)], [random.random() for _ in range(3)]), 12, 9, 6)\n",
    "    vb = VolBox(box, 1.5)\n",
    "    bu.append(vb)\n",
    "u = Union(bu)"
   ]
  },
  {
   "cell_type": "code",
   "execution_count": 11,
   "metadata": {},
   "outputs": [],
   "source": [
    "x, y, z = np.ogrid[-15:15:100j, -15:15:100j, -15:15:100j]\n",
    "d2 = u.get_distance_numpy(x, y, z)"
   ]
  },
  {
   "cell_type": "code",
   "execution_count": 17,
   "metadata": {},
   "outputs": [
    {
     "data": {
      "application/vnd.jupyter.widget-view+json": {
       "model_id": "131f2b789b30485b843717fdab97fa35",
       "version_major": 2,
       "version_minor": 0
      },
      "text/plain": [
       "VBox(children=(VBox(children=(HBox(children=(Label(value='levels:'), FloatSlider(value=0.0, max=1.0, step=0.00…"
      ]
     },
     "metadata": {},
     "output_type": "display_data"
    }
   ],
   "source": [
    "ipv.figure(width=800,height=450)\n",
    "ipv.volshow(d2, level=(-5, 0, 5))\n",
    "ipv.style.use('minimal')\n",
    "ipv.show()"
   ]
  },
  {
   "cell_type": "code",
   "execution_count": 13,
   "metadata": {
    "slideshow": {
     "slide_type": "slide"
    }
   },
   "outputs": [
    {
     "data": {
      "application/vnd.jupyter.widget-view+json": {
       "model_id": "7d7f8685f8ac485c9c6307f198477973",
       "version_major": 2,
       "version_minor": 0
      },
      "text/plain": [
       "VBox(children=(Figure(camera=PerspectiveCamera(fov=46.0, position=(0.0, 0.0, 2.0), quaternion=(0.0, 0.0, 0.0, …"
      ]
     },
     "metadata": {},
     "output_type": "display_data"
    }
   ],
   "source": [
    "fig = ipv.figure(width=800, height=450)\n",
    "mesh = ipv.plot_isosurface(d2, 0., color='white')\n",
    "ipv.style.use('minimal')\n",
    "ipv.show()"
   ]
  },
  {
   "cell_type": "code",
   "execution_count": 14,
   "metadata": {
    "scrolled": true
   },
   "outputs": [
    {
     "data": {
      "text/plain": [
       "{'_trait_values': {'_model_module': 'ipyvolume',\n",
       "  '_model_module_version': '~0.5.2',\n",
       "  '_model_name': 'MeshModel',\n",
       "  '_view_count': None,\n",
       "  '_view_module': 'ipyvolume',\n",
       "  '_view_module_version': '~0.5.2',\n",
       "  '_view_name': 'MeshView',\n",
       "  'sequence_index': 0,\n",
       "  'visible': True,\n",
       "  'x': array([ 0.     ,  1.     ,  1.     , ..., 98.50336, 99.     , 99.     ],\n",
       "        dtype=float32),\n",
       "  'y': array([ 0.        ,  0.        ,  0.96044904, ..., 99.        ,\n",
       "         99.        , 98.787674  ], dtype=float32),\n",
       "  'z': array([21.490757, 21.043365, 22.      , ..., 70.      , 69.782234,\n",
       "         70.      ], dtype=float32),\n",
       "  'triangles': array([[    2,     1,     0],\n",
       "         [    2,     0,     3],\n",
       "         [    3,     4,     2],\n",
       "         ...,\n",
       "         [60550, 59826, 60541],\n",
       "         [59826, 59827, 60541],\n",
       "         [60541, 59827, 59813]], dtype=uint32),\n",
       "  'lines': None,\n",
       "  'color': array('white', dtype='<U5'),\n",
       "  'u': None,\n",
       "  'v': None,\n",
       "  'texture': None,\n",
       "  'comm': <ipykernel.comm.comm.Comm at 0x11991f3c8>,\n",
       "  'keys': ['_model_module',\n",
       "   '_model_module_version',\n",
       "   '_model_name',\n",
       "   '_view_count',\n",
       "   '_view_module',\n",
       "   '_view_module_version',\n",
       "   '_view_name',\n",
       "   'color',\n",
       "   'line_material',\n",
       "   'lines',\n",
       "   'material',\n",
       "   'sequence_index',\n",
       "   'texture',\n",
       "   'triangles',\n",
       "   'u',\n",
       "   'v',\n",
       "   'visible',\n",
       "   'x',\n",
       "   'y',\n",
       "   'z'],\n",
       "  'line_material': ShaderMaterial(),\n",
       "  'material': ShaderMaterial(side='DoubleSide')},\n",
       " '_trait_notifiers': {'comm': {'change': [<traitlets.traitlets.ObserveHandler at 0x1081ed668>]}},\n",
       " '_trait_validators': {},\n",
       " '_cross_validation_lock': False,\n",
       " '_model_id': '472e7a446f754afaa5d687134fa730bc',\n",
       " '_texture_metadata': {}}"
      ]
     },
     "execution_count": 14,
     "metadata": {},
     "output_type": "execute_result"
    }
   ],
   "source": [
    "mesh.__dict__"
   ]
  },
  {
   "cell_type": "code",
   "execution_count": 18,
   "metadata": {},
   "outputs": [
    {
     "data": {
      "text/plain": [
       "ipyvolume.widgets.Mesh"
      ]
     },
     "execution_count": 18,
     "metadata": {},
     "output_type": "execute_result"
    }
   ],
   "source": [
    "type(mesh)"
   ]
  },
  {
   "cell_type": "code",
   "execution_count": 15,
   "metadata": {},
   "outputs": [],
   "source": [
    "#mesh.color = np.array([mesh.x/100, mesh.y/100, mesh.z/100]).T\n",
    "mesh.color = np.array([np.sin(mesh.x/3)+1, np.sin(mesh.y/3)+1, np.sin(mesh.z/3)+1]).T"
   ]
  },
  {
   "cell_type": "code",
   "execution_count": 40,
   "metadata": {},
   "outputs": [],
   "source": [
    "def export_mesh(m):\n",
    "    vs = np.vstack((m.x,m.y,m.z)).T\n",
    "    vs = ['v {:.3f} {:.3f} {:.3f}'.format(v[0], v[1], v[2]) for v in vs]\n",
    "    fs = ['f {} {} {}'.format(v[0]+1, v[1]+1, v[2]+1) for v in m.triangles]\n",
    "    with open('mymesh.obj','w') as f:\n",
    "        f.write('\\n'.join(vs))\n",
    "        f.write('\\n')\n",
    "        f.write('\\n'.join(fs))"
   ]
  },
  {
   "cell_type": "code",
   "execution_count": 41,
   "metadata": {},
   "outputs": [],
   "source": [
    "export_mesh(mesh)"
   ]
  },
  {
   "cell_type": "code",
   "execution_count": 16,
   "metadata": {},
   "outputs": [],
   "source": [
    "ipv.volshow?"
   ]
  },
  {
   "cell_type": "code",
   "execution_count": null,
   "metadata": {},
   "outputs": [],
   "source": []
  }
 ],
 "metadata": {
  "celltoolbar": "Slideshow",
  "kernelspec": {
   "display_name": "Python 3",
   "language": "python",
   "name": "python3"
  },
  "language_info": {
   "codemirror_mode": {
    "name": "ipython",
    "version": 3
   },
   "file_extension": ".py",
   "mimetype": "text/x-python",
   "name": "python",
   "nbconvert_exporter": "python",
   "pygments_lexer": "ipython3",
   "version": "3.7.3"
  }
 },
 "nbformat": 4,
 "nbformat_minor": 2
}
