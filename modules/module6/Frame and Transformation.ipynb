{
 "cells": [
  {
   "cell_type": "code",
   "execution_count": 1,
   "metadata": {
    "slideshow": {
     "slide_type": "skip"
    }
   },
   "outputs": [],
   "source": [
    "from notebook.services.config import ConfigManager\n",
    "cm = ConfigManager()\n",
    "\n",
    "#cm.update('livereveal', {'width': 1000, 'height': 600,'scroll': True,})\n",
    "cm.update('livereveal', {'scroll': True,})\n",
    "\n",
    "%load_ext autoreload\n",
    "%autoreload 2\n",
    "\n",
    "import os\n",
    "import sys\n",
    "sys.path.append(os.path.abspath(\".\"))\n",
    "\n",
    "from viewer import MeshCatViewer\n"
   ]
  },
  {
   "cell_type": "code",
   "execution_count": 2,
   "metadata": {
    "slideshow": {
     "slide_type": "skip"
    }
   },
   "outputs": [
    {
     "data": {
      "text/html": [
       "<style>\n",
       "body.rise-enabled div.code_cell{\n",
       "    font-size:60%;\n",
       "}\n",
       "\n",
       "body.rise-enabled div.inner_cell>div.promt_container{\n",
       "    width:10%;\n",
       "}\n",
       "\n",
       "body.rise-enabled div.inner_cell>div.text_cell_render.rendered_html {\n",
       "    font-size: 50%;\n",
       "}\n",
       "</style>\n"
      ],
      "text/plain": [
       "<IPython.core.display.HTML object>"
      ]
     },
     "metadata": {},
     "output_type": "display_data"
    }
   ],
   "source": [
    "%%html\n",
    "<style>\n",
    "body.rise-enabled div.code_cell{\n",
    "    font-size:60%;\n",
    "}\n",
    "\n",
    "body.rise-enabled div.inner_cell>div.promt_container{\n",
    "    width:10%;\n",
    "}\n",
    "\n",
    "body.rise-enabled div.inner_cell>div.text_cell_render.rendered_html {\n",
    "    font-size: 50%;\n",
    "}\n",
    "</style>"
   ]
  },
  {
   "cell_type": "markdown",
   "metadata": {
    "slideshow": {
     "slide_type": "slide"
    }
   },
   "source": [
    "# Robotic fabrication fundamentals"
   ]
  },
  {
   "cell_type": "markdown",
   "metadata": {
    "slideshow": {
     "slide_type": "slide"
    }
   },
   "source": [
    "<img src=\"https://gramaziokohler.github.io/compas_fab/latest/_images/02_coordinate_frames.jpg\"  />"
   ]
  },
  {
   "cell_type": "markdown",
   "metadata": {
    "slideshow": {
     "slide_type": "slide"
    }
   },
   "source": [
    "## Frame"
   ]
  },
  {
   "cell_type": "markdown",
   "metadata": {
    "cell_style": "split",
    "slideshow": {
     "slide_type": "-"
    }
   },
   "source": [
    "A frame is defined by a base point and two orthonormal base vectors (xaxis, yaxis), which specify the normal (zaxis). \n",
    "It describes location and orientation in a (right-handed) cartesian coordinate system.\n",
    "\n",
    "<img src='images/frame.svg' style='height:300px' />"
   ]
  },
  {
   "cell_type": "code",
   "execution_count": 108,
   "metadata": {
    "cell_style": "split",
    "slideshow": {
     "slide_type": "fragment"
    }
   },
   "outputs": [
    {
     "name": "stdout",
     "output_type": "stream",
     "text": [
      "Frame(Point(1.000, 0.000, 0.000), Vector(-0.818, 0.182, 0.545), Vector(0.575, 0.259, 0.776))\n",
      "Frame(Point(0.000, 0.000, 0.000), Vector(1.000, 0.000, 0.000), Vector(0.000, 1.000, 0.000))\n"
     ]
    }
   ],
   "source": [
    "\"\"\"There are several ways to construct a `Frame`.\n",
    "\"\"\"\n",
    "from compas.geometry import Point\n",
    "from compas.geometry import Vector\n",
    "from compas.geometry import Frame\n",
    "from compas.geometry import Plane\n",
    "\n",
    "F = Frame(Point(1, 0, 0),\n",
    "          Vector(-0.45, 0.1, 0.3), \n",
    "          Vector(1, 0, 0))\n",
    "print(F)\n",
    "F = Frame([1, 0, 0], [-0.45, 0.1, 0.3], [1, 0, 0])\n",
    "\n",
    "F = Frame.from_points([1, 1, 1],\n",
    "                      [2, 3, 6],\n",
    "                      [6, 3, 0])\n",
    "F = Frame.from_plane(Plane([0, 0, 0], [0.5, 0.2, 0.1]))\n",
    "F = Frame.from_euler_angles([0.5, 1., 0.2])\n",
    "F = Frame.worldXY()\n",
    "print(F)"
   ]
  },
  {
   "cell_type": "markdown",
   "metadata": {
    "cell_style": "center",
    "slideshow": {
     "slide_type": "slide"
    }
   },
   "source": [
    "### Frame as a cartesian coordinate system"
   ]
  },
  {
   "cell_type": "markdown",
   "metadata": {
    "cell_style": "split",
    "slideshow": {
     "slide_type": "-"
    }
   },
   "source": [
    "<img src='images/point_in_frame.svg' style='height:350px' />"
   ]
  },
  {
   "cell_type": "code",
   "execution_count": 109,
   "metadata": {
    "cell_style": "split",
    "slideshow": {
     "slide_type": "fragment"
    }
   },
   "outputs": [
    {
     "name": "stdout",
     "output_type": "stream",
     "text": [
      "Point(190.314, 164.389, 200.285)\n",
      "Point(35.000, 35.000, 35.000)\n"
     ]
    }
   ],
   "source": [
    "\"\"\"Example: 'point in frame'\n",
    "\"\"\"\n",
    "point = Point(146.00, 150.00, 161.50)\n",
    "xaxis = Vector(0.9767, 0.0010, -0.214)\n",
    "yaxis = Vector(0.1002, 0.8818, 0.4609)\n",
    "\n",
    "# coordinate system F\n",
    "F = Frame(point, xaxis, yaxis)\n",
    "\n",
    "# point in F (local coordinates)\n",
    "P = Point(35., 35., 35.)\n",
    "\n",
    "# point in global (world) coordinates\n",
    "P_ = F.to_world_coords(P)\n",
    "print(P_)\n",
    "\n",
    "# check\n",
    "P2 = F.to_local_coords(P_)\n",
    "print(P2)"
   ]
  },
  {
   "cell_type": "markdown",
   "metadata": {
    "slideshow": {
     "slide_type": "notes"
    }
   },
   "source": [
    "The simple example above shows how to use a frame as a coordinate system: Starting from a point `P` in the local (user-defined, relative) coordinate system of frame `F`, i.e. its position is relative to the origin and orientation of `F`, we want to get the position `P_` of `P` in the global (world, absolute) coordinate system."
   ]
  },
  {
   "cell_type": "markdown",
   "metadata": {
    "slideshow": {
     "slide_type": "slide"
    }
   },
   "source": [
    "### Frame in frame"
   ]
  },
  {
   "cell_type": "markdown",
   "metadata": {
    "cell_style": "split",
    "slideshow": {
     "slide_type": "-"
    }
   },
   "source": [
    "<img src='images/frame_in_frame_point.svg' style='height:450px' />"
   ]
  },
  {
   "cell_type": "code",
   "execution_count": 8,
   "metadata": {
    "cell_style": "split",
    "slideshow": {
     "slide_type": "fragment"
    }
   },
   "outputs": [
    {
     "name": "stdout",
     "output_type": "stream",
     "text": [
      "Frame(Point(190.314, 164.389, 200.285), Vector(0.760, 0.063, 0.647), Vector(-0.526, 0.645, 0.554))\n",
      "Frame(Point(35.000, 35.000, 35.000), Vector(0.604, 0.430, 0.671), Vector(-0.631, 0.772, 0.074))\n",
      "True\n"
     ]
    }
   ],
   "source": [
    "\"\"\"Example: 'frame in frame'\n",
    "\"\"\"\n",
    "# coordinate system F\n",
    "point = Point(146.00, 150.00, 161.50)\n",
    "xaxis = Vector(0.9767, 0.0010, -0.214)\n",
    "yaxis = Vector(0.1002, 0.8818, 0.4609)\n",
    "F = Frame(point, xaxis, yaxis)\n",
    "\n",
    "# frame f in F (local coordinates)\n",
    "point = Point(35., 35., 35.)\n",
    "xaxis = Vector(0.604, 0.430, 0.671)\n",
    "yaxis = Vector(-0.631, 0.772, 0.074)\n",
    "f = Frame(point, xaxis, yaxis)\n",
    "\n",
    "# frame in global (world) coordinate system\n",
    "f_wcf = F.to_world_coords(f)\n",
    "print(f_wcf)\n",
    "\n",
    "# check\n",
    "f2 = F.to_local_coords(f_wcf)\n",
    "print(f2)\n",
    "print(f == f2)"
   ]
  },
  {
   "cell_type": "markdown",
   "metadata": {
    "slideshow": {
     "slide_type": "skip"
    }
   },
   "source": [
    "### Example\n",
    "\n",
    "Bring a box from the world coordinate system into another coordinate system."
   ]
  },
  {
   "cell_type": "code",
   "execution_count": 153,
   "metadata": {
    "slideshow": {
     "slide_type": "slide"
    }
   },
   "outputs": [
    {
     "name": "stdout",
     "output_type": "stream",
     "text": [
      "Box frame transformed: Frame(Point(2.978, 2.010, 1.790), Vector(-0.680, -0.105, 0.726), Vector(0.733, -0.132, 0.668))\n"
     ]
    }
   ],
   "source": [
    "\"\"\"Example: Bring a box from the world coordinate system into another coordinate system.\n",
    "\"\"\"\n",
    "from compas.geometry import Frame\n",
    "from compas.geometry import Box\n",
    "\n",
    "# Box in the world coordinate system\n",
    "frame = Frame([1, 0, 0], [-0.45, 0.1, 0.3], [1, 0, 0])\n",
    "width, length, height = 1, 1, 1\n",
    "box = Box(frame, width, length, height)\n",
    "\n",
    "# Frame F representing a coordinate system\n",
    "F = Frame([2, 2, 2], [0.978, 0.010, -0.210], [0.090, 0.882, 0.463])\n",
    "\n",
    "# Represent box frame in frame F and construct new box\n",
    "box_frame_transformed = F.to_world_coords(box.frame)\n",
    "box_transformed = Box(box_frame_transformed, width, length, height)\n",
    "print(\"Box frame transformed:\", box_transformed.frame)"
   ]
  },
  {
   "cell_type": "code",
   "execution_count": 154,
   "metadata": {
    "slideshow": {
     "slide_type": "slide"
    }
   },
   "outputs": [
    {
     "data": {
      "application/vnd.jupyter.widget-view+json": {
       "model_id": "4b91afa9af724e4c95845956929a61b5",
       "version_major": 2,
       "version_minor": 0
      },
      "text/plain": [
       "Renderer(camera=PerspectiveCamera(aspect=1.5, children=(DirectionalLight(intensity=0.5, position=(0.0, 0.0, 1.…"
      ]
     },
     "metadata": {},
     "output_type": "display_data"
    }
   ],
   "source": [
    "from threejs_viewer import ThreeJsViewer\n",
    "viewer = ThreeJsViewer()\n",
    "viewer.draw_frame(Frame.worldXY(), line_width=2)\n",
    "viewer.draw_box(box)\n",
    "viewer.draw_frame(F, line_width=2)\n",
    "viewer.draw_box(box_transformed, color='#3FB59D')\n",
    "camera_position=[5.0, -5.0, 2.0]\n",
    "viewer.show(camera_position)"
   ]
  },
  {
   "cell_type": "markdown",
   "metadata": {
    "slideshow": {
     "slide_type": "notes"
    }
   },
   "source": [
    "### Further information\n",
    "\n",
    "* https://en.wikipedia.org/wiki/Frame_of_reference\n",
    "* https://en.wikipedia.org/wiki/Cartesian_coordinate_system"
   ]
  },
  {
   "cell_type": "markdown",
   "metadata": {
    "slideshow": {
     "slide_type": "slide"
    }
   },
   "source": [
    "## Transformation"
   ]
  },
  {
   "cell_type": "markdown",
   "metadata": {
    "slideshow": {
     "slide_type": "fragment"
    }
   },
   "source": [
    "Transformations refer to operations such as moving, rotating, and scaling objects. They are stored using 4x4 transformation matrices. \n",
    "\n",
    "Most transformations preserve the parallel relationship among the parts of the geometry. For example collinear points \n",
    "remain collinear after the transformation. Also points on one plane stay coplanar after transformation. This type of\n",
    "transformation is called an *affine transformation* and concerns transformations such as `Rotation`, `Translation`, \n",
    "`Scale`, `Reflection`, `Shear` and orthogonal and parallel `Projection`. Only perspective `Projection` is not *affine*.\n",
    "\n",
    "<img src='images/transformations2D.svg' style='width:800px' />"
   ]
  },
  {
   "cell_type": "markdown",
   "metadata": {
    "slideshow": {
     "slide_type": "slide"
    }
   },
   "source": [
    "A transformation matrix looks like this:\n",
    "\n",
    "\\begin{equation*}\n",
    "\\mathbf{T} = \\begin{bmatrix}\n",
    "a_{11} & a_{12} & a_{13} & a_{14}\\\\\n",
    "a_{21} & a_{22} & a_{23} & a_{24}\\\\\n",
    "a_{31} & a_{32} & a_{33} & a_{34}\\\\\n",
    "a_{41} & a_{42} & a_{43} & a_{44}\\\\\n",
    "\\end{bmatrix}\n",
    "\\end{equation*}"
   ]
  },
  {
   "cell_type": "markdown",
   "metadata": {
    "slideshow": {
     "slide_type": "slide"
    }
   },
   "source": [
    "But for different transformations, different coefficients are used:\n",
    "\n",
    "The `Rotation` just uses the upper left 3x3 coefficients,\n",
    "\n",
    "\\begin{equation*}\n",
    "\\mathbf{T} = \\begin{bmatrix}\n",
    "a_{11} & a_{12} & a_{13} & 0\\\\\n",
    "a_{21} & a_{22} & a_{23} & 0\\\\\n",
    "a_{31} & a_{32} & a_{33} & 0\\\\\n",
    "0 & 0 & 0 & 1\\\\\n",
    "\\end{bmatrix}\n",
    "\\end{equation*}"
   ]
  },
  {
   "cell_type": "markdown",
   "metadata": {
    "slideshow": {
     "slide_type": "slide"
    }
   },
   "source": [
    "the `Translation` just uses the first 3 coefficients of the 4th column,\n",
    "\n",
    "\\begin{equation*}\n",
    "\\mathbf{T} = \\begin{bmatrix}\n",
    "1 & 0 & 0 & a_{14}\\\\\n",
    "0 & 1 & 0 & a_{24}\\\\\n",
    "0 & 0 & 1 & a_{34}\\\\\n",
    "0 & 0 & 0 & 1\\\\\n",
    "\\end{bmatrix}\n",
    "\\end{equation*}"
   ]
  },
  {
   "cell_type": "markdown",
   "metadata": {
    "slideshow": {
     "slide_type": "slide"
    }
   },
   "source": [
    "and `Scale` uses only the first 3 values of the diagonal.\n",
    "\n",
    "\\begin{equation*}\n",
    "\\mathbf{T} = \\begin{bmatrix}\n",
    "a_{11} & 0 & 0 & 0\\\\\n",
    "0 & a_{22} & 0 & 0\\\\\n",
    "0 & 0 & a_{33} & 0\\\\\n",
    "0 & 0 & 0 & 1\\\\\n",
    "\\end{bmatrix}\n",
    "\\end{equation*}"
   ]
  },
  {
   "cell_type": "code",
   "execution_count": null,
   "metadata": {
    "slideshow": {
     "slide_type": "skip"
    }
   },
   "outputs": [],
   "source": [
    "from compas.geometry import *\n",
    "\n",
    "axis, angle = [0.2, 0.4, 0.1], 0.3\n",
    "R = Rotation.from_axis_and_angle(axis, angle)\n",
    "print(\"Rotation:\\n\", R)\n",
    "\n",
    "translation_vector = [5, 3, 1]\n",
    "T = Translation(translation_vector)\n",
    "print(\"Translation:\\n\", T)\n",
    "\n",
    "scale_factors = [0.1, 0.3, 0.4]\n",
    "S = Scale(scale_factors)\n",
    "print(\"Scale:\\n\", S)\n",
    "\n",
    "point, normal = [0.3, 0.2, 1], [0.3, 0.1, 1]\n",
    "R = Reflection(point, normal) # TODO: should take a plane!!\n",
    "print(\"Reflection:\\n\", R)\n",
    "\n",
    "point, normal = [0, 0, 0], [0, 0, 1]\n",
    "perspective = [1, 1, 0]\n",
    "P = Projection.perspective(point, normal, perspective)\n",
    "print(\"Perspective projection:\\n\", R)\n",
    "\n",
    "angle, direction = 0.1, [0.1, 0.2, 0.3]\n",
    "point, normal = [4, 3, 1], [-0.11, 0.31, -0.17]\n",
    "S = Shear(angle, direction, point, normal)\n",
    "print(\"Shear:\\n\", S)\n"
   ]
  },
  {
   "cell_type": "markdown",
   "metadata": {
    "slideshow": {
     "slide_type": "slide"
    }
   },
   "source": [
    "### Inverse transformation\n",
    "\n",
    "The inverse transformation $T^{-1}$ is calculated through inverting the transformation matrix $T$. \n",
    "\n",
    "$T \\times T^{-1} = I$, with $I$ as identity matrix. "
   ]
  },
  {
   "cell_type": "code",
   "execution_count": null,
   "metadata": {
    "slideshow": {
     "slide_type": "slide"
    }
   },
   "outputs": [],
   "source": [
    "\"\"\"Example: Transform a point and invert the transformation\n",
    "\"\"\"\n",
    "from compas.geometry import *\n",
    "from math import pi\n",
    "\n",
    "p = Point(3, 4, 5)\n",
    "T = Rotation.from_axis_and_angle([2, 2, 2], pi/4)\n",
    "\n",
    "# transform Point p with T\n",
    "p.transform(T)\n",
    "print(p) # transformed point\n",
    "\n",
    "# create inverse Transformation to T\n",
    "Tinv = T.inverse()\n",
    "\n",
    "# transform Point p with inverse Transformation \n",
    "p.transform(Tinv)\n",
    "\n",
    "# check if p has the same values as in the beginning\n",
    "print(p) # == (3, 4, 5)\n",
    "\n",
    "# what is the result of multiplying T with Tinv?\n",
    "print(T * Tinv)"
   ]
  },
  {
   "cell_type": "markdown",
   "metadata": {
    "slideshow": {
     "slide_type": "slide"
    }
   },
   "source": [
    "### Concatenation and decomposition\n",
    "\n",
    "The concatenation of several `Transformations` are simple matrix multiplications.\n",
    "But matrices are not commutative ($\\mathbf{A}\\times\\mathbf{B} \\neq \\mathbf{B}\\times\\mathbf{A}$), \n",
    "so it is important to consider the order of multiplication.\n",
    "\n",
    "If you transform an object first with transformation $\\mathbf{A}$, then with transformation $\\mathbf{B}$, \n",
    "followed by transformation $\\mathbf{C}$, you get the same result as transforming the object with only \n",
    "one transformation $\\mathbf{M}$ which is calculated by $\\mathbf{M}=\\mathbf{A}\\times\\mathbf{B}\\times\\mathbf{C}$.\n",
    "(Transformations applied from left to right.)"
   ]
  },
  {
   "cell_type": "markdown",
   "metadata": {
    "slideshow": {
     "slide_type": "fragment"
    }
   },
   "source": [
    "**NOTE**:\n",
    "<p style=\"background-color: yellow;\">\n",
    "If you want to apply several transformations on a big mesh, it is faster to multiply transformations first \n",
    "and then apply only one transformation to mesh.\n",
    "</p>"
   ]
  },
  {
   "cell_type": "code",
   "execution_count": 94,
   "metadata": {
    "slideshow": {
     "slide_type": "slide"
    }
   },
   "outputs": [
    {
     "name": "stdout",
     "output_type": "stream",
     "text": [
      "True\n",
      "True\n",
      "True\n"
     ]
    }
   ],
   "source": [
    "\"\"\"Example: multiply transformations\n",
    "\"\"\"\n",
    "from compas.geometry import *\n",
    "\n",
    "translation = [1, 2, 3]\n",
    "A = Translation(translation) # create Translation\n",
    "axis, angle = [-0.8, 0.35, 0.5], 2.2\n",
    "B = Rotation.from_axis_and_angle(axis, angle) # create Rotation\n",
    "scale_factors = [0.1, 0.3, 0.4]\n",
    "C = Scale(scale_factors) # create Scale\n",
    "\n",
    "# Concatenate transformations: apply transformations from left to right\n",
    "M = A * B * C\n",
    "\n",
    "# A matrix can also be decomposed into it's components of Scale, \n",
    "# Shear, Rotation, Translation and Perspective\n",
    "Sc, Sh, R, T, P = M.decompose()\n",
    "# Check\n",
    "print(C == Sc)\n",
    "print(B == R)\n",
    "print(A == T)"
   ]
  },
  {
   "cell_type": "markdown",
   "metadata": {
    "slideshow": {
     "slide_type": "slide"
    }
   },
   "source": [
    "### Question\n",
    "\n",
    "To transform a point, you simply multiply the point with the transformation matrix. But a transformation matrix is 4x4 \n",
    "and vectors and points are 3x1, so how can they be multiplied?"
   ]
  },
  {
   "cell_type": "markdown",
   "metadata": {
    "slideshow": {
     "slide_type": "slide"
    }
   },
   "source": [
    "### Homogenisation\n",
    "\n",
    "To transform points and vectors, i.e. multiply them with the transformation matrix, we need to homogenize them first.\n",
    "This means representing a 3-vector (x, y, z) as a 4-vector (x, y, z, 1) for points, or (x, y, z, 0) for vectors.\n",
    "\n",
    "Points:\n",
    "\\begin{equation*}\n",
    "\\begin{bmatrix}x'\\\\y'\\\\z'\\\\1\\end{bmatrix} = \n",
    "\\begin{bmatrix}\n",
    "a_{11} & a_{12} & a_{13} & a_{14}\\\\\n",
    "a_{21} & a_{22} & a_{23} & a_{24}\\\\\n",
    "a_{31} & a_{32} & a_{33} & a_{34}\\\\\n",
    "a_{41} & a_{42} & a_{43} & a_{44}\\\\\n",
    "\\end{bmatrix}\n",
    "\\times\n",
    "\\begin{bmatrix}x\\\\y\\\\z\\\\1\\end{bmatrix}\n",
    "\\end{equation*}\n",
    "\n",
    "Vectors:\n",
    "\\begin{equation*}\n",
    "\\begin{bmatrix}x'\\\\y'\\\\z'\\\\0\\end{bmatrix} = \n",
    "\\begin{bmatrix}\n",
    "a_{11} & a_{12} & a_{13} & a_{14}\\\\\n",
    "a_{21} & a_{22} & a_{23} & a_{24}\\\\\n",
    "a_{31} & a_{32} & a_{33} & a_{34}\\\\\n",
    "a_{41} & a_{42} & a_{43} & a_{44}\\\\\n",
    "\\end{bmatrix}\n",
    "\\times\n",
    "\\begin{bmatrix}x\\\\y\\\\z\\\\0\\end{bmatrix}\n",
    "\\end{equation*}"
   ]
  },
  {
   "cell_type": "markdown",
   "metadata": {
    "slideshow": {
     "slide_type": "fragment"
    }
   },
   "source": [
    "**NOTE**:\n",
    "<p style=\"background-color: yellow;\">\n",
    "That is one of the reasons for distinguishing between points and vectors!\n",
    "</p>"
   ]
  },
  {
   "cell_type": "code",
   "execution_count": 111,
   "metadata": {
    "slideshow": {
     "slide_type": "slide"
    }
   },
   "outputs": [
    {
     "name": "stdout",
     "output_type": "stream",
     "text": [
      "Point(3.258, 2.420, 3.114)\n",
      "Vector(1.258, 0.420, 1.114)\n"
     ]
    }
   ],
   "source": [
    "\"\"\"Example: transform point and vector\n",
    "\"\"\"\n",
    "# create Transformation\n",
    "R = Rotation.from_axis_and_angle([-0.248, -0.786, -0.566], 2.78, point=[1.0, 0.0, 0.0])\n",
    "\n",
    "# apply Transformation to Point\n",
    "p = Point(1, 1, 1)\n",
    "p.transform(T)\n",
    "\n",
    "# apply Transformation to Vector\n",
    "v = Vector(1, 1, 1)\n",
    "v.transform(T)\n",
    "\n",
    "# print them both\n",
    "print(p)\n",
    "print(v)"
   ]
  },
  {
   "cell_type": "markdown",
   "metadata": {
    "slideshow": {
     "slide_type": "slide"
    }
   },
   "source": [
    "## Transformation of multiple points\n",
    "\n",
    "If you need to transform multiple points it is better to do this with the methods `transform_points` or `transform_points_numpy`\n",
    "than applying the transformation on each point. (likewise `transform_vectors` or `transform_vectors_numpy`)"
   ]
  },
  {
   "cell_type": "code",
   "execution_count": 100,
   "metadata": {
    "slideshow": {
     "slide_type": "slide"
    }
   },
   "outputs": [
    {
     "name": "stdout",
     "output_type": "stream",
     "text": [
      "The mesh has 35947 vertices.\n",
      "transfrom_points takes 0.6277 seconds.\n",
      "transfrom_points_numpy takes 0.1055 seconds.\n"
     ]
    }
   ],
   "source": [
    "import time\n",
    "import compas\n",
    "from compas.datastructures import Mesh\n",
    "from compas.geometry import transform_points\n",
    "from compas.geometry import transform_points_numpy\n",
    "\n",
    "# load mesh\n",
    "mesh = Mesh.from_ply(compas.get('bunny.ply'))\n",
    "v, f = mesh.to_vertices_and_faces()\n",
    "print(\"The mesh has {} vertices.\".format(len(v)))\n",
    "\n",
    "# create Transformation\n",
    "T = Rotation.from_axis_and_angle([-0.248, -0.786, -0.566], 2.78, point=[1.0, 0.0, 0.0])\n",
    "\n",
    "# transform points with transform_points\n",
    "t0 = time.time()\n",
    "transform_points(v, T)\n",
    "print(\"transfrom_points takes {:.4f} seconds.\".format(time.time() - t0))\n",
    "\n",
    "# transform points with transform_points_numpy\n",
    "t0 = time.time()\n",
    "transform_points_numpy(v, T)\n",
    "print(\"transfrom_points_numpy takes {:.4f} seconds.\".format(time.time() - t0))"
   ]
  },
  {
   "cell_type": "markdown",
   "metadata": {
    "slideshow": {
     "slide_type": "slide"
    }
   },
   "source": [
    "## Frame and Transformation\n",
    "\n",
    "<img src='images/frame_transformation.svg' style='height:450px' />"
   ]
  },
  {
   "cell_type": "markdown",
   "metadata": {
    "slideshow": {
     "slide_type": "slide"
    }
   },
   "source": [
    "### Difference between change-basis transformation and transformation between frames.\n",
    "\n",
    "`Transformation.change_basis(f1, f2)` and `Transformation.from_frame_to_frame(f1, f2)`\n",
    "\n",
    "A change-basis transformation allows to remap geometry of one coordinate system in another, i.e. represent the same coordinates in 2 different frames,\n",
    "whereas the Transformation between 2 frames allows to transform geometry from one coordinate system into the other one."
   ]
  },
  {
   "cell_type": "code",
   "execution_count": 101,
   "metadata": {
    "cell_style": "center",
    "slideshow": {
     "slide_type": "slide"
    }
   },
   "outputs": [
    {
     "name": "stdout",
     "output_type": "stream",
     "text": [
      "[[    0.7933,    0.2220,    0.5668,   -2.1644],\n",
      " [   -0.4588,    0.8301,    0.3169,   -0.3765],\n",
      " [   -0.4002,   -0.5115,    0.7604,    1.3025],\n",
      " [    0.0000,    0.0000,    0.0000,    1.0000]]\n",
      "\n"
     ]
    },
    {
     "data": {
      "text/plain": [
       "True"
      ]
     },
     "execution_count": 101,
     "metadata": {},
     "output_type": "execute_result"
    }
   ],
   "source": [
    "\"\"\"This example computes a transformation between two frames F1 and F2.\n",
    "\"\"\"\n",
    "from compas.geometry import Frame\n",
    "from compas.geometry import Transformation\n",
    "\n",
    "F1 = Frame([2, 2, 2], [0.12, 0.58, 0.81], [-0.80, 0.53, -0.26])\n",
    "F2 = Frame([1, 1, 1], [0.68, 0.68, 0.27], [-0.67, 0.73, -0.15])\n",
    "\n",
    "T = Transformation.from_frame_to_frame(F1, F2)\n",
    "print(T)\n",
    "\n",
    "# now transform F1 with T\n",
    "F2 == F1.transformed(T)"
   ]
  },
  {
   "cell_type": "code",
   "execution_count": 103,
   "metadata": {
    "cell_style": "center",
    "slideshow": {
     "slide_type": "slide"
    }
   },
   "outputs": [
    {
     "name": "stdout",
     "output_type": "stream",
     "text": [
      "[[    0.6931,   -0.2561,   -0.6738,    1.6319],\n",
      " [    0.2201,    0.9653,   -0.1406,   -0.0903],\n",
      " [    0.6864,   -0.0508,    0.7254,    0.5734],\n",
      " [    0.0000,    0.0000,    0.0000,    1.0000]]\n",
      "\n"
     ]
    },
    {
     "data": {
      "text/plain": [
       "True"
      ]
     },
     "execution_count": 103,
     "metadata": {},
     "output_type": "execute_result"
    }
   ],
   "source": [
    "\"\"\"This example computes a change-basis transformation between two frames F1 and F2.\n",
    "\"\"\"\n",
    "from compas.geometry import Frame\n",
    "from compas.geometry import Transformation\n",
    "\n",
    "F1 = Frame([2, 2, 2], [0.12, 0.58, 0.81], [-0.80, 0.53, -0.26])\n",
    "F2 = Frame([1, 1, 1], [0.68, 0.68, 0.27], [-0.67, 0.73, -0.15])\n",
    "\n",
    "T = Transformation.change_basis(F1, F2)\n",
    "print(T)\n",
    "\n",
    "# F1 local = worldXY F1 in F2\n",
    "Point(0, 0, 0).transformed(T) == F2.to_local_coords(F1.point)"
   ]
  },
  {
   "cell_type": "code",
   "execution_count": 161,
   "metadata": {
    "slideshow": {
     "slide_type": "slide"
    }
   },
   "outputs": [
    {
     "name": "stdout",
     "output_type": "stream",
     "text": [
      "Box frame transformed Frame(Point(2.978, 2.010, 1.790), Vector(-0.680, -0.105, 0.726), Vector(0.733, -0.132, 0.668))\n"
     ]
    }
   ],
   "source": [
    "\"\"\"Example: Bring a box from the world coordinate system into another coordinate system.\n",
    "\"\"\"\n",
    "from compas.geometry import Frame\n",
    "from compas.geometry import Transformation\n",
    "from compas.geometry import Box\n",
    "\n",
    "# Box in the world coordinate system\n",
    "frame = Frame([1, 0, 0], [-0.45, 0.1, 0.3], [1, 0, 0])\n",
    "width, length, height = 1, 1, 1\n",
    "box = Box(frame, width, length, height)\n",
    "\n",
    "# Frame F representing a coordinate system\n",
    "F = Frame([2, 2, 2], [0.978, 0.010, -0.210], [0.090, 0.882, 0.463])\n",
    "\n",
    "# Get transformation between frames and apply transformation on box.\n",
    "T = Transformation.from_frame_to_frame(Frame.worldXY(), F)\n",
    "box_transformed = box.transformed(T)\n",
    "print(\"Box frame transformed\", box_transformed.frame)"
   ]
  },
  {
   "cell_type": "code",
   "execution_count": 164,
   "metadata": {
    "slideshow": {
     "slide_type": "slide"
    }
   },
   "outputs": [
    {
     "data": {
      "application/vnd.jupyter.widget-view+json": {
       "model_id": "f848a17766db41bea9a4219554f5a402",
       "version_major": 2,
       "version_minor": 0
      },
      "text/plain": [
       "Renderer(camera=PerspectiveCamera(aspect=1.5, children=(DirectionalLight(intensity=0.5, position=(0.0, 0.0, 1.…"
      ]
     },
     "metadata": {},
     "output_type": "display_data"
    }
   ],
   "source": [
    "viewer = ThreeJsViewer()\n",
    "viewer.draw_frame(Frame.worldXY())\n",
    "viewer.draw_box(box)\n",
    "viewer.draw_frame(F)\n",
    "viewer.draw_box(box_transformed, color=\"#00aaff\")\n",
    "camera_position=[5.0, -5.0, 2.0]\n",
    "viewer.show(camera_position)"
   ]
  },
  {
   "cell_type": "markdown",
   "metadata": {
    "slideshow": {
     "slide_type": "slide"
    }
   },
   "source": [
    "### Difference between `transform()` and `transformed()`\n",
    "\n",
    "\n",
    "* Make a copy of box and transform it (don't change box):\n",
    "\n",
    "    `box_transformed = box.transformed(T)`\n",
    "                                       \n",
    "\n",
    "* Transform box (returns `None`):\n",
    "\n",
    "    `box.transform(T)`"
   ]
  },
  {
   "cell_type": "markdown",
   "metadata": {
    "cell_style": "center",
    "slideshow": {
     "slide_type": "slide"
    }
   },
   "source": [
    "## Rotation and orientation\n",
    "\n",
    "A `Rotation` is a circular movement of an object around a point of rotation. A three-dimensional object can always be rotated around an infinite number of imaginary lines called rotation axes.\n"
   ]
  },
  {
   "cell_type": "code",
   "execution_count": null,
   "metadata": {
    "cell_style": "center",
    "slideshow": {
     "slide_type": "fragment"
    }
   },
   "outputs": [],
   "source": [
    "\"\"\"There are several ways to construct a `Rotation`.\n",
    "\"\"\"\n",
    "import math\n",
    "from compas.geometry import Rotation\n",
    "\n",
    "R = Rotation.from_axis_and_angle([1, 0, 0], math.radians(30))\n",
    "R = Rotation.from_axis_and_angle([1, 0, 0], math.radians(30), point=[1, 0, 0])\n",
    "R = Rotation.from_basis_vectors([0.68, 0.68, 0.27], [-0.67, 0.73, -0.15])\n",
    "R = Rotation.from_frame(Frame([1, 1, 1], [0.68, 0.68, 0.27], [-0.67, 0.73, -0.15]))\n",
    "R = Rotation.from_axis_angle_vector([-0.043, -0.254, 0.617])\n",
    "R = Rotation.from_quaternion([0.945, -0.021, -0.125, 0.303])\n",
    "R = Rotation.from_euler_angles([1.4, 0.5, 2.3], static=True, axes='xyz')\n",
    "\n",
    "print(R)"
   ]
  },
  {
   "cell_type": "code",
   "execution_count": 168,
   "metadata": {
    "cell_style": "center",
    "slideshow": {
     "slide_type": "slide"
    }
   },
   "outputs": [],
   "source": [
    "import math\n",
    "from compas.geometry import Sphere\n",
    "\n",
    "viewer = ThreeJsViewer()\n",
    "sphere = viewer.draw_sphere(Sphere((0,2,0), 0.5))\n",
    "\n",
    "times = []\n",
    "transformations = []\n",
    "\n",
    "for i in range(0, 360, 1):\n",
    "    transformations.append(Rotation.from_axis_and_angle([0,0,1], math.radians(i)))\n",
    "    times.append(i * 0.01)\n",
    "sphere_action = viewer.create_action(sphere, transformations, times)"
   ]
  },
  {
   "cell_type": "code",
   "execution_count": 169,
   "metadata": {
    "cell_style": "center",
    "slideshow": {
     "slide_type": "slide"
    }
   },
   "outputs": [
    {
     "data": {
      "application/vnd.jupyter.widget-view+json": {
       "model_id": "b8823cdbe5c3492c9db94f8866f3aa67",
       "version_major": 2,
       "version_minor": 0
      },
      "text/plain": [
       "Renderer(camera=PerspectiveCamera(aspect=1.5, children=(DirectionalLight(intensity=0.5, matrixWorldNeedsUpdate…"
      ]
     },
     "metadata": {},
     "output_type": "display_data"
    },
    {
     "data": {
      "application/vnd.jupyter.widget-view+json": {
       "model_id": "8eb99b2b58954c09ae6979575eb90585",
       "version_major": 2,
       "version_minor": 0
      },
      "text/plain": [
       "AnimationAction(clip=AnimationClip(duration=3.5899999141693115, tracks=(VectorKeyframeTrack(name='.position', …"
      ]
     },
     "metadata": {},
     "output_type": "display_data"
    }
   ],
   "source": [
    "camera_position=[0.0, 0.0, 10.0]\n",
    "viewer.show(camera_position=camera_position, action=sphere_action)"
   ]
  },
  {
   "cell_type": "markdown",
   "metadata": {
    "cell_style": "split",
    "slideshow": {
     "slide_type": "slide"
    }
   },
   "source": [
    "### Euler angles\n",
    "\n",
    "The Euler angles are three angles introduced by Leonhard Euler to describe the orientation of a rigid body with respect\n",
    "to a fixed coordinate system.\n",
    "\n",
    "The three elemental rotations may be \n",
    "* extrinsic (`static=True`, rotations about the axes xyz of the original coordinate system, which is assumed to remain motionless), or\n",
    "* intrinsic (`static=False`, rotations about the axes of the rotating coordinate system XYZ, solidary with the moving body, which changes its orientation after each elemental rotation).\n",
    "\n",
    "Euler angles are typically denoted as α, β, γ. Different authors use different sets of rotation axes to \n",
    "define Euler angles (`axes='xyz'`,`axes='xyx'`, ...) or different names for the same angles.\n",
    "In flight dynamics, the principal rotations described with Euler angles are known as *pitch*, *roll* and *yaw*."
   ]
  },
  {
   "cell_type": "markdown",
   "metadata": {
    "cell_style": "split",
    "slideshow": {
     "slide_type": "-"
    }
   },
   "source": [
    "<img src='https://upload.wikimedia.org/wikipedia/commons/thumb/8/82/Euler.png/543px-Euler.png' style='height:450px' />"
   ]
  },
  {
   "cell_type": "code",
   "execution_count": 172,
   "metadata": {
    "cell_style": "center",
    "slideshow": {
     "slide_type": "slide"
    }
   },
   "outputs": [],
   "source": [
    "from compas.geometry import *\n",
    "\n",
    "box = Box(Frame([0,0,0], [1,0,0], [0,1,0]), 1., 1., 1.)\n",
    " \n",
    "alpha, beta, gamma = 0.3, 0.5, 0.7\n",
    "xaxis, yaxis, zaxis = [1, 0, 0], [0, 1, 0], [0, 0, 1]\n",
    "\n",
    "Rx = Rotation.from_axis_and_angle(xaxis, alpha)\n",
    "Ry = Rotation.from_axis_and_angle(yaxis, beta)\n",
    "Rz = Rotation.from_axis_and_angle(zaxis, gamma)"
   ]
  },
  {
   "cell_type": "code",
   "execution_count": 185,
   "metadata": {},
   "outputs": [
    {
     "name": "stdout",
     "output_type": "stream",
     "text": [
      "()\n"
     ]
    },
    {
     "data": {
      "application/vnd.jupyter.widget-view+json": {
       "model_id": "c4caed1249de43449543b5b44b7e85c4",
       "version_major": 2,
       "version_minor": 0
      },
      "text/plain": [
       "Renderer(camera=PerspectiveCamera(aspect=1.5, children=(DirectionalLight(intensity=0.5, position=(0.0, 0.0, 1.…"
      ]
     },
     "metadata": {},
     "output_type": "display_data"
    },
    {
     "data": {
      "application/vnd.jupyter.widget-view+json": {
       "model_id": "8ca1700f6e8849f69e473aafce2cc224",
       "version_major": 2,
       "version_minor": 0
      },
      "text/plain": [
       "AnimationAction(clip=AnimationClip(tracks=(VectorKeyframeTrack(name='.position', times=array([ 0,  3,  5,  8, …"
      ]
     },
     "metadata": {},
     "output_type": "display_data"
    }
   ],
   "source": [
    "import math\n",
    "\n",
    "viewer = ThreeJsViewer()\n",
    "jbox = viewer.draw_box(box)\n",
    "frame = viewer.draw_frame(box.frame)\n",
    "\n",
    "times = []\n",
    "transformations = []\n",
    "\n",
    "times.append(0)\n",
    "transformations.append(Transformation())\n",
    "\n",
    "times.append(3)\n",
    "transformations.append(Rx)\n",
    "# pause\n",
    "times.append(5)\n",
    "transformations.append(Rx)\n",
    "\n",
    "times.append(8)\n",
    "transformations.append(Rx * Ry)\n",
    "# pause\n",
    "times.append(10)\n",
    "transformations.append(Rx * Ry)\n",
    "\n",
    "times.append(13)\n",
    "transformations.append(Rx * Ry * Rz)\n",
    "# pause\n",
    "times.append(17)\n",
    "transformations.append(Rx * Ry * Rz)\n",
    "\n",
    "import pythreejs as p3js\n",
    "group = p3js.Group(children=[jbox, frame])\n",
    "action = viewer.create_action(jbox, transformations, times, group_with=[frame])\n",
    "#box_action = viewer.create_action(jbox, transformations, times)\n",
    "#frame_action = viewer.create_action(frame, transformations, times)\n",
    "viewer.show(action=action)"
   ]
  },
  {
   "cell_type": "code",
   "execution_count": null,
   "metadata": {
    "slideshow": {
     "slide_type": "slide"
    }
   },
   "outputs": [],
   "source": [
    "\"\"\"Example: Rotations from euler angles, rotate an object based on 3 euler angles.\n",
    "\"\"\"\n",
    "\n",
    "import compas\n",
    "from compas.geometry import Frame\n",
    "from compas.geometry import Rotation\n",
    "from compas.datastructures import Mesh\n",
    "from compas.datastructures import mesh_transform\n",
    "\n",
    "# euler angles\n",
    "alpha, beta, gamma = -0.156, -0.274, 0.785\n",
    "static, axes = True, 'xyz'\n",
    "\n",
    "# Version 1: Create Rotation from angles\n",
    "R1 = Rotation.from_euler_angles([alpha, beta, gamma], static, axes)\n",
    "\n",
    "# Version 2: Concatenate 3 Rotations\n",
    "xaxis, yaxis, zaxis = [1, 0, 0], [0, 1, 0], [0, 0, 1]\n",
    "Rx = Rotation.from_axis_and_angle(xaxis, alpha)\n",
    "Ry = Rotation.from_axis_and_angle(yaxis, beta)\n",
    "Rz = Rotation.from_axis_and_angle(zaxis, gamma)\n",
    " \n",
    "if static: # check order!\n",
    "    R2 = Rz * Ry * Rx\n",
    "else:\n",
    "    R2 = Rx * Ry * Rz\n",
    "\n",
    "# Check\n",
    "print(R1 == R2)"
   ]
  },
  {
   "cell_type": "markdown",
   "metadata": {
    "cell_style": "split",
    "slideshow": {
     "slide_type": "slide"
    }
   },
   "source": [
    "### Axis-angle representation\n",
    "\n",
    "The axis–angle representation of a rotation parameterizes a rotation in a three-dimensional Euclidean space by two \n",
    "quantities: a unit vector $\\mathbf{e}$ indicating the direction of an axis of rotation, and an angle $θ$ describing \n",
    "the magnitude of the rotation about the axis."
   ]
  },
  {
   "cell_type": "markdown",
   "metadata": {
    "cell_style": "split"
   },
   "source": [
    "<img src='https://upload.wikimedia.org/wikipedia/commons/thumb/7/7b/Angle_axis_vector.svg/300px-Angle_axis_vector.svg.png' style='height:250px' />"
   ]
  },
  {
   "cell_type": "code",
   "execution_count": null,
   "metadata": {
    "slideshow": {
     "slide_type": "slide"
    }
   },
   "outputs": [],
   "source": [
    "\"\"\"Example: Create a rotation from and axis and an angle.\n",
    "\"\"\"\n",
    "from compas.geometry import *\n",
    "aav = Vector(-0.043, -0.254, 0.617)\n",
    "angle, axis = aav.unitized(), aav.length\n",
    "print(angle, axis)\n",
    "R = Rotation.from_axis_angle_vector(aav)\n",
    "axis, angle = R.axis_and_angle\n",
    "print(axis, angle)"
   ]
  },
  {
   "cell_type": "markdown",
   "metadata": {
    "slideshow": {
     "slide_type": "slide"
    }
   },
   "source": [
    "### Quaternion\n",
    "\n",
    "In mathematics, the quaternions are a number system that extends the complex numbers. \n",
    "\n",
    "Quaternions are generally represented in the form:\n",
    "\n",
    "${\\displaystyle a+b\\ \\mathbf{i} +c\\ \\mathbf{j} +d\\ \\mathbf{k} }$\n",
    "\n",
    "where $a$, $b$, $c$, and $d$ are real numbers, and $\\mathbf{i}$, $\\mathbf{j}$, and $\\mathbf{k}$ are the fundamental quaternion units.\n",
    "\n",
    "Unit quaternions, also known as versors, provide a convenient mathematical notation for representing orientations and \n",
    "rotations of objects in three dimensions. Compared to Euler angles they are simpler to compose and compared to \n",
    "rotation matrices they are more compact, more numerically stable, and more efficient. \n"
   ]
  },
  {
   "cell_type": "code",
   "execution_count": null,
   "metadata": {
    "slideshow": {
     "slide_type": "slide"
    }
   },
   "outputs": [],
   "source": [
    "from compas.geometry import Rotation\n",
    "from compas.geometry import Quaternion\n",
    "\n",
    "q = Quaternion(0.918958, -0.020197, -0.151477, 0.363544)\n",
    "print(q.is_unit)\n",
    "R = Rotation.from_quaternion(q)\n",
    "print(R.quaternion == q)\n"
   ]
  },
  {
   "cell_type": "code",
   "execution_count": null,
   "metadata": {
    "slideshow": {
     "slide_type": "slide"
    }
   },
   "outputs": [],
   "source": [
    "\"\"\"Example: Different Robot vendors use different conventions to describe TCP orientation.\"\"\"\n",
    "\n",
    "from compas.geometry import Point\n",
    "from compas.geometry import Vector\n",
    "from compas.geometry import Frame\n",
    "point = Point(0.0, 0.0, 63.0)\n",
    "xaxis = Vector(0.68, 0.68, 0.27)\n",
    "yaxis = Vector(-0.67, 0.73, -0.15)\n",
    "F = Frame(point, xaxis, yaxis)\n",
    "print(F.quaternion) # ABB\n",
    "print(F.euler_angles(static=False, axes='xyz')) # Staubli\n",
    "print(F.euler_angles(static=False, axes='zyx')) # KUKA\n",
    "print(F.axis_angle_vector) # UR"
   ]
  },
  {
   "cell_type": "code",
   "execution_count": 187,
   "metadata": {
    "slideshow": {
     "slide_type": "slide"
    }
   },
   "outputs": [],
   "source": [
    "\"\"\"Example: Project the points of a box onto the xy-plane.\n",
    "\"\"\"\n",
    "\n",
    "from compas.geometry import Frame\n",
    "from compas.geometry import Projection\n",
    "from compas.geometry import transform_points\n",
    "from compas.geometry import Box\n",
    "\n",
    "from compas.datastructures import Mesh\n",
    "\n",
    "# create a box\n",
    "frame = Frame([0, 0, 2], [-0.47, 0.85, -0.24], [-0.75, -0.53, -0.39])\n",
    "box = Box(frame, 1, 1, 1)\n",
    "\n",
    "# try different projections\n",
    "point, normal = [0, 0, 0], [0, 0, 1] # projection plane is xy plane\n",
    "# project orthogonal onto the plane\n",
    "P = Projection.orthogonal(point, normal)\n",
    "# project parallel with a certain direction\n",
    "P = Projection.parallel(point, normal, [-0.5, 0.1, -0.7])\n",
    "# project perspective from a certain view point\n",
    "P = Projection.perspective(point, normal, [0.6, -1, 6])\n",
    "\n",
    "# Perform the transformation onto the box' vertices \n",
    "pts = transform_points(box.vertices, P)"
   ]
  },
  {
   "cell_type": "code",
   "execution_count": 189,
   "metadata": {},
   "outputs": [
    {
     "ename": "TraitError",
     "evalue": "The 'colors' trait of a LineSegmentsGeometry instance must be a numpy array or a NDArrayBase, but a value of [['#ffff00', '#ffff00'], ['#ffff00', '#ffff00'], ['#ffff00', '#ffff00'], ['#ffff00', '#ffff00'], ['#ffff00', '#ffff00'], ['#ffff00', '#ffff00'], ['#ffff00', '#ffff00'], ['#ffff00', '#ffff00'], ['#ffff00', '#ffff00'], ['#ffff00', '#ffff00'], ['#ffff00', '#ffff00'], ['#ffff00', '#ffff00']] <class 'list'> was specified.",
     "output_type": "error",
     "traceback": [
      "\u001b[1;31m---------------------------------------------------------------------------\u001b[0m",
      "\u001b[1;31mTraitError\u001b[0m                                Traceback (most recent call last)",
      "\u001b[1;32m<ipython-input-189-81e3f3e6e405>\u001b[0m in \u001b[0;36m<module>\u001b[1;34m\u001b[0m\n\u001b[0;32m      3\u001b[0m \u001b[1;31m# draw edges between the projected points\u001b[0m\u001b[1;33m\u001b[0m\u001b[1;33m\u001b[0m\u001b[1;33m\u001b[0m\u001b[0m\n\u001b[0;32m      4\u001b[0m \u001b[0mmesh\u001b[0m \u001b[1;33m=\u001b[0m \u001b[0mMesh\u001b[0m\u001b[1;33m.\u001b[0m\u001b[0mfrom_vertices_and_faces\u001b[0m\u001b[1;33m(\u001b[0m\u001b[0mpts\u001b[0m\u001b[1;33m,\u001b[0m \u001b[0mbox\u001b[0m\u001b[1;33m.\u001b[0m\u001b[0mfaces\u001b[0m\u001b[1;33m)\u001b[0m\u001b[1;33m\u001b[0m\u001b[1;33m\u001b[0m\u001b[0m\n\u001b[1;32m----> 5\u001b[1;33m \u001b[0mviewer\u001b[0m\u001b[1;33m.\u001b[0m\u001b[0mdraw_mesh_edges\u001b[0m\u001b[1;33m(\u001b[0m\u001b[0mmesh\u001b[0m\u001b[1;33m,\u001b[0m \u001b[1;34m\"#ffff00\"\u001b[0m\u001b[1;33m)\u001b[0m\u001b[1;33m\u001b[0m\u001b[1;33m\u001b[0m\u001b[0m\n\u001b[0m\u001b[0;32m      6\u001b[0m \u001b[0mviewer\u001b[0m\u001b[1;33m.\u001b[0m\u001b[0mshow\u001b[0m\u001b[1;33m(\u001b[0m\u001b[1;33m)\u001b[0m\u001b[1;33m\u001b[0m\u001b[1;33m\u001b[0m\u001b[0m\n",
      "\u001b[1;32m~\\workspace\\teaching\\ITA19\\modules\\module6\\threejs_viewer.py\u001b[0m in \u001b[0;36mdraw_mesh_edges\u001b[1;34m(self, mesh, color)\u001b[0m\n\u001b[0;32m    184\u001b[0m             \u001b[0mlines\u001b[0m\u001b[1;33m.\u001b[0m\u001b[0mappend\u001b[0m\u001b[1;33m(\u001b[0m\u001b[1;33m[\u001b[0m\u001b[0mmesh\u001b[0m\u001b[1;33m.\u001b[0m\u001b[0mvertex_coordinates\u001b[0m\u001b[1;33m(\u001b[0m\u001b[0mu\u001b[0m\u001b[1;33m)\u001b[0m\u001b[1;33m,\u001b[0m \u001b[0mmesh\u001b[0m\u001b[1;33m.\u001b[0m\u001b[0mvertex_coordinates\u001b[0m\u001b[1;33m(\u001b[0m\u001b[0mv\u001b[0m\u001b[1;33m)\u001b[0m\u001b[1;33m]\u001b[0m\u001b[1;33m)\u001b[0m\u001b[1;33m\u001b[0m\u001b[1;33m\u001b[0m\u001b[0m\n\u001b[0;32m    185\u001b[0m         \u001b[0mcolors\u001b[0m \u001b[1;33m=\u001b[0m \u001b[1;33m[\u001b[0m\u001b[0mcolor\u001b[0m\u001b[1;33m]\u001b[0m \u001b[1;33m*\u001b[0m \u001b[0mlen\u001b[0m\u001b[1;33m(\u001b[0m\u001b[0mlines\u001b[0m\u001b[1;33m)\u001b[0m\u001b[1;33m\u001b[0m\u001b[1;33m\u001b[0m\u001b[0m\n\u001b[1;32m--> 186\u001b[1;33m         \u001b[1;32mreturn\u001b[0m \u001b[0mself\u001b[0m\u001b[1;33m.\u001b[0m\u001b[0mdraw_lines\u001b[0m\u001b[1;33m(\u001b[0m\u001b[0mlines\u001b[0m\u001b[1;33m,\u001b[0m \u001b[0mcolors\u001b[0m\u001b[1;33m)\u001b[0m\u001b[1;33m\u001b[0m\u001b[1;33m\u001b[0m\u001b[0m\n\u001b[0m",
      "\u001b[1;32m~\\workspace\\teaching\\ITA19\\modules\\module6\\threejs_viewer.py\u001b[0m in \u001b[0;36mdraw_lines\u001b[1;34m(self, lines, colors, line_width)\u001b[0m\n\u001b[0;32m    165\u001b[0m         \u001b[0mpositions\u001b[0m \u001b[1;33m=\u001b[0m \u001b[0mnp\u001b[0m\u001b[1;33m.\u001b[0m\u001b[0marray\u001b[0m\u001b[1;33m(\u001b[0m\u001b[0mlines\u001b[0m\u001b[1;33m)\u001b[0m\u001b[1;33m\u001b[0m\u001b[1;33m\u001b[0m\u001b[0m\n\u001b[0;32m    166\u001b[0m         \u001b[0mcolors\u001b[0m \u001b[1;33m=\u001b[0m \u001b[1;33m[\u001b[0m\u001b[1;33m[\u001b[0m\u001b[0mcolors\u001b[0m\u001b[1;33m[\u001b[0m\u001b[0mi\u001b[0m\u001b[1;33m]\u001b[0m\u001b[1;33m,\u001b[0m \u001b[0mcolors\u001b[0m\u001b[1;33m[\u001b[0m\u001b[0mi\u001b[0m\u001b[1;33m]\u001b[0m\u001b[1;33m]\u001b[0m \u001b[1;32mfor\u001b[0m \u001b[0mi\u001b[0m\u001b[1;33m,\u001b[0m \u001b[0mline\u001b[0m \u001b[1;32min\u001b[0m \u001b[0menumerate\u001b[0m\u001b[1;33m(\u001b[0m\u001b[0mlines\u001b[0m\u001b[1;33m)\u001b[0m\u001b[1;33m]\u001b[0m\u001b[1;33m\u001b[0m\u001b[1;33m\u001b[0m\u001b[0m\n\u001b[1;32m--> 167\u001b[1;33m         \u001b[0mg\u001b[0m \u001b[1;33m=\u001b[0m \u001b[0mp3js\u001b[0m\u001b[1;33m.\u001b[0m\u001b[0mLineSegmentsGeometry\u001b[0m\u001b[1;33m(\u001b[0m\u001b[0mpositions\u001b[0m\u001b[1;33m=\u001b[0m\u001b[0mpositions\u001b[0m\u001b[1;33m,\u001b[0m \u001b[0mcolors\u001b[0m\u001b[1;33m=\u001b[0m\u001b[0mcolors\u001b[0m\u001b[1;33m)\u001b[0m\u001b[1;33m\u001b[0m\u001b[1;33m\u001b[0m\u001b[0m\n\u001b[0m\u001b[0;32m    168\u001b[0m         \u001b[0mm\u001b[0m \u001b[1;33m=\u001b[0m \u001b[0mp3js\u001b[0m\u001b[1;33m.\u001b[0m\u001b[0mLineMaterial\u001b[0m\u001b[1;33m(\u001b[0m\u001b[0mlinewidth\u001b[0m\u001b[1;33m=\u001b[0m\u001b[0mline_width\u001b[0m\u001b[1;33m,\u001b[0m \u001b[0mvertexColors\u001b[0m\u001b[1;33m=\u001b[0m\u001b[1;34m'VertexColors'\u001b[0m\u001b[1;33m)\u001b[0m\u001b[1;33m\u001b[0m\u001b[1;33m\u001b[0m\u001b[0m\n\u001b[0;32m    169\u001b[0m         \u001b[0mlines\u001b[0m \u001b[1;33m=\u001b[0m \u001b[0mp3js\u001b[0m\u001b[1;33m.\u001b[0m\u001b[0mLineSegments2\u001b[0m\u001b[1;33m(\u001b[0m\u001b[0mg\u001b[0m\u001b[1;33m,\u001b[0m \u001b[0mm\u001b[0m\u001b[1;33m)\u001b[0m\u001b[1;33m\u001b[0m\u001b[1;33m\u001b[0m\u001b[0m\n",
      "\u001b[1;32mC:\\ProgramData\\Anaconda3\\lib\\site-packages\\pythreejs\\geometries\\LineSegmentsGeometry_autogen.py\u001b[0m in \u001b[0;36m__init__\u001b[1;34m(self, **kwargs)\u001b[0m\n\u001b[0;32m     27\u001b[0m \u001b[1;33m\u001b[0m\u001b[0m\n\u001b[0;32m     28\u001b[0m     \u001b[1;32mdef\u001b[0m \u001b[0m__init__\u001b[0m\u001b[1;33m(\u001b[0m\u001b[0mself\u001b[0m\u001b[1;33m,\u001b[0m \u001b[1;33m**\u001b[0m\u001b[0mkwargs\u001b[0m\u001b[1;33m)\u001b[0m\u001b[1;33m:\u001b[0m\u001b[1;33m\u001b[0m\u001b[1;33m\u001b[0m\u001b[0m\n\u001b[1;32m---> 29\u001b[1;33m         \u001b[0msuper\u001b[0m\u001b[1;33m(\u001b[0m\u001b[0mLineSegmentsGeometry\u001b[0m\u001b[1;33m,\u001b[0m \u001b[0mself\u001b[0m\u001b[1;33m)\u001b[0m\u001b[1;33m.\u001b[0m\u001b[0m__init__\u001b[0m\u001b[1;33m(\u001b[0m\u001b[1;33m**\u001b[0m\u001b[0mkwargs\u001b[0m\u001b[1;33m)\u001b[0m\u001b[1;33m\u001b[0m\u001b[1;33m\u001b[0m\u001b[0m\n\u001b[0m\u001b[0;32m     30\u001b[0m \u001b[1;33m\u001b[0m\u001b[0m\n\u001b[0;32m     31\u001b[0m     \u001b[0m_model_name\u001b[0m \u001b[1;33m=\u001b[0m \u001b[0mUnicode\u001b[0m\u001b[1;33m(\u001b[0m\u001b[1;34m'LineSegmentsGeometryModel'\u001b[0m\u001b[1;33m)\u001b[0m\u001b[1;33m.\u001b[0m\u001b[0mtag\u001b[0m\u001b[1;33m(\u001b[0m\u001b[0msync\u001b[0m\u001b[1;33m=\u001b[0m\u001b[1;32mTrue\u001b[0m\u001b[1;33m)\u001b[0m\u001b[1;33m\u001b[0m\u001b[1;33m\u001b[0m\u001b[0m\n",
      "\u001b[1;32mC:\\ProgramData\\Anaconda3\\lib\\site-packages\\pythreejs\\core\\BaseBufferGeometry_autogen.py\u001b[0m in \u001b[0;36m__init__\u001b[1;34m(self, **kwargs)\u001b[0m\n\u001b[0;32m     27\u001b[0m \u001b[1;33m\u001b[0m\u001b[0m\n\u001b[0;32m     28\u001b[0m     \u001b[1;32mdef\u001b[0m \u001b[0m__init__\u001b[0m\u001b[1;33m(\u001b[0m\u001b[0mself\u001b[0m\u001b[1;33m,\u001b[0m \u001b[1;33m**\u001b[0m\u001b[0mkwargs\u001b[0m\u001b[1;33m)\u001b[0m\u001b[1;33m:\u001b[0m\u001b[1;33m\u001b[0m\u001b[1;33m\u001b[0m\u001b[0m\n\u001b[1;32m---> 29\u001b[1;33m         \u001b[0msuper\u001b[0m\u001b[1;33m(\u001b[0m\u001b[0mBaseBufferGeometry\u001b[0m\u001b[1;33m,\u001b[0m \u001b[0mself\u001b[0m\u001b[1;33m)\u001b[0m\u001b[1;33m.\u001b[0m\u001b[0m__init__\u001b[0m\u001b[1;33m(\u001b[0m\u001b[1;33m**\u001b[0m\u001b[0mkwargs\u001b[0m\u001b[1;33m)\u001b[0m\u001b[1;33m\u001b[0m\u001b[1;33m\u001b[0m\u001b[0m\n\u001b[0m\u001b[0;32m     30\u001b[0m \u001b[1;33m\u001b[0m\u001b[0m\n\u001b[0;32m     31\u001b[0m     \u001b[0m_model_name\u001b[0m \u001b[1;33m=\u001b[0m \u001b[0mUnicode\u001b[0m\u001b[1;33m(\u001b[0m\u001b[1;34m'BaseBufferGeometryModel'\u001b[0m\u001b[1;33m)\u001b[0m\u001b[1;33m.\u001b[0m\u001b[0mtag\u001b[0m\u001b[1;33m(\u001b[0m\u001b[0msync\u001b[0m\u001b[1;33m=\u001b[0m\u001b[1;32mTrue\u001b[0m\u001b[1;33m)\u001b[0m\u001b[1;33m\u001b[0m\u001b[1;33m\u001b[0m\u001b[0m\n",
      "\u001b[1;32mC:\\ProgramData\\Anaconda3\\lib\\site-packages\\pythreejs\\_base\\Three.py\u001b[0m in \u001b[0;36m__init__\u001b[1;34m(self, **kwargs)\u001b[0m\n\u001b[0;32m     15\u001b[0m \u001b[1;33m\u001b[0m\u001b[0m\n\u001b[0;32m     16\u001b[0m     \u001b[1;32mdef\u001b[0m \u001b[0m__init__\u001b[0m\u001b[1;33m(\u001b[0m\u001b[0mself\u001b[0m\u001b[1;33m,\u001b[0m \u001b[1;33m**\u001b[0m\u001b[0mkwargs\u001b[0m\u001b[1;33m)\u001b[0m\u001b[1;33m:\u001b[0m\u001b[1;33m\u001b[0m\u001b[1;33m\u001b[0m\u001b[0m\n\u001b[1;32m---> 17\u001b[1;33m         \u001b[0msuper\u001b[0m\u001b[1;33m(\u001b[0m\u001b[0mThreeWidget\u001b[0m\u001b[1;33m,\u001b[0m \u001b[0mself\u001b[0m\u001b[1;33m)\u001b[0m\u001b[1;33m.\u001b[0m\u001b[0m__init__\u001b[0m\u001b[1;33m(\u001b[0m\u001b[1;33m**\u001b[0m\u001b[0mkwargs\u001b[0m\u001b[1;33m)\u001b[0m\u001b[1;33m\u001b[0m\u001b[1;33m\u001b[0m\u001b[0m\n\u001b[0m\u001b[0;32m     18\u001b[0m         \u001b[0mself\u001b[0m\u001b[1;33m.\u001b[0m\u001b[0mon_msg\u001b[0m\u001b[1;33m(\u001b[0m\u001b[0mself\u001b[0m\u001b[1;33m.\u001b[0m\u001b[0m_on_potential_ret_val\u001b[0m\u001b[1;33m)\u001b[0m\u001b[1;33m\u001b[0m\u001b[1;33m\u001b[0m\u001b[0m\n\u001b[0;32m     19\u001b[0m \u001b[1;33m\u001b[0m\u001b[0m\n",
      "\u001b[1;32mC:\\ProgramData\\Anaconda3\\lib\\site-packages\\ipywidgets\\widgets\\widget.py\u001b[0m in \u001b[0;36m__init__\u001b[1;34m(self, **kwargs)\u001b[0m\n\u001b[0;32m    409\u001b[0m         \u001b[1;34m\"\"\"Public constructor\"\"\"\u001b[0m\u001b[1;33m\u001b[0m\u001b[1;33m\u001b[0m\u001b[0m\n\u001b[0;32m    410\u001b[0m         \u001b[0mself\u001b[0m\u001b[1;33m.\u001b[0m\u001b[0m_model_id\u001b[0m \u001b[1;33m=\u001b[0m \u001b[0mkwargs\u001b[0m\u001b[1;33m.\u001b[0m\u001b[0mpop\u001b[0m\u001b[1;33m(\u001b[0m\u001b[1;34m'model_id'\u001b[0m\u001b[1;33m,\u001b[0m \u001b[1;32mNone\u001b[0m\u001b[1;33m)\u001b[0m\u001b[1;33m\u001b[0m\u001b[1;33m\u001b[0m\u001b[0m\n\u001b[1;32m--> 411\u001b[1;33m         \u001b[0msuper\u001b[0m\u001b[1;33m(\u001b[0m\u001b[0mWidget\u001b[0m\u001b[1;33m,\u001b[0m \u001b[0mself\u001b[0m\u001b[1;33m)\u001b[0m\u001b[1;33m.\u001b[0m\u001b[0m__init__\u001b[0m\u001b[1;33m(\u001b[0m\u001b[1;33m**\u001b[0m\u001b[0mkwargs\u001b[0m\u001b[1;33m)\u001b[0m\u001b[1;33m\u001b[0m\u001b[1;33m\u001b[0m\u001b[0m\n\u001b[0m\u001b[0;32m    412\u001b[0m \u001b[1;33m\u001b[0m\u001b[0m\n\u001b[0;32m    413\u001b[0m         \u001b[0mWidget\u001b[0m\u001b[1;33m.\u001b[0m\u001b[0m_call_widget_constructed\u001b[0m\u001b[1;33m(\u001b[0m\u001b[0mself\u001b[0m\u001b[1;33m)\u001b[0m\u001b[1;33m\u001b[0m\u001b[1;33m\u001b[0m\u001b[0m\n",
      "\u001b[1;32mC:\\ProgramData\\Anaconda3\\lib\\site-packages\\traitlets\\traitlets.py\u001b[0m in \u001b[0;36m__init__\u001b[1;34m(self, *args, **kwargs)\u001b[0m\n\u001b[0;32m    995\u001b[0m             \u001b[1;32mfor\u001b[0m \u001b[0mkey\u001b[0m\u001b[1;33m,\u001b[0m \u001b[0mvalue\u001b[0m \u001b[1;32min\u001b[0m \u001b[0mkwargs\u001b[0m\u001b[1;33m.\u001b[0m\u001b[0mitems\u001b[0m\u001b[1;33m(\u001b[0m\u001b[1;33m)\u001b[0m\u001b[1;33m:\u001b[0m\u001b[1;33m\u001b[0m\u001b[1;33m\u001b[0m\u001b[0m\n\u001b[0;32m    996\u001b[0m                 \u001b[1;32mif\u001b[0m \u001b[0mself\u001b[0m\u001b[1;33m.\u001b[0m\u001b[0mhas_trait\u001b[0m\u001b[1;33m(\u001b[0m\u001b[0mkey\u001b[0m\u001b[1;33m)\u001b[0m\u001b[1;33m:\u001b[0m\u001b[1;33m\u001b[0m\u001b[1;33m\u001b[0m\u001b[0m\n\u001b[1;32m--> 997\u001b[1;33m                     \u001b[0msetattr\u001b[0m\u001b[1;33m(\u001b[0m\u001b[0mself\u001b[0m\u001b[1;33m,\u001b[0m \u001b[0mkey\u001b[0m\u001b[1;33m,\u001b[0m \u001b[0mvalue\u001b[0m\u001b[1;33m)\u001b[0m\u001b[1;33m\u001b[0m\u001b[1;33m\u001b[0m\u001b[0m\n\u001b[0m\u001b[0;32m    998\u001b[0m                 \u001b[1;32melse\u001b[0m\u001b[1;33m:\u001b[0m\u001b[1;33m\u001b[0m\u001b[1;33m\u001b[0m\u001b[0m\n\u001b[0;32m    999\u001b[0m                     \u001b[1;31m# passthrough args that don't set traits to super\u001b[0m\u001b[1;33m\u001b[0m\u001b[1;33m\u001b[0m\u001b[1;33m\u001b[0m\u001b[0m\n",
      "\u001b[1;32mC:\\ProgramData\\Anaconda3\\lib\\site-packages\\traitlets\\traitlets.py\u001b[0m in \u001b[0;36m__set__\u001b[1;34m(self, obj, value)\u001b[0m\n\u001b[0;32m    583\u001b[0m             \u001b[1;32mraise\u001b[0m \u001b[0mTraitError\u001b[0m\u001b[1;33m(\u001b[0m\u001b[1;34m'The \"%s\" trait is read-only.'\u001b[0m \u001b[1;33m%\u001b[0m \u001b[0mself\u001b[0m\u001b[1;33m.\u001b[0m\u001b[0mname\u001b[0m\u001b[1;33m)\u001b[0m\u001b[1;33m\u001b[0m\u001b[1;33m\u001b[0m\u001b[0m\n\u001b[0;32m    584\u001b[0m         \u001b[1;32melse\u001b[0m\u001b[1;33m:\u001b[0m\u001b[1;33m\u001b[0m\u001b[1;33m\u001b[0m\u001b[0m\n\u001b[1;32m--> 585\u001b[1;33m             \u001b[0mself\u001b[0m\u001b[1;33m.\u001b[0m\u001b[0mset\u001b[0m\u001b[1;33m(\u001b[0m\u001b[0mobj\u001b[0m\u001b[1;33m,\u001b[0m \u001b[0mvalue\u001b[0m\u001b[1;33m)\u001b[0m\u001b[1;33m\u001b[0m\u001b[1;33m\u001b[0m\u001b[0m\n\u001b[0m\u001b[0;32m    586\u001b[0m \u001b[1;33m\u001b[0m\u001b[0m\n\u001b[0;32m    587\u001b[0m     \u001b[1;32mdef\u001b[0m \u001b[0m_validate\u001b[0m\u001b[1;33m(\u001b[0m\u001b[0mself\u001b[0m\u001b[1;33m,\u001b[0m \u001b[0mobj\u001b[0m\u001b[1;33m,\u001b[0m \u001b[0mvalue\u001b[0m\u001b[1;33m)\u001b[0m\u001b[1;33m:\u001b[0m\u001b[1;33m\u001b[0m\u001b[1;33m\u001b[0m\u001b[0m\n",
      "\u001b[1;32mC:\\ProgramData\\Anaconda3\\lib\\site-packages\\traitlets\\traitlets.py\u001b[0m in \u001b[0;36mset\u001b[1;34m(self, obj, value)\u001b[0m\n\u001b[0;32m    557\u001b[0m \u001b[1;33m\u001b[0m\u001b[0m\n\u001b[0;32m    558\u001b[0m     \u001b[1;32mdef\u001b[0m \u001b[0mset\u001b[0m\u001b[1;33m(\u001b[0m\u001b[0mself\u001b[0m\u001b[1;33m,\u001b[0m \u001b[0mobj\u001b[0m\u001b[1;33m,\u001b[0m \u001b[0mvalue\u001b[0m\u001b[1;33m)\u001b[0m\u001b[1;33m:\u001b[0m\u001b[1;33m\u001b[0m\u001b[1;33m\u001b[0m\u001b[0m\n\u001b[1;32m--> 559\u001b[1;33m         \u001b[0mnew_value\u001b[0m \u001b[1;33m=\u001b[0m \u001b[0mself\u001b[0m\u001b[1;33m.\u001b[0m\u001b[0m_validate\u001b[0m\u001b[1;33m(\u001b[0m\u001b[0mobj\u001b[0m\u001b[1;33m,\u001b[0m \u001b[0mvalue\u001b[0m\u001b[1;33m)\u001b[0m\u001b[1;33m\u001b[0m\u001b[1;33m\u001b[0m\u001b[0m\n\u001b[0m\u001b[0;32m    560\u001b[0m         \u001b[1;32mtry\u001b[0m\u001b[1;33m:\u001b[0m\u001b[1;33m\u001b[0m\u001b[1;33m\u001b[0m\u001b[0m\n\u001b[0;32m    561\u001b[0m             \u001b[0mold_value\u001b[0m \u001b[1;33m=\u001b[0m \u001b[0mobj\u001b[0m\u001b[1;33m.\u001b[0m\u001b[0m_trait_values\u001b[0m\u001b[1;33m[\u001b[0m\u001b[0mself\u001b[0m\u001b[1;33m.\u001b[0m\u001b[0mname\u001b[0m\u001b[1;33m]\u001b[0m\u001b[1;33m\u001b[0m\u001b[1;33m\u001b[0m\u001b[0m\n",
      "\u001b[1;32mC:\\ProgramData\\Anaconda3\\lib\\site-packages\\traitlets\\traitlets.py\u001b[0m in \u001b[0;36m_validate\u001b[1;34m(self, obj, value)\u001b[0m\n\u001b[0;32m    589\u001b[0m             \u001b[1;32mreturn\u001b[0m \u001b[0mvalue\u001b[0m\u001b[1;33m\u001b[0m\u001b[1;33m\u001b[0m\u001b[0m\n\u001b[0;32m    590\u001b[0m         \u001b[1;32mif\u001b[0m \u001b[0mhasattr\u001b[0m\u001b[1;33m(\u001b[0m\u001b[0mself\u001b[0m\u001b[1;33m,\u001b[0m \u001b[1;34m'validate'\u001b[0m\u001b[1;33m)\u001b[0m\u001b[1;33m:\u001b[0m\u001b[1;33m\u001b[0m\u001b[1;33m\u001b[0m\u001b[0m\n\u001b[1;32m--> 591\u001b[1;33m             \u001b[0mvalue\u001b[0m \u001b[1;33m=\u001b[0m \u001b[0mself\u001b[0m\u001b[1;33m.\u001b[0m\u001b[0mvalidate\u001b[0m\u001b[1;33m(\u001b[0m\u001b[0mobj\u001b[0m\u001b[1;33m,\u001b[0m \u001b[0mvalue\u001b[0m\u001b[1;33m)\u001b[0m\u001b[1;33m\u001b[0m\u001b[1;33m\u001b[0m\u001b[0m\n\u001b[0m\u001b[0;32m    592\u001b[0m         \u001b[1;32mif\u001b[0m \u001b[0mobj\u001b[0m\u001b[1;33m.\u001b[0m\u001b[0m_cross_validation_lock\u001b[0m \u001b[1;32mis\u001b[0m \u001b[1;32mFalse\u001b[0m\u001b[1;33m:\u001b[0m\u001b[1;33m\u001b[0m\u001b[1;33m\u001b[0m\u001b[0m\n\u001b[0;32m    593\u001b[0m             \u001b[0mvalue\u001b[0m \u001b[1;33m=\u001b[0m \u001b[0mself\u001b[0m\u001b[1;33m.\u001b[0m\u001b[0m_cross_validate\u001b[0m\u001b[1;33m(\u001b[0m\u001b[0mobj\u001b[0m\u001b[1;33m,\u001b[0m \u001b[0mvalue\u001b[0m\u001b[1;33m)\u001b[0m\u001b[1;33m\u001b[0m\u001b[1;33m\u001b[0m\u001b[0m\n",
      "\u001b[1;32mC:\\ProgramData\\Anaconda3\\lib\\site-packages\\pythreejs\\traits.py\u001b[0m in \u001b[0;36mvalidate\u001b[1;34m(self, obj, value)\u001b[0m\n\u001b[0;32m    175\u001b[0m     \u001b[1;32mdef\u001b[0m \u001b[0mvalidate\u001b[0m\u001b[1;33m(\u001b[0m\u001b[0mself\u001b[0m\u001b[1;33m,\u001b[0m \u001b[0mobj\u001b[0m\u001b[1;33m,\u001b[0m \u001b[0mvalue\u001b[0m\u001b[1;33m)\u001b[0m\u001b[1;33m:\u001b[0m\u001b[1;33m\u001b[0m\u001b[1;33m\u001b[0m\u001b[0m\n\u001b[0;32m    176\u001b[0m         \u001b[0mwas_original_array\u001b[0m \u001b[1;33m=\u001b[0m \u001b[0misinstance\u001b[0m\u001b[1;33m(\u001b[0m\u001b[0mvalue\u001b[0m\u001b[1;33m,\u001b[0m \u001b[0mnp\u001b[0m\u001b[1;33m.\u001b[0m\u001b[0mndarray\u001b[0m\u001b[1;33m)\u001b[0m\u001b[1;33m\u001b[0m\u001b[1;33m\u001b[0m\u001b[0m\n\u001b[1;32m--> 177\u001b[1;33m         \u001b[0mvalue\u001b[0m \u001b[1;33m=\u001b[0m \u001b[0msuper\u001b[0m\u001b[1;33m(\u001b[0m\u001b[0mWebGLDataUnion\u001b[0m\u001b[1;33m,\u001b[0m \u001b[0mself\u001b[0m\u001b[1;33m)\u001b[0m\u001b[1;33m.\u001b[0m\u001b[0mvalidate\u001b[0m\u001b[1;33m(\u001b[0m\u001b[0mobj\u001b[0m\u001b[1;33m,\u001b[0m \u001b[0mvalue\u001b[0m\u001b[1;33m)\u001b[0m\u001b[1;33m\u001b[0m\u001b[1;33m\u001b[0m\u001b[0m\n\u001b[0m\u001b[0;32m    178\u001b[0m         \u001b[0marray\u001b[0m \u001b[1;33m=\u001b[0m \u001b[0mvalue\u001b[0m\u001b[1;33m.\u001b[0m\u001b[0marray\u001b[0m \u001b[1;32mif\u001b[0m \u001b[0misinstance\u001b[0m\u001b[1;33m(\u001b[0m\u001b[0mvalue\u001b[0m\u001b[1;33m,\u001b[0m \u001b[0mNDArrayWidget\u001b[0m\u001b[1;33m)\u001b[0m \u001b[1;32melse\u001b[0m \u001b[0mvalue\u001b[0m\u001b[1;33m\u001b[0m\u001b[1;33m\u001b[0m\u001b[0m\n\u001b[0;32m    179\u001b[0m \u001b[1;33m\u001b[0m\u001b[0m\n",
      "\u001b[1;32mC:\\ProgramData\\Anaconda3\\lib\\site-packages\\ipydatawidgets\\ndarray\\union.py\u001b[0m in \u001b[0;36mvalidate\u001b[1;34m(self, obj, value)\u001b[0m\n\u001b[0;32m     71\u001b[0m \u001b[1;33m\u001b[0m\u001b[0m\n\u001b[0;32m     72\u001b[0m     \u001b[1;32mdef\u001b[0m \u001b[0mvalidate\u001b[0m\u001b[1;33m(\u001b[0m\u001b[0mself\u001b[0m\u001b[1;33m,\u001b[0m \u001b[0mobj\u001b[0m\u001b[1;33m,\u001b[0m \u001b[0mvalue\u001b[0m\u001b[1;33m)\u001b[0m\u001b[1;33m:\u001b[0m\u001b[1;33m\u001b[0m\u001b[1;33m\u001b[0m\u001b[0m\n\u001b[1;32m---> 73\u001b[1;33m         \u001b[0mvalue\u001b[0m \u001b[1;33m=\u001b[0m \u001b[0msuper\u001b[0m\u001b[1;33m(\u001b[0m\u001b[0mDataUnion\u001b[0m\u001b[1;33m,\u001b[0m \u001b[0mself\u001b[0m\u001b[1;33m)\u001b[0m\u001b[1;33m.\u001b[0m\u001b[0mvalidate\u001b[0m\u001b[1;33m(\u001b[0m\u001b[0mobj\u001b[0m\u001b[1;33m,\u001b[0m \u001b[0mvalue\u001b[0m\u001b[1;33m)\u001b[0m\u001b[1;33m\u001b[0m\u001b[1;33m\u001b[0m\u001b[0m\n\u001b[0m\u001b[0;32m     74\u001b[0m         \u001b[1;32mif\u001b[0m \u001b[0misinstance\u001b[0m\u001b[1;33m(\u001b[0m\u001b[0mvalue\u001b[0m\u001b[1;33m,\u001b[0m \u001b[0mNDArrayBase\u001b[0m\u001b[1;33m)\u001b[0m \u001b[1;32mand\u001b[0m \u001b[0mself\u001b[0m\u001b[1;33m.\u001b[0m\u001b[0mdtype\u001b[0m \u001b[1;32mis\u001b[0m \u001b[1;32mnot\u001b[0m \u001b[1;32mNone\u001b[0m\u001b[1;33m:\u001b[0m\u001b[1;33m\u001b[0m\u001b[1;33m\u001b[0m\u001b[0m\n\u001b[0;32m     75\u001b[0m             \u001b[1;32mif\u001b[0m \u001b[0mvalue\u001b[0m\u001b[1;33m.\u001b[0m\u001b[0mdtype\u001b[0m \u001b[1;33m!=\u001b[0m \u001b[0mself\u001b[0m\u001b[1;33m.\u001b[0m\u001b[0mdtype\u001b[0m\u001b[1;33m:\u001b[0m\u001b[1;33m\u001b[0m\u001b[1;33m\u001b[0m\u001b[0m\n",
      "\u001b[1;32mC:\\ProgramData\\Anaconda3\\lib\\site-packages\\traitlets\\traitlets.py\u001b[0m in \u001b[0;36mvalidate\u001b[1;34m(self, obj, value)\u001b[0m\n\u001b[0;32m   1801\u001b[0m                 \u001b[1;32mexcept\u001b[0m \u001b[0mTraitError\u001b[0m\u001b[1;33m:\u001b[0m\u001b[1;33m\u001b[0m\u001b[1;33m\u001b[0m\u001b[0m\n\u001b[0;32m   1802\u001b[0m                     \u001b[1;32mcontinue\u001b[0m\u001b[1;33m\u001b[0m\u001b[1;33m\u001b[0m\u001b[0m\n\u001b[1;32m-> 1803\u001b[1;33m         \u001b[0mself\u001b[0m\u001b[1;33m.\u001b[0m\u001b[0merror\u001b[0m\u001b[1;33m(\u001b[0m\u001b[0mobj\u001b[0m\u001b[1;33m,\u001b[0m \u001b[0mvalue\u001b[0m\u001b[1;33m)\u001b[0m\u001b[1;33m\u001b[0m\u001b[1;33m\u001b[0m\u001b[0m\n\u001b[0m\u001b[0;32m   1804\u001b[0m \u001b[1;33m\u001b[0m\u001b[0m\n\u001b[0;32m   1805\u001b[0m     \u001b[1;32mdef\u001b[0m \u001b[0m__or__\u001b[0m\u001b[1;33m(\u001b[0m\u001b[0mself\u001b[0m\u001b[1;33m,\u001b[0m \u001b[0mother\u001b[0m\u001b[1;33m)\u001b[0m\u001b[1;33m:\u001b[0m\u001b[1;33m\u001b[0m\u001b[1;33m\u001b[0m\u001b[0m\n",
      "\u001b[1;32mC:\\ProgramData\\Anaconda3\\lib\\site-packages\\traitlets\\traitlets.py\u001b[0m in \u001b[0;36merror\u001b[1;34m(self, obj, value)\u001b[0m\n\u001b[0;32m    623\u001b[0m             \u001b[0me\u001b[0m \u001b[1;33m=\u001b[0m \u001b[1;34m\"The '%s' trait must be %s, but a value of %r was specified.\"\u001b[0m\u001b[0;31m \u001b[0m\u001b[0;31m\\\u001b[0m\u001b[1;33m\u001b[0m\u001b[1;33m\u001b[0m\u001b[0m\n\u001b[0;32m    624\u001b[0m                 \u001b[1;33m%\u001b[0m \u001b[1;33m(\u001b[0m\u001b[0mself\u001b[0m\u001b[1;33m.\u001b[0m\u001b[0mname\u001b[0m\u001b[1;33m,\u001b[0m \u001b[0mself\u001b[0m\u001b[1;33m.\u001b[0m\u001b[0minfo\u001b[0m\u001b[1;33m(\u001b[0m\u001b[1;33m)\u001b[0m\u001b[1;33m,\u001b[0m \u001b[0mrepr_type\u001b[0m\u001b[1;33m(\u001b[0m\u001b[0mvalue\u001b[0m\u001b[1;33m)\u001b[0m\u001b[1;33m)\u001b[0m\u001b[1;33m\u001b[0m\u001b[1;33m\u001b[0m\u001b[0m\n\u001b[1;32m--> 625\u001b[1;33m         \u001b[1;32mraise\u001b[0m \u001b[0mTraitError\u001b[0m\u001b[1;33m(\u001b[0m\u001b[0me\u001b[0m\u001b[1;33m)\u001b[0m\u001b[1;33m\u001b[0m\u001b[1;33m\u001b[0m\u001b[0m\n\u001b[0m\u001b[0;32m    626\u001b[0m \u001b[1;33m\u001b[0m\u001b[0m\n\u001b[0;32m    627\u001b[0m     \u001b[1;32mdef\u001b[0m \u001b[0mget_metadata\u001b[0m\u001b[1;33m(\u001b[0m\u001b[0mself\u001b[0m\u001b[1;33m,\u001b[0m \u001b[0mkey\u001b[0m\u001b[1;33m,\u001b[0m \u001b[0mdefault\u001b[0m\u001b[1;33m=\u001b[0m\u001b[1;32mNone\u001b[0m\u001b[1;33m)\u001b[0m\u001b[1;33m:\u001b[0m\u001b[1;33m\u001b[0m\u001b[1;33m\u001b[0m\u001b[0m\n",
      "\u001b[1;31mTraitError\u001b[0m: The 'colors' trait of a LineSegmentsGeometry instance must be a numpy array or a NDArrayBase, but a value of [['#ffff00', '#ffff00'], ['#ffff00', '#ffff00'], ['#ffff00', '#ffff00'], ['#ffff00', '#ffff00'], ['#ffff00', '#ffff00'], ['#ffff00', '#ffff00'], ['#ffff00', '#ffff00'], ['#ffff00', '#ffff00'], ['#ffff00', '#ffff00'], ['#ffff00', '#ffff00'], ['#ffff00', '#ffff00'], ['#ffff00', '#ffff00']] <class 'list'> was specified."
     ]
    }
   ],
   "source": [
    "viewer = ThreeJsViewer()\n",
    "viewer.draw_box(box)\n",
    "# draw edges between the projected points\n",
    "mesh = Mesh.from_vertices_and_faces(pts, box.faces)\n",
    "viewer.draw_mesh_edges(mesh, \"#ffff00\")\n",
    "viewer.show()"
   ]
  },
  {
   "cell_type": "markdown",
   "metadata": {},
   "source": [
    "### Further information\n",
    "\n",
    "* https://en.wikipedia.org/wiki/Transformation_matrix\n",
    "* https://en.wikipedia.org/wiki/Euler_angles\n",
    "* https://en.wikipedia.org/wiki/Axis%E2%80%93angle_representation\n",
    "* https://en.wikipedia.org/wiki/Quaternions_and_spatial_rotation"
   ]
  },
  {
   "cell_type": "code",
   "execution_count": null,
   "metadata": {},
   "outputs": [],
   "source": []
  }
 ],
 "metadata": {
  "celltoolbar": "Slideshow",
  "kernelspec": {
   "display_name": "Python 3",
   "language": "python",
   "name": "python3"
  },
  "language_info": {
   "codemirror_mode": {
    "name": "ipython",
    "version": 3
   },
   "file_extension": ".py",
   "mimetype": "text/x-python",
   "name": "python",
   "nbconvert_exporter": "python",
   "pygments_lexer": "ipython3",
   "version": "3.6.7"
  },
  "rise": {
   "theme": "white"
  }
 },
 "nbformat": 4,
 "nbformat_minor": 2
}
