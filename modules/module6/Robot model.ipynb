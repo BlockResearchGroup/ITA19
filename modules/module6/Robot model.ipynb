{
 "cells": [
  {
   "cell_type": "code",
   "execution_count": 1,
   "metadata": {
    "slideshow": {
     "slide_type": "skip"
    }
   },
   "outputs": [
    {
     "name": "stdout",
     "output_type": "stream",
     "text": [
      "{'aqua': '#00ffff', 'black': '#000000', 'blue': '#0000ff', 'fuchsia': '#ff00ff', 'green': '#008000', 'gray': '#808080', 'lime': '#00ff00', 'maroon': '#800000', 'navy': '#000080', 'olive': '#808000', 'purple': '#800080', 'red': '#ff0000', 'silver': '#c0c0c0', 'teal': '#008080', 'white': '#ffffff', 'yellow': '#ffff00'}\n"
     ]
    }
   ],
   "source": [
    "from notebook.services.config import ConfigManager\n",
    "cm = ConfigManager()\n",
    "\n",
    "#cm.update('livereveal', {'width': 1000, 'height': 600,'scroll': True,})\n",
    "cm.update('livereveal', {'scroll': True,})\n",
    "\n",
    "%load_ext autoreload\n",
    "%autoreload 2\n",
    "\n",
    "import sys\n",
    "sys.path.append(r\"C:\\Users\\rustr\\workspace\\teaching\\ITA_PhD-course\\modules\\module6\")\n",
    "from viewer import MeshCatViewer\n",
    "\n",
    "import webcolors\n",
    "print(webcolors.html4_names_to_hex)\n",
    "#webcolors.name_to_hex(name, spec='css3')"
   ]
  },
  {
   "cell_type": "code",
   "execution_count": 2,
   "metadata": {
    "slideshow": {
     "slide_type": "skip"
    }
   },
   "outputs": [
    {
     "data": {
      "text/html": [
       "<style>\n",
       "body.rise-enabled div.code_cell{\n",
       "    font-size:40%;\n",
       "}\n",
       "</style>\n"
      ],
      "text/plain": [
       "<IPython.core.display.HTML object>"
      ]
     },
     "metadata": {},
     "output_type": "display_data"
    }
   ],
   "source": [
    "%%html\n",
    "<style>\n",
    "body.rise-enabled div.code_cell{\n",
    "    font-size:40%;\n",
    "}\n",
    "</style>"
   ]
  },
  {
   "cell_type": "markdown",
   "metadata": {
    "cell_style": "split"
   },
   "source": [
    "## Coordinate frames\n",
    "\n",
    "* World coordinate frame (WCF)\n",
    "\n",
    "* Robot coordinate frame (RCF)\n",
    "\n",
    "* Tool0 coordinate frame (T0CF)\n",
    "\n",
    "* Tool coordinate frame (TCF)\n",
    "\n",
    "* Object coordinate frame (OCF)"
   ]
  },
  {
   "cell_type": "markdown",
   "metadata": {
    "cell_style": "split"
   },
   "source": [
    "<img src=\"https://gramaziokohler.github.io/compas_fab/latest/_images/02_coordinate_frames.jpg\"  />"
   ]
  },
  {
   "cell_type": "markdown",
   "metadata": {
    "cell_style": "center"
   },
   "source": [
    "# Kinematic model\n",
    "\n",
    "A kinematic model describes the motion of a robot in mathematical form without considering the forces that affect \n",
    "motion and concerns itself with the geometric relationship between elements."
   ]
  },
  {
   "cell_type": "markdown",
   "metadata": {},
   "source": [
    "<img src=\"https://gramaziokohler.github.io/compas_fab/latest/_images/01_robot_links_and_joints.jpg\" />"
   ]
  },
  {
   "cell_type": "markdown",
   "metadata": {
    "slideshow": {
     "slide_type": "notes"
    }
   },
   "source": [
    "In the kinematic model of a robot, the connection of different manipulator joints is known as link, and the \n",
    "integration of two or more links is called a joint. This kinematic model can be represented as a tree structure.\n",
    "The tree describes the kinematic chain, i.e., the connection of robotic links with joints, and the\n",
    "inter-dependendencies of these links.\n",
    "This tree structure plus the underlying geometric information can be defined in Unified Robot Description Format (URDF),\n",
    "which describes any robot. If the robot is mounted on external axes, these links and joints\n",
    "can be added as well."
   ]
  },
  {
   "cell_type": "markdown",
   "metadata": {
    "slideshow": {
     "slide_type": "slide"
    }
   },
   "source": [
    "### Example UR5 URDF:\n",
    "\n",
    "https://github.com/ros-industrial/universal_robot/blob/kinetic-devel/ur_description/urdf/ur5.urdf.xacro"
   ]
  },
  {
   "cell_type": "markdown",
   "metadata": {},
   "source": [
    "## Links\n",
    "\n",
    "Robot links are solid mechanical elements (geometry).\n",
    "\n",
    "## Joints\n",
    "\n",
    "The joints are the elements in a robot which helps the links to travel in different kind of movements.\n",
    "The three major types of joints are:\n",
    "\n",
    "* Revolute: A hinge joint that rotates along the axis and has a limited range specified by the upper and lower limits.\n",
    "\n",
    "* Prismatic: A sliding joint that slides along the axis, and has a limited range specified by the upper and lower limits.\n",
    "\n",
    "* Fixed: Not really a joint because it cannot move, all degrees of freedom are locked.\n"
   ]
  },
  {
   "cell_type": "code",
   "execution_count": 11,
   "metadata": {},
   "outputs": [
    {
     "name": "stdout",
     "output_type": "stream",
     "text": [
      "0\n",
      "2\n",
      "3\n"
     ]
    }
   ],
   "source": [
    "from compas.robots import Joint\n",
    "\n",
    "print(Joint.REVOLUTE)\n",
    "print(Joint.PRISMATIC)\n",
    "print(Joint.FIXED)"
   ]
  },
  {
   "cell_type": "code",
   "execution_count": null,
   "metadata": {},
   "outputs": [],
   "source": [
    "from math import pi\n",
    "from compas_fab.robots import Configuration\n",
    "\n",
    "values = [1.5, pi]\n",
    "types = [Joint.PRISMATIC, Joint.REVOLUTE]\n",
    "\n",
    "config = Configuration(values, types)\n",
    "config = Configuration.from_revolute_values([pi/2, 0., 0., pi/2, pi, 0])\n",
    "config = Configuration.from_prismatic_and_revolute_values([8.312], [pi/2, 0., 0., 0., 2*pi, 0.8])\n"
   ]
  },
  {
   "cell_type": "code",
   "execution_count": 12,
   "metadata": {},
   "outputs": [],
   "source": [
    "from math import pi\n",
    "from compas_fab.robots import Configuration\n",
    "values = [1.5, pi]\n",
    "types = [Joint.PRISMATIC, Joint.REVOLUTE]\n",
    "config = Configuration(values, types)"
   ]
  },
  {
   "cell_type": "code",
   "execution_count": null,
   "metadata": {},
   "outputs": [],
   "source": [
    "All rigid body movements are rotations, translations, or combinations of the two."
   ]
  },
  {
   "cell_type": "code",
   "execution_count": 6,
   "metadata": {},
   "outputs": [
    {
     "name": "stdout",
     "output_type": "stream",
     "text": [
      "Robot name=sun_system, Links=4, Joints=3 (3 configurable)\n",
      "[<compas.robots.model.link.Visual object at 0x00000218930BB588>]\n",
      "Frame(Point(10.000, 0.000, 0.000), Vector(1.000, 0.000, 0.000), Vector(-0.000, 1.000, 0.000))\n",
      "Frame(Point(15.000, 0.000, 0.000), Vector(1.000, 0.000, 0.000), Vector(-0.000, 1.000, 0.000))\n",
      "Sphere(Point(0.000, 0.000, 0.000), 2.5)\n",
      "Sphere(Point(10.000, 0.000, 0.000), 1.0)\n",
      "Sphere(Point(15.000, 0.000, 0.000), 0.5)\n",
      "You can open the visualizer by visiting the following URL:\n",
      "http://127.0.0.1:7011/static/\n",
      "None\n",
      "None\n",
      "None\n"
     ]
    },
    {
     "data": {
      "text/html": [
       "\n",
       "<div style=\"height: 400px; width: 600px; overflow-x: auto; overflow-y: hidden; resize: both\">\n",
       "<iframe src=\"http://127.0.0.1:7011/static/\" style=\"width: 100%; height: 100%; border: none\"></iframe>\n",
       "</div>\n"
      ],
      "text/plain": [
       "<IPython.core.display.HTML object>"
      ]
     },
     "execution_count": 6,
     "metadata": {},
     "output_type": "execute_result"
    }
   ],
   "source": [
    "from compas.robots import RobotModel\n",
    "from compas.robots import Link\n",
    "from compas.robots import Joint\n",
    "from compas.geometry import Frame\n",
    "from compas.geometry import Transformation\n",
    "from compas.robots.model.geometry import Origin\n",
    "from compas.robots.model.geometry import Geometry\n",
    "from compas.robots.model.link import Visual\n",
    "from compas.robots.model.geometry import Sphere\n",
    "from compas.robots.model.joint import Axis\n",
    "import compas.geometry\n",
    "from compas.datastructures import Mesh\n",
    "from compas.geometry import Polyhedron\n",
    "\n",
    "from compas_fab.artists import BaseRobotArtist\n",
    "\n",
    "from compas_fab.robots import Configuration\n",
    "\n",
    "class RobotArtist(BaseRobotArtist):\n",
    "\n",
    "    def __init__(self, robot):\n",
    "        super(RobotArtist, self).__init__(robot)\n",
    "\n",
    "    def transform(self, geometry, transformation):\n",
    "        geometry.transform(transformation)\n",
    "\n",
    "    def draw_geometry(self, geometry, color=None):\n",
    "        return geometry\n",
    "\n",
    "\n",
    "link0 = Link(\"sun_link\", visual=[Visual(Geometry(sphere=Sphere(2.5)))])\n",
    "joint0 = Joint(\"sun_joint\", 'continuous', \"sun_link\", \"earth0_link\", origin=Origin.worldXY(), axis=Axis('0 0 1'))\n",
    "\n",
    "link1 = Link(\"earth0_link\")\n",
    "earth_origin = Origin((10, 0, 0), (1, 0, 0), (0, 1, 0))\n",
    "joint1 = Joint(\"earth0_joint\", 'continuous', \"earth0_link\", \"earth_link\", origin=earth_origin, axis=Axis('0 0 1'))\n",
    "\n",
    "link2 = Link(\"earth_link\", visual=[Visual(Geometry(sphere=Sphere(1)))])\n",
    "earth_origin = Origin((5, 0, 0), (1, 0, 0), (0, 1, 0))\n",
    "joint2 = Joint(\"earth_joint\", 'continuous', \"earth_link\", \"moon_link\", origin=earth_origin, axis=Axis('0 0 1'))\n",
    "\n",
    "link3 = Link(\"moon_link\", visual=[Visual(Geometry(sphere=Sphere(0.5)))])\n",
    "\n",
    "links = [link0, link1, link2, link3]\n",
    "joints = [joint0, joint1, joint2]\n",
    "\n",
    "sun_system = RobotModel(\"sun_system\", joints=joints, links=links)\n",
    "print(sun_system)\n",
    "\n",
    "print(sun_system.root.visual)\n",
    "\n",
    "artist = RobotArtist(sun_system)\n",
    "for frame in sun_system.frames:\n",
    "    print(frame)\n",
    "\n",
    "names = [\"sun_joint\", \"earth0_joint\", \"earth_joint\"]\n",
    "#configuration = Configuration([0.5, 0.5, 0.5], [Joint.CONTINUOUS] * 3)\n",
    "\n",
    "#artist.update(configuration, names, visual=True, collision=False)\n",
    "\n",
    "for geo in artist.draw_visual():\n",
    "    print(geo)\n",
    "\n",
    "viewer = MeshCatViewer()\n",
    "\n",
    "for sphere in artist.draw_visual():\n",
    "    print(viewer.draw_sphere(sphere, color=0xaa00ff))\n",
    "viewer.jupyter_cell()\n"
   ]
  },
  {
   "cell_type": "code",
   "execution_count": 8,
   "metadata": {},
   "outputs": [
    {
     "name": "stdout",
     "output_type": "stream",
     "text": [
      "You can open the visualizer by visiting the following URL:\n",
      "http://127.0.0.1:7012/static/\n"
     ]
    },
    {
     "data": {
      "text/html": [
       "\n",
       "<div style=\"height: 400px; width: 600px; overflow-x: auto; overflow-y: hidden; resize: both\">\n",
       "<iframe src=\"http://127.0.0.1:7012/static/\" style=\"width: 100%; height: 100%; border: none\"></iframe>\n",
       "</div>\n"
      ],
      "text/plain": [
       "<IPython.core.display.HTML object>"
      ]
     },
     "execution_count": 8,
     "metadata": {},
     "output_type": "execute_result"
    }
   ],
   "source": [
    "from compas.robots import *\n",
    "from compas.datastructures.mesh import mesh_transform_numpy\n",
    "from compas_fab.artists import BaseRobotArtist\n",
    "\n",
    "class RobotArtist(BaseRobotArtist):\n",
    "\n",
    "    def __init__(self, robot):\n",
    "        super(RobotArtist, self).__init__(robot)\n",
    "\n",
    "    def transform(self, geometry, transformation):\n",
    "        mesh_transform_numpy(geometry, transformation)\n",
    "\n",
    "    def draw_geometry(self, geometry, color=None):\n",
    "        return geometry\n",
    "\n",
    "r = 'ros-industrial/abb'\n",
    "p = 'abb_irb6600_support'\n",
    "b = 'kinetic-devel'\n",
    "\n",
    "github = GithubPackageMeshLoader(r,p,b)\n",
    "urdf = github.load_urdf('irb6640.urdf')\n",
    "\n",
    "model = RobotModel.from_urdf_file(urdf)\n",
    "model.load_geometry(github)\n",
    "\n",
    "artist = RobotArtist(model)\n",
    "\n",
    "viewer = MeshCatViewer()\n",
    "\n",
    "for mesh in artist.draw_visual():\n",
    "    viewer.draw_mesh(mesh, color=0xaa00ff)\n",
    "viewer.jupyter_cell()"
   ]
  },
  {
   "cell_type": "code",
   "execution_count": null,
   "metadata": {
    "slideshow": {
     "slide_type": "slide"
    }
   },
   "outputs": [],
   "source": [
    "import time\n",
    "from roslibpy import Topic\n",
    "from compas_fab.backends import RosClient\n",
    "\n",
    "client = RosClient()\n",
    "client.run()\n",
    "topic = Topic(client, '/messages', 'std_msgs/String')\n",
    "topic.advertise()\n",
    "\n",
    "while True:\n",
    "    topic.publish(dict(data='Hello world'))\n",
    "    time.sleep(1)\n",
    "\n",
    "client.terminate()"
   ]
  },
  {
   "cell_type": "markdown",
   "metadata": {
    "cell_style": "split",
    "slideshow": {
     "slide_type": "slide"
    }
   },
   "source": [
    "## ROS Protocol: Message types\n",
    "\n",
    "* Dictionary-like data structure\n",
    "* Defines the type of topics\n",
    "* Large collection of predefined types"
   ]
  },
  {
   "cell_type": "code",
   "execution_count": 13,
   "metadata": {
    "cell_style": "split"
   },
   "outputs": [
    {
     "data": {
      "text/plain": [
       "{'data': 'hello world'}"
      ]
     },
     "execution_count": 13,
     "metadata": {},
     "output_type": "execute_result"
    }
   ],
   "source": [
    "from compas_fab.backends.ros import String\n",
    "\n",
    "str_msg = String('hello world')\n",
    "str_msg.msg"
   ]
  },
  {
   "cell_type": "code",
   "execution_count": 14,
   "metadata": {
    "slideshow": {
     "slide_type": "slide"
    }
   },
   "outputs": [
    {
     "data": {
      "text/plain": [
       "{'position': {'x': 0.0, 'y': 0.0, 'z': 0.0},\n",
       " 'orientation': {'x': 0.0, 'y': 0.0, 'z': 0.0, 'w': 1.0}}"
      ]
     },
     "execution_count": 14,
     "metadata": {},
     "output_type": "execute_result"
    }
   ],
   "source": [
    "from compas.geometry import Frame\n",
    "from compas_fab.backends.ros import Pose\n",
    "\n",
    "frame = Frame.worldXY()\n",
    "pose = Pose.from_frame(frame)\n",
    "pose.msg"
   ]
  },
  {
   "cell_type": "code",
   "execution_count": null,
   "metadata": {},
   "outputs": [],
   "source": []
  }
 ],
 "metadata": {
  "celltoolbar": "Slideshow",
  "kernelspec": {
   "display_name": "Python 3",
   "language": "python",
   "name": "python3"
  },
  "language_info": {
   "codemirror_mode": {
    "name": "ipython",
    "version": 3
   },
   "file_extension": ".py",
   "mimetype": "text/x-python",
   "name": "python",
   "nbconvert_exporter": "python",
   "pygments_lexer": "ipython3",
   "version": "3.6.7"
  },
  "rise": {
   "theme": "white"
  }
 },
 "nbformat": 4,
 "nbformat_minor": 2
}
