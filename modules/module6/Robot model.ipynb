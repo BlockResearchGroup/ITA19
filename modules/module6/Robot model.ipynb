{
 "cells": [
  {
   "cell_type": "code",
   "execution_count": 3,
   "metadata": {
    "slideshow": {
     "slide_type": "skip"
    }
   },
   "outputs": [],
   "source": [
    "from notebook.services.config import ConfigManager\n",
    "cm = ConfigManager()\n",
    "\n",
    "#cm.update('livereveal', {'width': 1000, 'height': 600,'scroll': True,})\n",
    "cm.update('livereveal', {'scroll': True,})\n",
    "\n",
    "%load_ext autoreload\n",
    "%autoreload 2\n",
    "\n",
    "import os\n",
    "import sys\n",
    "sys.path.append(os.path.abspath(\".\"))\n",
    "\n",
    "from viewer import MeshCatViewer\n",
    "from threejs_viewer import RobotArtist\n"
   ]
  },
  {
   "cell_type": "code",
   "execution_count": 7,
   "metadata": {
    "slideshow": {
     "slide_type": "skip"
    }
   },
   "outputs": [
    {
     "data": {
      "text/html": [
       "<style>\n",
       "body.rise-enabled div.code_cell{\n",
       "    font-size:40%;\n",
       "}\n",
       "</style>\n"
      ],
      "text/plain": [
       "<IPython.core.display.HTML object>"
      ]
     },
     "metadata": {},
     "output_type": "display_data"
    }
   ],
   "source": [
    "%%html\n",
    "<style>\n",
    "body.rise-enabled div.code_cell{\n",
    "    font-size:40%;\n",
    "}\n",
    "</style>"
   ]
  },
  {
   "cell_type": "markdown",
   "metadata": {
    "cell_style": "split"
   },
   "source": [
    "## Coordinate frames\n",
    "\n",
    "* World coordinate frame (WCF)\n",
    "\n",
    "* Robot coordinate frame (RCF)\n",
    "\n",
    "* Tool0 coordinate frame (T0CF)\n",
    "\n",
    "* Tool coordinate frame (TCF)\n",
    "\n",
    "* Object coordinate frame (OCF)"
   ]
  },
  {
   "cell_type": "markdown",
   "metadata": {
    "cell_style": "split",
    "slideshow": {
     "slide_type": "-"
    }
   },
   "source": [
    "<img src=\"https://gramaziokohler.github.io/compas_fab/latest/_images/02_coordinate_frames.jpg\"  />"
   ]
  },
  {
   "cell_type": "markdown",
   "metadata": {
    "cell_style": "center",
    "slideshow": {
     "slide_type": "slide"
    }
   },
   "source": [
    "# Kinematic model\n",
    "\n",
    "A robotic arm is considered as a kinematic chain of rigid bodies (or links) connected by joints to provide constrained motion.\n",
    "These links are constrained by their connections to other links.\n",
    "\n",
    "All rigid body movements are rotations, translations, or combinations of the two.\n",
    "\n",
    "kinematics = subdomain of mechanics, contrary to dynamics it concerns laws of motion without considering forces"
   ]
  },
  {
   "cell_type": "markdown",
   "metadata": {
    "slideshow": {
     "slide_type": "slide"
    }
   },
   "source": [
    "<img src=\"https://gramaziokohler.github.io/compas_fab/latest/_images/01_robot_links_and_joints.jpg\" />"
   ]
  },
  {
   "cell_type": "markdown",
   "metadata": {
    "slideshow": {
     "slide_type": "notes"
    }
   },
   "source": [
    "In the kinematic model of a robot, the connection of different manipulator joints is known as link, and the \n",
    "integration of two or more links is called a joint. This kinematic model can be represented as a tree structure.\n",
    "The tree describes the kinematic chain, i.e., the connection of robotic links with joints, and the\n",
    "inter-dependendencies of these links.\n",
    "This tree structure plus the underlying geometric information can be defined in Unified Robot Description Format (URDF),\n",
    "which describes any robot. If the robot is mounted on external axes, these links and joints\n",
    "can be added as well."
   ]
  },
  {
   "cell_type": "markdown",
   "metadata": {
    "slideshow": {
     "slide_type": "slide"
    }
   },
   "source": [
    "## Kinematic chains\n",
    "\n",
    "<table>\n",
    "<tr>\n",
    "<td><img src=\"https://upload.wikimedia.org/wikipedia/commons/2/2c/Modele_cinematique_corps_humain.svg\" style=\"height: 300px\" /></td>\n",
    "<td><img src=\"https://upload.wikimedia.org/wikipedia/commons/thumb/a/a0/ATHLETE_robot_climbing_a_hill.jpg/640px-ATHLETE_robot_climbing_a_hill.jpg\" style=\"height: 300px\" /></td>\n",
    "<td><img src=\"https://upload.wikimedia.org/wikipedia/commons/f/f2/SteamEngine_Boulton%26Watt_1784.png\" style=\"height: 300px\" /></td>\n",
    "</tr>\n",
    "</table>"
   ]
  },
  {
   "cell_type": "markdown",
   "metadata": {
    "slideshow": {
     "slide_type": "slide"
    }
   },
   "source": [
    "### Part of ur5.urdf\n",
    "\n",
    "```xml\n",
    "<link name=\"base_link\">\n",
    "    <visual>\n",
    "      <geometry>\n",
    "        <mesh filename=\"package://ur_description/meshes/ur5/visual/base.obj\"/>\n",
    "      </geometry>\n",
    "      <material name=\"LightGrey\">\n",
    "        <color rgba=\"0.7 0.7 0.7 1.0\"/>\n",
    "      </material>\n",
    "    </visual>\n",
    "    <collision>\n",
    "      <geometry>\n",
    "        <mesh filename=\"package://ur_description/meshes/ur5/collision/base.stl\"/>\n",
    "      </geometry>\n",
    "    </collision>\n",
    "    <inertial>\n",
    "      <mass value=\"4.0\"/>\n",
    "      <origin rpy=\"0 0 0\" xyz=\"0.0 0.0 0.0\"/>\n",
    "      <inertia ixx=\"0.00443333156\" ixy=\"0.0\" ixz=\"0.0\" iyy=\"0.00443333156\" iyz=\"0.0\" izz=\"0.0072\"/>\n",
    "    </inertial>\n",
    "  </link>\n",
    "  \n",
    "  <joint name=\"shoulder_pan_joint\" type=\"revolute\">\n",
    "    <parent link=\"base_link\"/>\n",
    "    <child link=\"shoulder_link\"/>\n",
    "    <origin rpy=\"0.0 0.0 0.0\" xyz=\"0.0 0.0 0.089159\"/>\n",
    "    <axis xyz=\"0 0 1\"/>\n",
    "    <limit effort=\"150.0\" lower=\"-6.2831853\" upper=\"6.2831853\" velocity=\"3.15\"/>\n",
    "    <dynamics damping=\"0.0\" friction=\"0.0\"/>\n",
    "  </joint>\n",
    "```"
   ]
  },
  {
   "cell_type": "markdown",
   "metadata": {
    "slideshow": {
     "slide_type": "skip"
    }
   },
   "source": [
    "### Example UR5 URDF:\n",
    "\n",
    "https://github.com/ros-industrial/universal_robot/blob/kinetic-devel/ur_description/urdf/ur5.urdf.xacro"
   ]
  },
  {
   "cell_type": "code",
   "execution_count": 2,
   "metadata": {},
   "outputs": [
    {
     "data": {
      "application/vnd.jupyter.widget-view+json": {
       "model_id": "c8961700644546f08f74f7903f82ea18",
       "version_major": 2,
       "version_minor": 0
      },
      "text/plain": [
       "Renderer(camera=PerspectiveCamera(children=(DirectionalLight(intensity=0.5, position=(0.0, 0.0, 1.0), quaterni…"
      ]
     },
     "metadata": {},
     "output_type": "display_data"
    }
   ],
   "source": [
    "from compas.robots import *\n",
    "import compas_fab\n",
    "from threejs_viewer import RobotArtist\n",
    "from threejs_viewer import ThreeJsViewer\n",
    "\n",
    "r = 'ros-industrial/abb'\n",
    "p = 'abb_irb6600_support'\n",
    "b = 'kinetic-devel'\n",
    "\n",
    "loader = GithubPackageMeshLoader(r, p, b)\n",
    "urdf = loader.load_urdf('irb6640.urdf')\n",
    "\n",
    "#loader = LocalPackageMeshLoader(compas_fab.get('universal_robot'), 'ur_description')\n",
    "#urdf = compas_fab.get('universal_robot/ur_description/urdf/ur5.urdf')\n",
    "\n",
    "model = RobotModel.from_urdf_file(urdf)\n",
    "model.load_geometry(loader)\n",
    "artist = RobotArtist(model)\n",
    "\n",
    "geo = artist.draw_visual()\n",
    "\n",
    "viewer = ThreeJsViewer()\n",
    "viewer.show(geo)\n"
   ]
  },
  {
   "cell_type": "markdown",
   "metadata": {
    "slideshow": {
     "slide_type": "slide"
    }
   },
   "source": [
    "## Joints\n",
    "\n",
    "The joints are the elements in a robot which helps the links to travel in different kind of movements.\n",
    "The three major types of joints are:\n",
    "\n",
    "* Revolute: A hinge joint that rotates along the axis and has a limited range specified by the upper and lower limits.\n",
    "* Prismatic: A sliding joint that slides along the axis, and has a limited range specified by the upper and lower limits.\n",
    "* Fixed: Not really a joint because it cannot move, all degrees of freedom are locked.\n"
   ]
  },
  {
   "cell_type": "code",
   "execution_count": 8,
   "metadata": {},
   "outputs": [
    {
     "name": "stdout",
     "output_type": "stream",
     "text": [
      "0\n",
      "2\n",
      "3\n"
     ]
    }
   ],
   "source": [
    "from compas.robots import Joint\n",
    "\n",
    "print(Joint.REVOLUTE)\n",
    "print(Joint.PRISMATIC)\n",
    "print(Joint.FIXED)"
   ]
  },
  {
   "cell_type": "code",
   "execution_count": 9,
   "metadata": {
    "slideshow": {
     "slide_type": "slide"
    }
   },
   "outputs": [],
   "source": [
    "from math import pi\n",
    "from compas_fab.robots import Configuration\n",
    "\n",
    "values = [1.5, pi]\n",
    "types = [Joint.PRISMATIC, Joint.REVOLUTE]\n",
    "\n",
    "config = Configuration(values, types)\n",
    "config = Configuration.from_revolute_values([pi/2, 0., 0., pi/2, pi, 0])\n",
    "config = Configuration.from_prismatic_and_revolute_values([8.312], [pi/2, 0., 0., 0., 2*pi, 0.8])\n"
   ]
  },
  {
   "cell_type": "code",
   "execution_count": 4,
   "metadata": {},
   "outputs": [
    {
     "name": "stdout",
     "output_type": "stream",
     "text": [
      "You can open the visualizer by visiting the following URL:\n",
      "http://127.0.0.1:7000/static/\n",
      "e4fa8122-f00d-11e9-ac7d-f48c50ed471a\n",
      "e4fc087e-f00d-11e9-817e-f48c50ed471a\n",
      "e4fca49e-f00d-11e9-b0a8-f48c50ed471a\n"
     ]
    },
    {
     "data": {
      "text/html": [
       "\n",
       "<div style=\"height: 400px; width: 600px; overflow-x: auto; overflow-y: hidden; resize: both\">\n",
       "<iframe src=\"http://127.0.0.1:7000/static/\" style=\"width: 100%; height: 100%; border: none\"></iframe>\n",
       "</div>\n"
      ],
      "text/plain": [
       "<IPython.core.display.HTML object>"
      ]
     },
     "execution_count": 4,
     "metadata": {},
     "output_type": "execute_result"
    }
   ],
   "source": [
    "from compas.robots import RobotModel\n",
    "from compas.robots import Link\n",
    "from compas.robots import Joint\n",
    "from compas.geometry import Frame\n",
    "from compas.geometry import Transformation\n",
    "from compas.robots.model.geometry import Origin\n",
    "from compas.robots.model.geometry import Geometry\n",
    "from compas.robots.model.link import Visual\n",
    "from compas.robots.model.geometry import Sphere\n",
    "from compas.robots.model.joint import Axis\n",
    "import compas.geometry\n",
    "from compas.datastructures import Mesh\n",
    "from compas.geometry import Polyhedron\n",
    "import math\n",
    "\n",
    "from compas_fab.artists import BaseRobotArtist\n",
    "\n",
    "from compas_fab.robots import Configuration\n",
    "\n",
    "class RobotArtist(BaseRobotArtist):\n",
    "\n",
    "    def __init__(self, robot):\n",
    "        super(RobotArtist, self).__init__(robot)\n",
    "\n",
    "    def transform(self, geometry, transformation):\n",
    "        geometry.transform(transformation)\n",
    "\n",
    "    def draw_geometry(self, geometry, color=None):\n",
    "        return geometry\n",
    "\n",
    "\n",
    "link0 = Link(\"world\")\n",
    "\n",
    "joint1 = Joint(\"sun_joint\", 'continuous', \"world\", \"sun_link\", origin=Origin.worldXY(), axis=Axis('0 0 1'))\n",
    "link1 = Link(\"sun_link\", visual=[Visual(Geometry(sphere=Sphere(2.5)))])\n",
    "\n",
    "earth_origin = Origin((10, 0, 0), (1, 0, 0), (0, 1, 0))\n",
    "joint2 = Joint(\"earth_joint\", 'continuous', \"sun_link\", \"earth_link\", origin=earth_origin, axis=Axis('0 0 1'))\n",
    "link2 = Link(\"earth_link\", visual=[Visual(Geometry(sphere=Sphere(1)))])\n",
    "\n",
    "moon_origin = Origin((4, 0, 0), (1, 0, 0), (0, 1, 0))\n",
    "joint3 = Joint(\"moon_joint\", 'continuous', \"earth_link\", \"moon_link\", origin=moon_origin, axis=Axis('0 0 1'))\n",
    "link3 = Link(\"moon_link\", visual=[Visual(Geometry(sphere=Sphere(0.5)))])\n",
    "\n",
    "sun_system = RobotModel(\"sun_system\", joints=[joint1, joint2, joint3], links=[link0, link1, link2, link3])\n",
    "\n",
    "artist = RobotArtist(sun_system)\n",
    "\n",
    "names = [\"sun_joint\", \"earth_joint\", \"moon_joint\"]\n",
    "configuration = Configuration([math.radians(30), math.radians(30), 0.0], [Joint.CONTINUOUS] * 3)\n",
    "artist.update(configuration, names, visual=True, collision=False)\n",
    "\n",
    "\n",
    "viewer = MeshCatViewer()\n",
    "\n",
    "for sphere in artist.draw_visual():\n",
    "    print(viewer.draw_sphere(sphere, color=0xaa00ff))\n",
    "viewer.jupyter_cell()\n",
    "\n"
   ]
  },
  {
   "cell_type": "code",
   "execution_count": null,
   "metadata": {},
   "outputs": [],
   "source": [
    "from compas.geometry import *\n",
    "\n",
    "s = Sphere(Point(5.,0,0,), 4)\n",
    "T = Transformation.from_matrix([[    0.8776,   -0.4794,    0.0000,    1.8363],\n",
    " [    0.4794,    0.8776,    0.0000,   -7.1914],\n",
    " [    0.0000,    0.0000,    1.0000,    0.0000],\n",
    " [    0.0000,    0.0000,    0.0000,    1.0000]])\n",
    "s.transform(T)\n",
    "print(s)\n",
    "p = Point(5.000, -0.000, 0.000)\n",
    "p.transform(T)\n",
    "print(p)\n",
    "transform_points([[5.000, -0.000, 0.000]], T.matrix)[0]\n"
   ]
  },
  {
   "cell_type": "code",
   "execution_count": null,
   "metadata": {},
   "outputs": [],
   "source": [
    "#from compas_fab.robots import Configuration\n",
    "\n",
    "\"\"\"\n",
    "viewer = ThreeJsViewer()\n",
    "names = model.get_configurable_joint_names()\n",
    "config = Configuration.from_revolute_values([0, -pi/2, pi/2, -pi/2, -pi/2, 0])\n",
    "artist.update(config, names)\n",
    "geo = artist.draw_visual()\n",
    "viewer.show(geo)\n",
    "\"\"\""
   ]
  },
  {
   "cell_type": "code",
   "execution_count": null,
   "metadata": {},
   "outputs": [],
   "source": [
    "import compas\n",
    "from compas.geometry import Frame\n",
    "from compas.geometry import Box\n",
    "from compas.datastructures import Mesh\n",
    "from compas.datastructures import mesh_quads_to_triangles\n",
    "\n",
    "import pythreejs as p3js\n",
    "from IPython.display import display\n",
    "\n",
    "frame = Frame([1, 0, 0], [-0.45, 0.1, 0.3], [1, 0, 0])\n",
    "width, length, height = 10, 10, 10\n",
    "\n",
    "box = Box(frame, width, length, height)\n",
    "mesh = Mesh.from_vertices_and_faces(box.vertices, box.faces)\n",
    "mesh_quads_to_triangles(mesh)\n",
    "\n",
    "vertices, faces = mesh.to_vertices_and_faces()\n",
    "\n",
    "vertexcolors = ['#777777'] * len(vertices)\n",
    "faces = [f + [None, [vertexcolors[i] for i in f], None] for f in faces]\n",
    "\n",
    "geom = p3js.Geometry(vertices=vertices, faces=faces, colors=vertexcolors)\n",
    "geom.exec_three_obj_method('computeFaceNormals')\n",
    "\n",
    "m3 = p3js.Mesh(geometry=geom,\n",
    "          material=p3js.MeshLambertMaterial(vertexColors='VertexColors'),\n",
    "          position=[-0.5, -0.5, -0.5])\n",
    "\n",
    "cCube = p3js.PerspectiveCamera(position=[10, 10, 10], fov=20,\n",
    "                      children=[p3js.DirectionalLight(color='#ffffff', position=[-3, 5, 1], intensity=0.5)])\n",
    "sceneCube = p3js.Scene(children=[m3, cCube, p3js.AmbientLight(color='#dddddd')])\n",
    "\n",
    "\n",
    "rendererCube = p3js.Renderer(camera=cCube, background='black', background_opacity=1,\n",
    "                        scene=sceneCube, controls=[p3js.OrbitControls(controlling=cCube)])\n",
    "\n",
    "display(rendererCube)"
   ]
  },
  {
   "cell_type": "code",
   "execution_count": null,
   "metadata": {
    "slideshow": {
     "slide_type": "slide"
    }
   },
   "outputs": [],
   "source": [
    "import time\n",
    "from roslibpy import Topic\n",
    "from compas_fab.backends import RosClient\n",
    "\n",
    "client = RosClient()\n",
    "client.run()\n",
    "topic = Topic(client, '/messages', 'std_msgs/String')\n",
    "topic.advertise()\n",
    "\n",
    "while True:\n",
    "    topic.publish(dict(data='Hello world'))\n",
    "    time.sleep(1)\n",
    "\n",
    "client.terminate()"
   ]
  },
  {
   "cell_type": "markdown",
   "metadata": {
    "cell_style": "split",
    "slideshow": {
     "slide_type": "slide"
    }
   },
   "source": [
    "## ROS Protocol: Message types\n",
    "\n",
    "* Dictionary-like data structure\n",
    "* Defines the type of topics\n",
    "* Large collection of predefined types"
   ]
  },
  {
   "cell_type": "code",
   "execution_count": null,
   "metadata": {
    "cell_style": "split"
   },
   "outputs": [],
   "source": [
    "from compas_fab.backends.ros import String\n",
    "\n",
    "str_msg = String('hello world')\n",
    "str_msg.msg"
   ]
  },
  {
   "cell_type": "code",
   "execution_count": null,
   "metadata": {
    "slideshow": {
     "slide_type": "slide"
    }
   },
   "outputs": [],
   "source": [
    "from compas.geometry import Frame\n",
    "from compas_fab.backends.ros import Pose\n",
    "\n",
    "frame = Frame.worldXY()\n",
    "pose = Pose.from_frame(frame)\n",
    "pose.msg"
   ]
  },
  {
   "cell_type": "markdown",
   "metadata": {
    "slideshow": {
     "slide_type": "slide"
    }
   },
   "source": [
    "# Forward and inverse kinematics\n",
    "\n",
    "<img src=\"https://gramaziokohler.github.io/compas_fab/latest/_images/02_forward_and_inverse_kinematics.jpg\" />"
   ]
  },
  {
   "cell_type": "code",
   "execution_count": null,
   "metadata": {},
   "outputs": [],
   "source": []
  }
 ],
 "metadata": {
  "celltoolbar": "Slideshow",
  "kernelspec": {
   "display_name": "Python 3",
   "language": "python",
   "name": "python3"
  },
  "language_info": {
   "codemirror_mode": {
    "name": "ipython",
    "version": 3
   },
   "file_extension": ".py",
   "mimetype": "text/x-python",
   "name": "python",
   "nbconvert_exporter": "python",
   "pygments_lexer": "ipython3",
   "version": "3.6.7"
  },
  "rise": {
   "theme": "white"
  }
 },
 "nbformat": 4,
 "nbformat_minor": 2
}
