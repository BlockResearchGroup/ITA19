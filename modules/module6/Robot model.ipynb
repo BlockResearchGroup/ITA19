{
 "cells": [
  {
   "cell_type": "code",
   "execution_count": 1,
   "metadata": {
    "slideshow": {
     "slide_type": "skip"
    }
   },
   "outputs": [
    {
     "name": "stdout",
     "output_type": "stream",
     "text": [
      "{'aqua': '#00ffff', 'black': '#000000', 'blue': '#0000ff', 'fuchsia': '#ff00ff', 'green': '#008000', 'gray': '#808080', 'lime': '#00ff00', 'maroon': '#800000', 'navy': '#000080', 'olive': '#808000', 'purple': '#800080', 'red': '#ff0000', 'silver': '#c0c0c0', 'teal': '#008080', 'white': '#ffffff', 'yellow': '#ffff00'}\n"
     ]
    }
   ],
   "source": [
    "from notebook.services.config import ConfigManager\n",
    "cm = ConfigManager()\n",
    "\n",
    "#cm.update('livereveal', {'width': 1000, 'height': 600,'scroll': True,})\n",
    "cm.update('livereveal', {'scroll': True,})\n",
    "\n",
    "%load_ext autoreload\n",
    "%autoreload 2\n",
    "\n",
    "import sys\n",
    "sys.path.append(r\"C:\\Users\\rustr\\workspace\\teaching\\ITA_PhD-course\\modules\\module6\")\n",
    "from viewer import MeshCatViewer\n",
    "\n",
    "import webcolors\n",
    "print(webcolors.html4_names_to_hex)\n",
    "#webcolors.name_to_hex(name, spec='css3')"
   ]
  },
  {
   "cell_type": "code",
   "execution_count": 2,
   "metadata": {
    "slideshow": {
     "slide_type": "skip"
    }
   },
   "outputs": [
    {
     "data": {
      "text/html": [
       "<style>\n",
       "body.rise-enabled div.code_cell{\n",
       "    font-size:40%;\n",
       "}\n",
       "</style>\n"
      ],
      "text/plain": [
       "<IPython.core.display.HTML object>"
      ]
     },
     "metadata": {},
     "output_type": "display_data"
    }
   ],
   "source": [
    "%%html\n",
    "<style>\n",
    "body.rise-enabled div.code_cell{\n",
    "    font-size:40%;\n",
    "}\n",
    "</style>"
   ]
  },
  {
   "cell_type": "code",
   "execution_count": 15,
   "metadata": {},
   "outputs": [
    {
     "name": "stdout",
     "output_type": "stream",
     "text": [
      "Robot name=sun_system, Links=4, Joints=3 (3 configurable)\n"
     ]
    },
    {
     "ename": "TypeError",
     "evalue": "update() got an unexpected keyword argument 'visual'",
     "output_type": "error",
     "traceback": [
      "\u001b[1;31m---------------------------------------------------------------------------\u001b[0m",
      "\u001b[1;31mTypeError\u001b[0m                                 Traceback (most recent call last)",
      "\u001b[1;32m<ipython-input-15-b846f86d55e8>\u001b[0m in \u001b[0;36m<module>\u001b[1;34m\u001b[0m\n\u001b[0;32m     55\u001b[0m \u001b[0mconfiguration\u001b[0m \u001b[1;33m=\u001b[0m \u001b[0mConfiguration\u001b[0m\u001b[1;33m(\u001b[0m\u001b[1;33m[\u001b[0m\u001b[1;36m0.5\u001b[0m\u001b[1;33m,\u001b[0m \u001b[1;36m0.5\u001b[0m\u001b[1;33m,\u001b[0m \u001b[1;36m0.5\u001b[0m\u001b[1;33m]\u001b[0m\u001b[1;33m,\u001b[0m \u001b[1;33m[\u001b[0m\u001b[0mJoint\u001b[0m\u001b[1;33m.\u001b[0m\u001b[0mCONTINUOUS\u001b[0m\u001b[1;33m]\u001b[0m \u001b[1;33m*\u001b[0m \u001b[1;36m3\u001b[0m\u001b[1;33m)\u001b[0m\u001b[1;33m\u001b[0m\u001b[1;33m\u001b[0m\u001b[0m\n\u001b[0;32m     56\u001b[0m \u001b[1;33m\u001b[0m\u001b[0m\n\u001b[1;32m---> 57\u001b[1;33m \u001b[0martist\u001b[0m\u001b[1;33m.\u001b[0m\u001b[0mupdate\u001b[0m\u001b[1;33m(\u001b[0m\u001b[0mconfiguration\u001b[0m\u001b[1;33m,\u001b[0m \u001b[0mnames\u001b[0m\u001b[1;33m,\u001b[0m \u001b[0mvisual\u001b[0m\u001b[1;33m=\u001b[0m\u001b[1;32mTrue\u001b[0m\u001b[1;33m,\u001b[0m \u001b[0mcollision\u001b[0m\u001b[1;33m=\u001b[0m\u001b[1;32mFalse\u001b[0m\u001b[1;33m)\u001b[0m\u001b[1;33m\u001b[0m\u001b[1;33m\u001b[0m\u001b[0m\n\u001b[0m\u001b[0;32m     58\u001b[0m \u001b[1;33m\u001b[0m\u001b[0m\n\u001b[0;32m     59\u001b[0m \u001b[1;32mfor\u001b[0m \u001b[0mgeo\u001b[0m \u001b[1;32min\u001b[0m \u001b[0martist\u001b[0m\u001b[1;33m.\u001b[0m\u001b[0mdraw_visual\u001b[0m\u001b[1;33m(\u001b[0m\u001b[1;33m)\u001b[0m\u001b[1;33m:\u001b[0m\u001b[1;33m\u001b[0m\u001b[1;33m\u001b[0m\u001b[0m\n",
      "\u001b[1;31mTypeError\u001b[0m: update() got an unexpected keyword argument 'visual'"
     ]
    }
   ],
   "source": [
    "from compas.robots import RobotModel\n",
    "from compas.robots import Link\n",
    "from compas.robots import Joint\n",
    "from compas.geometry import Frame\n",
    "from compas.geometry import Transformation\n",
    "from compas.robots.model.geometry import Origin\n",
    "from compas.robots.model.geometry import Geometry\n",
    "from compas.robots.model.link import Visual\n",
    "from compas.robots.model.geometry import Sphere\n",
    "from compas.robots.model.joint import Axis\n",
    "import compas.geometry\n",
    "from compas.datastructures import Mesh\n",
    "from compas.geometry import Polyhedron\n",
    "\n",
    "from compas_fab.artists import BaseRobotArtist\n",
    "\n",
    "from compas_fab.robots import Configuration\n",
    "\n",
    "class RobotArtist(BaseRobotArtist):\n",
    "\n",
    "    def __init__(self, robot):\n",
    "        super(RobotArtist, self).__init__(robot)\n",
    "\n",
    "    def transform(self, geometry, transformation):\n",
    "        geometry.transform(transformation)\n",
    "\n",
    "    def draw_geometry(self, geometry, color=None):\n",
    "        return geometry\n",
    "\n",
    "\n",
    "link0 = Link(\"sun_link\", Visual(Geometry(sphere=Sphere(5))))\n",
    "joint0 = Joint(\"sun_joint\", 'continuous', \"sun_link\", \"earth0_link\", origin=Origin.worldXY(), axis=Axis('0 0 1'))\n",
    "\n",
    "link1 = Link(\"earth0_link\")\n",
    "earth_origin = Origin((10, 0, 0), (1, 0 , 0), (0, 1, 0))\n",
    "joint1 = Joint(\"earth0_joint\", 'continuous', \"earth0_link\", \"earth_link\", origin=earth_origin, axis=Axis('0 0 1'))\n",
    "\n",
    "link2 = Link(\"earth_link\", Visual(Geometry(sphere=Sphere(2))))\n",
    "earth_origin = Origin((-10, 0, 0), (1, 0 , 0), (0, 1, 0))\n",
    "joint2 = Joint(\"earth_joint\", 'continuous', \"earth_link\", \"moon_link\", origin=earth_origin, axis=Axis('0 0 1'))\n",
    "\n",
    "link3 = Link(\"moon_link\", Visual(Geometry(sphere=Sphere(1))))\n",
    "\n",
    "links = [link0, link1, link2, link3]\n",
    "joints = [joint0, joint1, joint2]\n",
    "\n",
    "sun_system = RobotModel(\"sun_system\", joints=joints, links=links)\n",
    "print(sun_system)\n",
    "\n",
    "artist = RobotArtist(sun_system)\n",
    "for frame in sun_system.frames:\n",
    "    print(frame)\n",
    "\n",
    "names = [\"sun_joint\", \"earth0_joint\", \"earth_joint\"]\n",
    "configuration = Configuration([0.5, 0.5, 0.5], [Joint.CONTINUOUS] * 3)\n",
    "\n",
    "artist.update(configuration, names, visual=True, collision=False)\n",
    "\n",
    "for geo in artist.draw_visual():\n",
    "    print(geo)\n",
    "\n",
    "\"\"\"\n",
    "viewer = MeshCatViewer()\n",
    "\n",
    "for mesh in artist.draw_visual():\n",
    "    viewer.draw_mesh(mesh, color=0xaa00ff)\n",
    "viewer.jupyter_cell()\n",
    "\"\"\""
   ]
  },
  {
   "cell_type": "code",
   "execution_count": null,
   "metadata": {},
   "outputs": [],
   "source": []
  },
  {
   "cell_type": "code",
   "execution_count": null,
   "metadata": {},
   "outputs": [],
   "source": []
  },
  {
   "cell_type": "code",
   "execution_count": null,
   "metadata": {},
   "outputs": [],
   "source": []
  },
  {
   "cell_type": "code",
   "execution_count": null,
   "metadata": {},
   "outputs": [],
   "source": []
  }
 ],
 "metadata": {
  "celltoolbar": "Slideshow",
  "kernelspec": {
   "display_name": "Python 3",
   "language": "python",
   "name": "python3"
  },
  "language_info": {
   "codemirror_mode": {
    "name": "ipython",
    "version": 3
   },
   "file_extension": ".py",
   "mimetype": "text/x-python",
   "name": "python",
   "nbconvert_exporter": "python",
   "pygments_lexer": "ipython3",
   "version": "3.6.7"
  },
  "rise": {
   "theme": "white"
  }
 },
 "nbformat": 4,
 "nbformat_minor": 2
}
