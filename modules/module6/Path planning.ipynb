{
 "cells": [
  {
   "cell_type": "markdown",
   "metadata": {
    "slideshow": {
     "slide_type": "slide"
    }
   },
   "source": [
    "# Robotic fabrication fundamentals II\n",
    "\n",
    "Path planning and assembly process simulation "
   ]
  },
  {
   "cell_type": "markdown",
   "metadata": {
    "slideshow": {
     "slide_type": "slide"
    }
   },
   "source": [
    "## Motion planning\n",
    "\n",
    "* Collision checking (= path planning)\n",
    "* Trajectory checking (synchronization, consider speed and acceleration of moving objects) \n",
    "\n",
    "<img src=\"images/path_planning_00.png\" width=\"600\" />"
   ]
  },
  {
   "cell_type": "markdown",
   "metadata": {
    "slideshow": {
     "slide_type": "slide"
    }
   },
   "source": [
    "# Collision checking\n",
    "\n",
    "* Intricate positions (spatial assembly)\n",
    "* Multiple robots working closely\n",
    "\n",
    "<table>\n",
    "<tr>\n",
    "<td><img src=\"http://www.dfab.arch.ethz.ch/data/ProjectImages/02_Web/M/248/190617_248_robotic_setup_3x2_AX_WM.jpg\" style=\"height: 300px\" /></td>\n",
    "<td><img src=\"http://www.dfab.arch.ethz.ch/data/ProjectImages/02_Web/M/188/160922_188_BuildupPrototype_MP_01_WM.jpg\" style=\"height: 300px\" /></td>\n",
    "</tr>\n",
    "</table>\n",
    "\n"
   ]
  },
  {
   "cell_type": "markdown",
   "metadata": {
    "slideshow": {
     "slide_type": "slide"
    }
   },
   "source": [
    "# Trajectory checking\n",
    "\n",
    "* Synchronisation\n",
    "* Continuous processes\n",
    "\n",
    "<table>\n",
    "<tr>\n",
    "<td><img src=\"images/path_planning_04.jpg\" style=\"height: 300px\" /></td>\n",
    "<td><img src=\"http://www.dfab.arch.ethz.ch/web/images/content/GKR_Infrastructure_7.jpg\" style=\"height: 300px\" /></td>\n",
    "</tr>\n",
    "</table>\n"
   ]
  },
  {
   "cell_type": "markdown",
   "metadata": {
    "slideshow": {
     "slide_type": "slide"
    }
   },
   "source": [
    "## Path vs. Trajectory"
   ]
  },
  {
   "cell_type": "markdown",
   "metadata": {
    "slideshow": {
     "slide_type": "fragment"
    }
   },
   "source": [
    "### Path\n",
    "A sequence of robot configurations in a particular order without regard to the timing between these configurations\n",
    "(geometric path, obstacle avoidance, shortest path).\n",
    "\n",
    "### Trajectory\n",
    "Is concerned about the timing between these configurations (involving accelleration, speed, limits)."
   ]
  },
  {
   "cell_type": "code",
   "execution_count": 21,
   "metadata": {
    "slideshow": {
     "slide_type": "slide"
    }
   },
   "outputs": [
    {
     "name": "stdout",
     "output_type": "stream",
     "text": [
      "[0.0, 0.0, 0.0, 0.0, 0.0, 0.0]\n",
      "[0.0, 0.0, 0.0, 0.0, 0.0, 0.0]\n",
      "Duration(0, 0)\n",
      "<compas_fab.robots.trajectory.JointTrajectory object at 0x00000164A2E074E0>\n"
     ]
    }
   ],
   "source": [
    "\"\"\"Example: Joint Trajectory Point and Joint Trajectory\n",
    "\"\"\"\n",
    "\n",
    "from compas.robots import Joint\n",
    "from compas_fab.robots import Configuration\n",
    "from compas_fab.robots import JointTrajectoryPoint\n",
    "\n",
    "# create configuration\n",
    "values = [1.571, 0, 0, 0.262, 0, 0]\n",
    "types = [Joint.REVOLUTE] * 6\n",
    "c = Configuration(values, types)\n",
    "\n",
    "# create joint trajectory point\n",
    "p = JointTrajectoryPoint(values, types)\n",
    "print(p.accelerations)\n",
    "print(p.velocities)\n",
    "print(p.time_from_start)\n",
    "\n",
    "# create joint trajectory\n",
    "trj = JointTrajectory([p])\n",
    "print(trj)\n"
   ]
  },
  {
   "cell_type": "markdown",
   "metadata": {
    "slideshow": {
     "slide_type": "slide"
    }
   },
   "source": [
    "## MoveIt!\n",
    "\n",
    "* ROS’ default motion planning library\n",
    "* Works with different planners: OMPL (Open Motion Planning Library)\n",
    "* Collision checking through FCL (Flexible Collision Library)\n",
    "* Kinematics plugins (default KDL: Kinematics and Dynamics Library)\n",
    "* Trajectory processing routine\n",
    "\n",
    "<img src=\"https://moveit.ros.org/assets/images/moveit2_logo_black.png\" width=\"300\">\n"
   ]
  },
  {
   "cell_type": "markdown",
   "metadata": {
    "slideshow": {
     "slide_type": "slide"
    }
   },
   "source": [
    "https://gramaziokohler.github.io/compas_fab/latest/backends/ros.html"
   ]
  },
  {
   "cell_type": "markdown",
   "metadata": {
    "slideshow": {
     "slide_type": "slide"
    }
   },
   "source": [
    "docker compose up"
   ]
  },
  {
   "cell_type": "markdown",
   "metadata": {
    "slideshow": {
     "slide_type": "slide"
    }
   },
   "source": [
    "## RViz in web browser\n",
    "\n",
    "\n",
    "http://localhost:8080/vnc.html?resize=scale&autoconnect=true"
   ]
  },
  {
   "cell_type": "markdown",
   "metadata": {
    "slideshow": {
     "slide_type": "slide"
    }
   },
   "source": [
    "<img src=\"images/moveit_ur5.jpg\" width=\"700\" />"
   ]
  },
  {
   "cell_type": "markdown",
   "metadata": {
    "slideshow": {
     "slide_type": "slide"
    }
   },
   "source": [
    "<img src=\"images/moveit_rfl.jpg\" width=\"700\" />"
   ]
  },
  {
   "cell_type": "markdown",
   "metadata": {
    "slideshow": {
     "slide_type": "slide"
    }
   },
   "source": [
    "<img src=\"images/moveit_ddad.jpg\" width=\"700\" />"
   ]
  },
  {
   "cell_type": "code",
   "execution_count": 3,
   "metadata": {
    "slideshow": {
     "slide_type": "slide"
    }
   },
   "outputs": [
    {
     "name": "stderr",
     "output_type": "stream",
     "text": [
      "Twisted reactor is already running\n"
     ]
    },
    {
     "name": "stdout",
     "output_type": "stream",
     "text": [
      "/apply_planning_scene\n",
      "/check_state_validity\n",
      "/clear_octomap\n",
      "/compute_cartesian_path\n",
      "/compute_fk\n",
      "/compute_ik\n",
      "/file_server/get_file\n",
      "/file_server/get_loggers\n",
      "/file_server/set_logger_level\n",
      "/get_planner_params\n",
      "/get_planning_scene\n",
      "/joint_state_publisher/get_loggers\n",
      "/joint_state_publisher/set_logger_level\n",
      "/move_group/get_loggers\n",
      "/move_group/load_map\n",
      "/move_group/ompl/set_parameters\n",
      "/move_group/plan_execution/set_parameters\n",
      "/move_group/planning_scene_monitor/set_parameters\n",
      "/move_group/save_map\n",
      "/move_group/sense_for_plan/set_parameters\n",
      "/move_group/set_logger_level\n",
      "/move_group/trajectory_execution/set_parameters\n",
      "/plan_kinematic_path\n",
      "/query_planner_interface\n",
      "/robot_state_publisher/get_loggers\n",
      "/robot_state_publisher/set_logger_level\n",
      "/rosapi/action_servers\n",
      "/rosapi/delete_param\n",
      "/rosapi/get_loggers\n",
      "/rosapi/get_param\n",
      "/rosapi/get_param_names\n",
      "/rosapi/get_time\n",
      "/rosapi/has_param\n",
      "/rosapi/message_details\n",
      "/rosapi/node_details\n",
      "/rosapi/nodes\n",
      "/rosapi/publishers\n",
      "/rosapi/search_param\n",
      "/rosapi/service_host\n",
      "/rosapi/service_node\n",
      "/rosapi/service_providers\n",
      "/rosapi/service_request_details\n",
      "/rosapi/service_response_details\n",
      "/rosapi/service_type\n",
      "/rosapi/services\n",
      "/rosapi/services_for_type\n",
      "/rosapi/set_logger_level\n",
      "/rosapi/set_param\n",
      "/rosapi/subscribers\n",
      "/rosapi/topic_type\n",
      "/rosapi/topics\n",
      "/rosapi/topics_for_type\n",
      "/rosbridge_websocket/get_loggers\n",
      "/rosbridge_websocket/set_logger_level\n",
      "/rosout/get_loggers\n",
      "/rosout/set_logger_level\n",
      "/rviz_24ebf7398cdb_1_1811105475120949377/get_loggers\n",
      "/rviz_24ebf7398cdb_1_1811105475120949377/motionplanning_planning_scene_monitor/set_parameters\n",
      "/rviz_24ebf7398cdb_1_1811105475120949377/reload_shaders\n",
      "/rviz_24ebf7398cdb_1_1811105475120949377/set_logger_level\n",
      "/set_planner_params\n"
     ]
    }
   ],
   "source": [
    "\"\"\"Example: list available services via roslibpy\n",
    "\"\"\"\n",
    "\n",
    "from roslibpy import Ros\n",
    "\n",
    "ros = Ros(host='127.0.0.1', port=9090)\n",
    "ros.run()\n",
    "for service in sorted(ros.get_services()):\n",
    "    print(service)\n",
    "\n",
    "ros.terminate()"
   ]
  },
  {
   "cell_type": "markdown",
   "metadata": {
    "slideshow": {
     "slide_type": "slide"
    }
   },
   "source": [
    "## Robot class in compas_fab\n",
    "\n",
    "`robot = Robot(model, artist, semantics, client)`\n",
    "\n",
    "* model: The robot model, usually created from an URDF structure.\n",
    "* artist: Instance of the artist used to visualize the robot\n",
    "* semantics: The semantic model of the robot (planning group, disabled joints)\n",
    "* client: The backend client to use for communication (planning requests, execution tasks)"
   ]
  },
  {
   "cell_type": "code",
   "execution_count": 1,
   "metadata": {
    "slideshow": {
     "slide_type": "slide"
    }
   },
   "outputs": [
    {
     "name": "stdout",
     "output_type": "stream",
     "text": [
      "color [0.7, 0.7, 0.7, 1.0]\n",
      "hexcolor #b2b2b2\n",
      "color None\n",
      "hexcolor #cccccc\n",
      "color [0.7, 0.7, 0.7, 1.0]\n",
      "hexcolor #b2b2b2\n",
      "color None\n",
      "hexcolor #cccccc\n",
      "color [0.7, 0.7, 0.7, 1.0]\n",
      "hexcolor #b2b2b2\n",
      "color None\n",
      "hexcolor #cccccc\n",
      "color [0.7, 0.7, 0.7, 1.0]\n",
      "hexcolor #b2b2b2\n",
      "color None\n",
      "hexcolor #cccccc\n",
      "color [0.7, 0.7, 0.7, 1.0]\n",
      "hexcolor #b2b2b2\n",
      "color None\n",
      "hexcolor #cccccc\n",
      "color [0.7, 0.7, 0.7, 1.0]\n",
      "hexcolor #b2b2b2\n",
      "color None\n",
      "hexcolor #cccccc\n",
      "color [0.7, 0.7, 0.7, 1.0]\n",
      "hexcolor #b2b2b2\n",
      "color None\n",
      "hexcolor #cccccc\n"
     ]
    },
    {
     "data": {
      "text/plain": [
       "<compas_fab.robots.robot.Robot at 0x22c5f117d30>"
      ]
     },
     "execution_count": 1,
     "metadata": {},
     "output_type": "execute_result"
    }
   ],
   "source": [
    "import compas_fab\n",
    "from compas.robots import *\n",
    "from compas_fab.robots import *\n",
    "from threejs_viewer import RobotArtist\n",
    "\n",
    "urdf_filename = compas_fab.get('universal_robot/ur_description/urdf/ur5.urdf')\n",
    "srdf_filename = compas_fab.get('universal_robot/ur5_moveit_config/config/ur5.srdf')\n",
    "\n",
    "model = RobotModel.from_urdf_file(urdf_filename)\n",
    "loader = LocalPackageMeshLoader(compas_fab.get('universal_robot'), 'ur_description')\n",
    "model.load_geometry(loader)\n",
    "\n",
    "semantics = RobotSemantics.from_srdf_file(srdf_filename, model)\n",
    "artist = RobotArtist(model)\n",
    "\n",
    "robot = Robot(model, artist=artist, semantics=semantics)\n",
    "robot"
   ]
  },
  {
   "cell_type": "code",
   "execution_count": 2,
   "metadata": {
    "slideshow": {
     "slide_type": "slide"
    }
   },
   "outputs": [
    {
     "name": "stdout",
     "output_type": "stream",
     "text": [
      "The robot's name is 'ur5'.\n",
      "The planning groups are: ['manipulator', 'endeffector']\n",
      "The main planning group is 'manipulator'.\n",
      "The end-effector's name is 'ee_link'.\n",
      "The base link's name is 'base_link'\n",
      "The base_frame is: Frame(Point(0.000, 0.000, 0.000), Vector(1.000, 0.000, 0.000), Vector(-0.000, 1.000, 0.000))\n",
      "The robot's joints are:\n",
      "\t* 'shoulder_pan_joint' is of type 'revolute' and has limits [6.283, -6.283]\n",
      "\t* 'shoulder_lift_joint' is of type 'revolute' and has limits [6.283, -6.283]\n",
      "\t* 'elbow_joint' is of type 'revolute' and has limits [6.283, -6.283]\n",
      "\t* 'wrist_1_joint' is of type 'revolute' and has limits [6.283, -6.283]\n",
      "\t* 'wrist_2_joint' is of type 'revolute' and has limits [6.283, -6.283]\n",
      "\t* 'wrist_3_joint' is of type 'revolute' and has limits [6.283, -6.283]\n",
      "The robot's links are:\n",
      "['base_link', 'shoulder_link', 'upper_arm_link', 'forearm_link', 'wrist_1_link', 'wrist_2_link', 'wrist_3_link', 'ee_link', 'base', 'tool0', 'world']\n"
     ]
    }
   ],
   "source": [
    "robot.info()"
   ]
  },
  {
   "cell_type": "markdown",
   "metadata": {
    "slideshow": {
     "slide_type": "slide"
    }
   },
   "source": [
    "## Inverse kinematic"
   ]
  },
  {
   "cell_type": "code",
   "execution_count": 3,
   "metadata": {},
   "outputs": [
    {
     "name": "stdout",
     "output_type": "stream",
     "text": [
      "Configuration((4.045, 3.108, 2.174, 4.143, -5.616, -6.283), (0, 0, 0, 0, 0, 0))\n",
      "Frame(Point(0.300, 0.100, 0.500), Vector(1.000, -0.000, 0.000), Vector(0.000, 1.000, 0.000))\n"
     ]
    }
   ],
   "source": [
    "from compas.geometry import Frame\n",
    "from compas_fab.backends import RosClient\n",
    "from compas_fab.robots import Configuration\n",
    "\n",
    "frame = Frame([0.3, 0.1, 0.5], [1, 0, 0], [0, 1, 0])\n",
    "start_configuration = Configuration.from_revolute_values([0] * 6)\n",
    "group = \"manipulator\" # or robot.main_group_name\n",
    "\n",
    "with RosClient() as client:\n",
    "    robot.client = client\n",
    "    config = robot.inverse_kinematics(frame, start_configuration, group)\n",
    "\n",
    "print(config)\n",
    "\n",
    "frame_RCF = robot.forward_kinematics(config, backend='model')\n",
    "frame_WCF = robot.represent_frame_in_WCF(frame_RCF)\n",
    "print(frame_WCF)"
   ]
  },
  {
   "cell_type": "code",
   "execution_count": 4,
   "metadata": {
    "slideshow": {
     "slide_type": "slide"
    }
   },
   "outputs": [
    {
     "data": {
      "application/vnd.jupyter.widget-view+json": {
       "model_id": "fc37c5a75c2b4e298bda03c1a09c6729",
       "version_major": 2,
       "version_minor": 0
      },
      "text/plain": [
       "Renderer(camera=PerspectiveCamera(aspect=1.5, children=(DirectionalLight(intensity=0.5, position=(0.0, 0.0, 1.…"
      ]
     },
     "metadata": {},
     "output_type": "display_data"
    }
   ],
   "source": [
    "from threejs_viewer import ThreeJsViewer\n",
    "\n",
    "robot.update(config)\n",
    "geo = robot.draw_visual()\n",
    "viewer = ThreeJsViewer()\n",
    "viewer.show(geometry=geo)\n"
   ]
  },
  {
   "cell_type": "markdown",
   "metadata": {
    "slideshow": {
     "slide_type": "slide"
    }
   },
   "source": [
    "## Difference between cartesian motion and free-space motion\n",
    "\n",
    "task space vs joint space"
   ]
  },
  {
   "cell_type": "code",
   "execution_count": 4,
   "metadata": {
    "slideshow": {
     "slide_type": "slide"
    }
   },
   "outputs": [
    {
     "name": "stderr",
     "output_type": "stream",
     "text": [
      "Twisted reactor is already running\n"
     ]
    },
    {
     "name": "stdout",
     "output_type": "stream",
     "text": [
      "Computed cartesian path with 23 configurations, \n",
      "following 85% of requested trajectory.\n",
      "Executing this path at full speed would take approx. 1.624 seconds.\n"
     ]
    }
   ],
   "source": [
    "from compas.geometry import Frame\n",
    "from compas_fab.backends import RosClient\n",
    "from compas_fab.robots import Configuration\n",
    "\n",
    "frames = []\n",
    "frames.append(Frame([0.3, 0.1, 0.5], [1, 0, 0], [0, 1, 0]))\n",
    "frames.append(Frame([0.4, 0.3, 0.4], [0, 1, 0], [0, 0, 1]))\n",
    "start_configuration = Configuration.from_revolute_values([-0.042, 0.033, -2.174, 5.282, -1.528, 0.000])\n",
    "\n",
    "with RosClient() as client:\n",
    "    robot.client = client\n",
    "    trajectory = robot.plan_cartesian_motion(frames,\n",
    "                                             start_configuration,\n",
    "                                             max_step=0.01,\n",
    "                                             avoid_collisions=True)\n",
    "\n",
    "print(\"Computed cartesian path with %d configurations, \" % len(trajectory.points))\n",
    "print(\"following %d%% of requested trajectory.\" % (trajectory.fraction * 100))\n",
    "print(\"Executing this path at full speed would take approx. %.3f seconds.\" % trajectory.time_from_start)"
   ]
  },
  {
   "cell_type": "markdown",
   "metadata": {
    "slideshow": {
     "slide_type": "slide"
    }
   },
   "source": [
    "# Free-space motion\n",
    "\n",
    "The problem of motion planning can be stated as follows. \n",
    "\n",
    "Given:\n",
    "* A start pose of the robot\n",
    "* A desired goal pose\n",
    "* A geometric description of the robot\n",
    "* A geometric description of the world\n",
    "\n",
    "Find a path that moves the robot gradually from start to goal while never touching any obstacle "
   ]
  },
  {
   "cell_type": "markdown",
   "metadata": {
    "slideshow": {
     "slide_type": "slide"
    }
   },
   "source": [
    "<img src=\"http://www.willowgarage.com/sites/default/files/blog/200909/path_planning_01.600h.png\" />"
   ]
  },
  {
   "cell_type": "markdown",
   "metadata": {},
   "source": [
    "## Constraints\n",
    "\n",
    "* __JointConstraint__\n",
    "        Constrains the value of a joint to be within a certain bound.\n",
    "* __OrientationConstraint__\n",
    "        Constrains a link to be within a certain orientation.\n",
    "* __PositionConstraint__\n",
    "        Constrains a link to be within a certain bounding volume."
   ]
  },
  {
   "cell_type": "code",
   "execution_count": 23,
   "metadata": {},
   "outputs": [
    {
     "name": "stdout",
     "output_type": "stream",
     "text": [
      "JointConstraint('joint_0', 1.4, 0.1, 1.0)\n",
      "PositionConstraint('link_0', BoundingVolume(2, Sphere(Point(3.000, 4.000, 5.000), 0.5)), 1.0)\n",
      "OrientationConstraint('link_0', [0.9165245574525535, -0.01934971205862469, -0.15523694045370287, 0.36811658010502973], [0.1, 0.1, 0.1], 1.0)\n"
     ]
    }
   ],
   "source": [
    "from compas.geometry import Sphere\n",
    "from compas.geometry import Frame\n",
    "from compas_fab.robots import *\n",
    "\n",
    "# Joint Constraint\n",
    "jc = JointConstraint(\"joint_0\", 1.4, tolerance=0.1, weight=1.)\n",
    "print(jc)\n",
    "\n",
    "# Position Constraint\n",
    "bv = BoundingVolume.from_sphere(Sphere((3,4,5), 0.5))\n",
    "pc = PositionConstraint('link_0', bv, weight=1.)\n",
    "print(pc)\n",
    "\n",
    "# Orientation Constraint\n",
    "frame = Frame([1, 1, 1], [0.68, 0.68, 0.27], [-0.67, 0.73, -0.15])\n",
    "oc = OrientationConstraint(\"link_0\", frame.quaternion, tolerances=[0.1, 0.1, 0.1], weight=1.)\n",
    "print(oc)\n",
    "                        "
   ]
  },
  {
   "cell_type": "code",
   "execution_count": 11,
   "metadata": {
    "slideshow": {
     "slide_type": "slide"
    }
   },
   "outputs": [
    {
     "name": "stderr",
     "output_type": "stream",
     "text": [
      "Twisted reactor is already running\n"
     ]
    },
    {
     "name": "stdout",
     "output_type": "stream",
     "text": [
      "Computed kinematic path with 27 configurations.\n",
      "Executing this path at full speed would take approx. 3.528 seconds.\n"
     ]
    }
   ],
   "source": [
    "import math\n",
    "from compas.geometry import Frame\n",
    "from compas_fab.robots import Configuration\n",
    "from compas_fab.backends import RosClient\n",
    "\n",
    "frame = Frame([0.4, 0.3, 0.4], [0, 1, 0], [0, 0, 1])\n",
    "tolerance_position = 0.001\n",
    "tolerance_axes = [math.radians(1)] * 3\n",
    "\n",
    "start_configuration = Configuration.from_revolute_values([-0.042, 4.295, 0, -3.327, 4.755, 0.])\n",
    "group = robot.main_group_name\n",
    "\n",
    "# create goal constraints from frame\n",
    "goal_constraints = robot.constraints_from_frame(frame,\n",
    "                                                tolerance_position,\n",
    "                                                tolerance_axes,\n",
    "                                                group)\n",
    "\n",
    "# Other planners 'PRM'\n",
    "with RosClient() as client:\n",
    "    robot.client = client\n",
    "    \n",
    "    trajectory = robot.plan_motion(goal_constraints,\n",
    "                                   start_configuration,\n",
    "                                   group,\n",
    "                                   planner_id='RRT')\n",
    "\n",
    "print(\"Computed kinematic path with %d configurations.\" % len(trajectory.points))\n",
    "print(\"Executing this path at full speed would take approx. %.3f seconds.\" % trajectory.time_from_start)"
   ]
  },
  {
   "cell_type": "markdown",
   "metadata": {
    "slideshow": {
     "slide_type": "slide"
    }
   },
   "source": [
    "## Planning scene and collision objects"
   ]
  },
  {
   "cell_type": "markdown",
   "metadata": {
    "slideshow": {
     "slide_type": "slide"
    }
   },
   "source": [
    "## Collision meshes"
   ]
  },
  {
   "cell_type": "code",
   "execution_count": 15,
   "metadata": {
    "slideshow": {
     "slide_type": "-"
    }
   },
   "outputs": [
    {
     "name": "stderr",
     "output_type": "stream",
     "text": [
      "Twisted reactor is already running\n"
     ]
    }
   ],
   "source": [
    "\"\"\"Example: add a floor to the planning scene\n",
    "\"\"\"\n",
    "import time\n",
    "\n",
    "from compas.datastructures import Mesh\n",
    "\n",
    "import compas_fab\n",
    "from compas_fab.backends import RosClient\n",
    "from compas_fab.robots import CollisionMesh\n",
    "from compas_fab.robots import PlanningScene\n",
    "from compas_fab.robots.ur5 import Robot\n",
    "\n",
    "with RosClient() as client:\n",
    "    robot = Robot(client)\n",
    "\n",
    "    scene = PlanningScene(robot)\n",
    "    mesh = Mesh.from_stl(compas_fab.get('planning_scene/floor.stl'))\n",
    "    cm = CollisionMesh(mesh, 'floor')\n",
    "    scene.add_collision_mesh(cm)\n",
    "\n",
    "    # sleep a bit before terminating the client\n",
    "    time.sleep(1)"
   ]
  },
  {
   "cell_type": "code",
   "execution_count": 14,
   "metadata": {},
   "outputs": [
    {
     "name": "stderr",
     "output_type": "stream",
     "text": [
      "Twisted reactor is already running\n"
     ]
    }
   ],
   "source": [
    "\"\"\"Example: remove the floor from the planning scene\n",
    "\"\"\"\n",
    "import time\n",
    "\n",
    "from compas_fab.backends import RosClient\n",
    "from compas_fab.robots import PlanningScene\n",
    "from compas_fab.robots.ur5 import Robot\n",
    "\n",
    "with RosClient() as client:\n",
    "    robot = Robot(client)\n",
    "    scene = PlanningScene(robot)\n",
    "    scene.remove_collision_mesh('floor')\n",
    "\n",
    "    # sleep a bit before terminating the client\n",
    "    time.sleep(1)"
   ]
  },
  {
   "cell_type": "code",
   "execution_count": 16,
   "metadata": {
    "slideshow": {
     "slide_type": "slide"
    }
   },
   "outputs": [
    {
     "name": "stderr",
     "output_type": "stream",
     "text": [
      "Twisted reactor is already running\n"
     ]
    }
   ],
   "source": [
    "\"\"\"Example: add several bricks to the planning scene.\n",
    "Note: APPEND instead of ADD\n",
    "\"\"\"\n",
    "\n",
    "import time\n",
    "\n",
    "from compas.datastructures import Mesh\n",
    "from compas.geometry import Box\n",
    "\n",
    "from compas_fab.backends import RosClient\n",
    "from compas_fab.robots import CollisionMesh\n",
    "from compas_fab.robots import PlanningScene\n",
    "from compas_fab.robots.ur5 import Robot\n",
    "\n",
    "with RosClient() as client:\n",
    "\n",
    "    robot = Robot(client)\n",
    "    scene = PlanningScene(robot)\n",
    "\n",
    "    brick = Box.from_width_height_depth(0.11, 0.07, 0.25)\n",
    "\n",
    "    for i in range(5):\n",
    "        mesh = Mesh.from_vertices_and_faces(brick.vertices, brick.faces)\n",
    "        cm = CollisionMesh(mesh, 'brick')\n",
    "        cm.frame.point.y += 0.5\n",
    "        cm.frame.point.z += brick.zsize * i\n",
    "\n",
    "        scene.append_collision_mesh(cm)\n",
    "\n",
    "    # sleep a bit before terminating the client\n",
    "    time.sleep(1)"
   ]
  },
  {
   "cell_type": "code",
   "execution_count": 17,
   "metadata": {},
   "outputs": [
    {
     "name": "stderr",
     "output_type": "stream",
     "text": [
      "Twisted reactor is already running\n"
     ]
    }
   ],
   "source": [
    "\"\"\"Example: remove the floor from the planning scene\n",
    "\"\"\"\n",
    "import time\n",
    "\n",
    "from compas_fab.backends import RosClient\n",
    "from compas_fab.robots import PlanningScene\n",
    "from compas_fab.robots.ur5 import Robot\n",
    "\n",
    "with RosClient() as client:\n",
    "    robot = Robot(client)\n",
    "    scene = PlanningScene(robot)\n",
    "    scene.remove_collision_mesh('brick')\n",
    "\n",
    "    # sleep a bit before terminating the client\n",
    "    time.sleep(1)"
   ]
  },
  {
   "cell_type": "markdown",
   "metadata": {
    "slideshow": {
     "slide_type": "slide"
    }
   },
   "source": [
    "## Attach a collision mesh to a robot’s end-effector"
   ]
  },
  {
   "cell_type": "code",
   "execution_count": 18,
   "metadata": {
    "slideshow": {
     "slide_type": "slide"
    }
   },
   "outputs": [
    {
     "name": "stderr",
     "output_type": "stream",
     "text": [
      "Twisted reactor is already running\n"
     ]
    }
   ],
   "source": [
    "import time\n",
    "\n",
    "from compas.datastructures import Mesh\n",
    "\n",
    "import compas_fab\n",
    "from compas_fab.backends import RosClient\n",
    "from compas_fab.robots import CollisionMesh\n",
    "from compas_fab.robots import PlanningScene\n",
    "from compas_fab.robots.ur5 import Robot\n",
    "\n",
    "with RosClient() as client:\n",
    "\n",
    "    robot = Robot(client)\n",
    "    scene = PlanningScene(robot)\n",
    "\n",
    "    # create collison object\n",
    "    mesh = Mesh.from_stl(compas_fab.get('planning_scene/cone.stl'))\n",
    "    cm = CollisionMesh(mesh, 'tip')\n",
    "\n",
    "    # attach it to the end-effector\n",
    "    group = robot.main_group_name\n",
    "    scene.attach_collision_mesh_to_robot_end_effector(cm, group=group)\n",
    "\n",
    "    # sleep a bit before terminating the client\n",
    "    time.sleep(1)"
   ]
  },
  {
   "cell_type": "code",
   "execution_count": 19,
   "metadata": {},
   "outputs": [
    {
     "name": "stderr",
     "output_type": "stream",
     "text": [
      "Twisted reactor is already running\n"
     ]
    },
    {
     "name": "stdout",
     "output_type": "stream",
     "text": [
      "Computed kinematic path with 35 configurations.\n",
      "Executing this path at full speed would take approx. 4.729 seconds.\n"
     ]
    }
   ],
   "source": [
    "import math\n",
    "from compas.geometry import Frame\n",
    "from compas_fab.robots import Configuration\n",
    "from compas_fab.backends import RosClient\n",
    "\n",
    "frame = Frame([0.4, 0.3, 0.4], [0, 1, 0], [0, 0, 1])\n",
    "tolerance_position = 0.001\n",
    "tolerance_axes = [math.radians(1)] * 3\n",
    "\n",
    "start_configuration = Configuration.from_revolute_values([-0.042, 4.295, 0, -3.327, 4.755, 0.])\n",
    "group = robot.main_group_name\n",
    "\n",
    "# create attached collision object\n",
    "mesh = Mesh.from_stl(compas_fab.get('planning_scene/cone.stl'))\n",
    "cm = CollisionMesh(mesh, 'tip')\n",
    "ee_link_name = 'ee_link'\n",
    "touch_links = ['wrist_3_link', 'ee_link']\n",
    "acm = AttachedCollisionMesh(cm, ee_link_name, touch_links)\n",
    "\n",
    "# create goal constraints from frame\n",
    "goal_constraints = robot.constraints_from_frame(frame,\n",
    "                                                tolerance_position,\n",
    "                                                tolerance_axes,\n",
    "                                                group)\n",
    "\n",
    "# Other planners 'PRM'\n",
    "with RosClient() as client:\n",
    "    robot.client = client\n",
    "    \n",
    "    trajectory = robot.plan_motion(goal_constraints,\n",
    "                                   start_configuration,\n",
    "                                   group,\n",
    "                                   planner_id='RRT',\n",
    "                                   attached_collision_meshes=[acm])\n",
    "\n",
    "print(\"Computed kinematic path with %d configurations.\" % len(trajectory.points))\n",
    "print(\"Executing this path at full speed would take approx. %.3f seconds.\" % trajectory.time_from_start)"
   ]
  },
  {
   "cell_type": "code",
   "execution_count": null,
   "metadata": {},
   "outputs": [],
   "source": []
  }
 ],
 "metadata": {
  "celltoolbar": "Slideshow",
  "kernelspec": {
   "display_name": "Python 3",
   "language": "python",
   "name": "python3"
  },
  "language_info": {
   "codemirror_mode": {
    "name": "ipython",
    "version": 3
   },
   "file_extension": ".py",
   "mimetype": "text/x-python",
   "name": "python",
   "nbconvert_exporter": "python",
   "pygments_lexer": "ipython3",
   "version": "3.6.7"
  }
 },
 "nbformat": 4,
 "nbformat_minor": 2
}
