{
 "cells": [
  {
   "cell_type": "markdown",
   "metadata": {
    "slideshow": {
     "slide_type": "slide"
    }
   },
   "source": [
    "# Robotic fabrication fundamentals II\n",
    "\n",
    "Path planning and assembly process simulation "
   ]
  },
  {
   "cell_type": "markdown",
   "metadata": {
    "slideshow": {
     "slide_type": "slide"
    }
   },
   "source": [
    "## Motion planning\n",
    "\n",
    "* Collision checking (= path planning)\n",
    "* Trajectory checking (synchronization, consider speed and acceleration of moving objects) \n",
    "\n",
    "<img src=\"images/path_planning_00.png\" width=\"600\" />"
   ]
  },
  {
   "cell_type": "markdown",
   "metadata": {
    "slideshow": {
     "slide_type": "slide"
    }
   },
   "source": [
    "# Collision checking\n",
    "\n",
    "* Intricate positions (spatial assembly)\n",
    "* Multiple robots working closely\n",
    "\n",
    "<table>\n",
    "<tr>\n",
    "<td><img src=\"http://www.dfab.arch.ethz.ch/data/ProjectImages/02_Web/M/248/190617_248_robotic_setup_3x2_AX_WM.jpg\" style=\"height: 300px\" /></td>\n",
    "<td><img src=\"http://www.dfab.arch.ethz.ch/data/ProjectImages/02_Web/M/188/160922_188_BuildupPrototype_MP_01_WM.jpg\" style=\"height: 300px\" /></td>\n",
    "</tr>\n",
    "</table>\n",
    "\n"
   ]
  },
  {
   "cell_type": "markdown",
   "metadata": {
    "slideshow": {
     "slide_type": "slide"
    }
   },
   "source": [
    "# Trajectory checking\n",
    "\n",
    "* Synchronisation\n",
    "* Continuous processes\n",
    "\n",
    "<table>\n",
    "<tr>\n",
    "<td><img src=\"images/path_planning_04.jpg\" style=\"height: 300px\" /></td>\n",
    "<td><img src=\"http://www.dfab.arch.ethz.ch/web/images/content/GKR_Infrastructure_7.jpg\" style=\"height: 300px\" /></td>\n",
    "</tr>\n",
    "</table>\n"
   ]
  },
  {
   "cell_type": "markdown",
   "metadata": {
    "slideshow": {
     "slide_type": "slide"
    }
   },
   "source": [
    "## Path vs. Trajectory"
   ]
  },
  {
   "cell_type": "markdown",
   "metadata": {
    "slideshow": {
     "slide_type": "fragment"
    }
   },
   "source": [
    "### Path\n",
    "A sequence of robot configurations in a particular order without regard to the timing between these configurations\n",
    "(geometric path, obstacle avoidance, shortest path).\n",
    "\n",
    "### Trajectory\n",
    "Is concerned about the timing between these configurations (involving accelleration, speed, limits)."
   ]
  },
  {
   "cell_type": "code",
   "execution_count": 21,
   "metadata": {
    "slideshow": {
     "slide_type": "slide"
    }
   },
   "outputs": [
    {
     "name": "stdout",
     "output_type": "stream",
     "text": [
      "[0.0, 0.0, 0.0, 0.0, 0.0, 0.0]\n",
      "[0.0, 0.0, 0.0, 0.0, 0.0, 0.0]\n",
      "Duration(0, 0)\n",
      "<compas_fab.robots.trajectory.JointTrajectory object at 0x00000164A2E074E0>\n"
     ]
    }
   ],
   "source": [
    "\"\"\"Example: Joint Trajectory Point and Joint Trajectory\n",
    "\"\"\"\n",
    "\n",
    "from compas.robots import Joint\n",
    "from compas_fab.robots import Configuration\n",
    "from compas_fab.robots import JointTrajectoryPoint\n",
    "\n",
    "# create configuration\n",
    "values = [1.571, 0, 0, 0.262, 0, 0]\n",
    "types = [Joint.REVOLUTE] * 6\n",
    "c = Configuration(values, types)\n",
    "\n",
    "# create joint trajectory point\n",
    "p = JointTrajectoryPoint(values, types)\n",
    "print(p.accelerations)\n",
    "print(p.velocities)\n",
    "print(p.time_from_start)\n",
    "\n",
    "# create joint trajectory\n",
    "trj = JointTrajectory([p])\n",
    "print(trj)\n"
   ]
  },
  {
   "cell_type": "markdown",
   "metadata": {
    "slideshow": {
     "slide_type": "slide"
    }
   },
   "source": [
    "## MoveIt!\n",
    "\n",
    "* ROS’ default motion planning library\n",
    "* Works with different planners: OMPL (Open Motion Planning Library)\n",
    "* Collision checking through FCL (Flexible Collision Library)\n",
    "* Kinematics plugins (default KDL: Kinematics and Dynamics Library)\n",
    "* Trajectory processing routine\n",
    "\n",
    "<img src=\"https://moveit.ros.org/assets/images/moveit2_logo_black.png\" width=\"300\">\n"
   ]
  },
  {
   "cell_type": "code",
   "execution_count": null,
   "metadata": {
    "slideshow": {
     "slide_type": "slide"
    }
   },
   "outputs": [],
   "source": [
    "https://gramaziokohler.github.io/compas_fab/latest/backends/ros.html\n",
    "\n",
    "docker compose up"
   ]
  },
  {
   "cell_type": "markdown",
   "metadata": {
    "slideshow": {
     "slide_type": "slide"
    }
   },
   "source": [
    "## RViz in web browser\n",
    "\n",
    "\n",
    "http://localhost:8080/vnc.html?resize=scale&autoconnect=true"
   ]
  },
  {
   "cell_type": "markdown",
   "metadata": {
    "slideshow": {
     "slide_type": "slide"
    }
   },
   "source": [
    "<img src=\"images/moveit_ur5.jpg\" width=\"700\" />"
   ]
  },
  {
   "cell_type": "markdown",
   "metadata": {},
   "source": [
    "<img src=\"images/moveit_rfl.jpg\" width=\"700\" />"
   ]
  },
  {
   "cell_type": "markdown",
   "metadata": {
    "slideshow": {
     "slide_type": "slide"
    }
   },
   "source": [
    "<img src=\"images/moveit_ddad.jpg\" width=\"700\" />"
   ]
  },
  {
   "cell_type": "code",
   "execution_count": null,
   "metadata": {},
   "outputs": [],
   "source": [
    "list services via roslibpy"
   ]
  },
  {
   "cell_type": "code",
   "execution_count": null,
   "metadata": {},
   "outputs": [],
   "source": [
    "## Robot class in compas_fab\n",
    "\n",
    "- model\n",
    "- artist\n",
    "- semantic\n",
    "- client"
   ]
  },
  {
   "cell_type": "code",
   "execution_count": 23,
   "metadata": {},
   "outputs": [
    {
     "name": "stdout",
     "output_type": "stream",
     "text": [
      "done\n"
     ]
    }
   ],
   "source": [
    "import os\n",
    "import compas\n",
    "import compas_fab\n",
    "from compas.robots import *\n",
    "from compas_fab.robots import *\n",
    "from threejs_viewer import RobotArtist\n",
    "\n",
    "urdf_filename = compas_fab.get('universal_robot/ur_description/urdf/ur5.urdf')\n",
    "srdf_filename = compas_fab.get('universal_robot/ur5_moveit_config/config/ur5.srdf')\n",
    "\n",
    "model = RobotModel.from_urdf_file(urdf_filename)\n",
    "loader = LocalPackageMeshLoader(compas_fab.get('universal_robot'), 'ur_description')\n",
    "model.load_geometry(loader)\n",
    "\n",
    "semantics = RobotSemantics.from_srdf_file(srdf_filename, model)\n",
    "artist = RobotArtist(model)\n",
    "\n",
    "robot = Robot(model, artist=artist, semantics=semantics)\n",
    "print(\"done\")\n",
    "    "
   ]
  },
  {
   "cell_type": "code",
   "execution_count": 24,
   "metadata": {
    "slideshow": {
     "slide_type": "slide"
    }
   },
   "outputs": [
    {
     "name": "stdout",
     "output_type": "stream",
     "text": [
      "The robot's name is 'ur5'.\n",
      "The planning groups are: ['manipulator', 'endeffector']\n",
      "The main planning group is 'manipulator'.\n",
      "The end-effector's name is 'ee_link'.\n",
      "The base link's name is 'base_link'\n",
      "The base_frame is: Frame(Point(0.000, 0.000, 0.000), Vector(1.000, 0.000, 0.000), Vector(-0.000, 1.000, 0.000))\n",
      "The robot's joints are:\n",
      "\t* 'shoulder_pan_joint' is of type 'revolute' and has limits [6.283, -6.283]\n",
      "\t* 'shoulder_lift_joint' is of type 'revolute' and has limits [6.283, -6.283]\n",
      "\t* 'elbow_joint' is of type 'revolute' and has limits [6.283, -6.283]\n",
      "\t* 'wrist_1_joint' is of type 'revolute' and has limits [6.283, -6.283]\n",
      "\t* 'wrist_2_joint' is of type 'revolute' and has limits [6.283, -6.283]\n",
      "\t* 'wrist_3_joint' is of type 'revolute' and has limits [6.283, -6.283]\n",
      "The robot's links are:\n",
      "['base_link', 'shoulder_link', 'upper_arm_link', 'forearm_link', 'wrist_1_link', 'wrist_2_link', 'wrist_3_link', 'ee_link', 'base', 'tool0', 'world']\n"
     ]
    }
   ],
   "source": [
    "robot.info()"
   ]
  },
  {
   "cell_type": "markdown",
   "metadata": {
    "slideshow": {
     "slide_type": "slide"
    }
   },
   "source": [
    "## Inverse kinematic"
   ]
  },
  {
   "cell_type": "code",
   "execution_count": 22,
   "metadata": {},
   "outputs": [
    {
     "name": "stderr",
     "output_type": "stream",
     "text": [
      "Twisted reactor is already running\n"
     ]
    },
    {
     "ename": "AttributeError",
     "evalue": "module 'compas_fab.robots.robot' has no attribute 'inverse_kinematics'",
     "output_type": "error",
     "traceback": [
      "\u001b[1;31m---------------------------------------------------------------------------\u001b[0m",
      "\u001b[1;31mAttributeError\u001b[0m                            Traceback (most recent call last)",
      "\u001b[1;32m<ipython-input-22-024bc97bf4e7>\u001b[0m in \u001b[0;36m<module>\u001b[1;34m\u001b[0m\n\u001b[0;32m      9\u001b[0m \u001b[1;32mwith\u001b[0m \u001b[0mRosClient\u001b[0m\u001b[1;33m(\u001b[0m\u001b[1;33m)\u001b[0m \u001b[1;32mas\u001b[0m \u001b[0mclient\u001b[0m\u001b[1;33m:\u001b[0m\u001b[1;33m\u001b[0m\u001b[1;33m\u001b[0m\u001b[0m\n\u001b[0;32m     10\u001b[0m     \u001b[0mrobot\u001b[0m\u001b[1;33m.\u001b[0m\u001b[0mclient\u001b[0m \u001b[1;33m=\u001b[0m \u001b[0mclient\u001b[0m\u001b[1;33m\u001b[0m\u001b[1;33m\u001b[0m\u001b[0m\n\u001b[1;32m---> 11\u001b[1;33m     \u001b[0mconfig\u001b[0m \u001b[1;33m=\u001b[0m \u001b[0mrobot\u001b[0m\u001b[1;33m.\u001b[0m\u001b[0minverse_kinematics\u001b[0m\u001b[1;33m(\u001b[0m\u001b[0mframe\u001b[0m\u001b[1;33m,\u001b[0m \u001b[0mstart_configuration\u001b[0m\u001b[1;33m,\u001b[0m \u001b[0mgroup\u001b[0m\u001b[1;33m)\u001b[0m\u001b[1;33m\u001b[0m\u001b[1;33m\u001b[0m\u001b[0m\n\u001b[0m\u001b[0;32m     12\u001b[0m \u001b[1;33m\u001b[0m\u001b[0m\n\u001b[0;32m     13\u001b[0m \u001b[0mprint\u001b[0m\u001b[1;33m(\u001b[0m\u001b[0mconfig\u001b[0m\u001b[1;33m)\u001b[0m\u001b[1;33m\u001b[0m\u001b[1;33m\u001b[0m\u001b[0m\n",
      "\u001b[1;31mAttributeError\u001b[0m: module 'compas_fab.robots.robot' has no attribute 'inverse_kinematics'"
     ]
    }
   ],
   "source": [
    "from compas.geometry import Frame\n",
    "from compas_fab.backends import RosClient\n",
    "from compas_fab.robots import Configuration\n",
    "\n",
    "frame = Frame([0.3, 0.1, 0.5], [1, 0, 0], [0, 1, 0])\n",
    "start_configuration = Configuration.from_revolute_values([0] * 6)\n",
    "group = \"manipulator\" # or robot.main_group_name\n",
    "\n",
    "with RosClient() as client:\n",
    "    robot.client = client\n",
    "    config = robot.inverse_kinematics(frame, start_configuration, group)\n",
    "\n",
    "print(config)\n",
    "\n",
    "\n"
   ]
  },
  {
   "cell_type": "code",
   "execution_count": 5,
   "metadata": {},
   "outputs": [
    {
     "data": {
      "application/vnd.jupyter.widget-view+json": {
       "model_id": "5c0b037caf61479881bef8b58a57fe30",
       "version_major": 2,
       "version_minor": 0
      },
      "text/plain": [
       "Renderer(camera=PerspectiveCamera(children=(DirectionalLight(intensity=0.5, position=(0.0, 0.0, 1.0), quaterni…"
      ]
     },
     "metadata": {},
     "output_type": "display_data"
    }
   ],
   "source": [
    "from threejs_viewer import ThreeJsViewer\n",
    "\n",
    "robot.update(config)\n",
    "\n",
    "geo = robot.draw_visual()\n",
    "viewer = ThreeJsViewer()\n",
    "viewer.show(geo)\n"
   ]
  },
  {
   "cell_type": "code",
   "execution_count": null,
   "metadata": {},
   "outputs": [],
   "source": [
    "# Cartesian path\n",
    "\n",
    "* What is a cartesian path"
   ]
  },
  {
   "cell_type": "code",
   "execution_count": null,
   "metadata": {},
   "outputs": [],
   "source": [
    "# Difference cartesian motion and free-space motion\n",
    "joint space vs task space\n",
    "robot following a straight line (robot runnning into itsel)\n"
   ]
  },
  {
   "cell_type": "code",
   "execution_count": 12,
   "metadata": {
    "slideshow": {
     "slide_type": "slide"
    }
   },
   "outputs": [
    {
     "name": "stderr",
     "output_type": "stream",
     "text": [
      "Twisted reactor is already running\n"
     ]
    },
    {
     "name": "stdout",
     "output_type": "stream",
     "text": [
      "Computed cartesian path with 23 configurations, \n",
      "following 85% of requested trajectory.\n",
      "Executing this path at full speed would take approx. 1.624 seconds.\n"
     ]
    }
   ],
   "source": [
    "from compas.geometry import Frame\n",
    "from compas_fab.backends import RosClient\n",
    "from compas_fab.robots import Configuration\n",
    "\n",
    "frames = []\n",
    "frames.append(Frame([0.3, 0.1, 0.5], [1, 0, 0], [0, 1, 0]))\n",
    "frames.append(Frame([0.4, 0.3, 0.4], [0, 1, 0], [0, 0, 1]))\n",
    "start_configuration = Configuration.from_revolute_values([-0.042, 0.033, -2.174, 5.282, -1.528, 0.000])\n",
    "\n",
    "with RosClient() as client:\n",
    "    robot.client = client\n",
    "    trajectory = robot.plan_cartesian_motion(frames,\n",
    "                                             start_configuration,\n",
    "                                             max_step=0.01,\n",
    "                                             avoid_collisions=True)\n",
    "\n",
    "print(\"Computed cartesian path with %d configurations, \" % len(trajectory.points))\n",
    "print(\"following %d%% of requested trajectory.\" % (trajectory.fraction * 100))\n",
    "print(\"Executing this path at full speed would take approx. %.3f seconds.\" % trajectory.time_from_start)"
   ]
  },
  {
   "cell_type": "markdown",
   "metadata": {
    "slideshow": {
     "slide_type": "slide"
    }
   },
   "source": [
    "# Free-space motion\n",
    "\n",
    "The problem of motion planning can be stated as follows. \n",
    "\n",
    "Given:\n",
    "* A start pose of the robot\n",
    "* A desired goal pose\n",
    "* A geometric description of the robot\n",
    "* A geometric description of the world\n",
    "\n",
    "Find a path that moves the robot gradually from start to goal while never touching any obstacle "
   ]
  },
  {
   "cell_type": "markdown",
   "metadata": {
    "slideshow": {
     "slide_type": "slide"
    }
   },
   "source": [
    "<img src=\"http://www.willowgarage.com/sites/default/files/blog/200909/path_planning_01.600h.png\" />"
   ]
  },
  {
   "cell_type": "code",
   "execution_count": 16,
   "metadata": {},
   "outputs": [
    {
     "name": "stderr",
     "output_type": "stream",
     "text": [
      "Twisted reactor is already running\n"
     ]
    },
    {
     "name": "stdout",
     "output_type": "stream",
     "text": [
      "Computed kinematic path with 25 configurations.\n",
      "Executing this path at full speed would take approx. 4.179 seconds.\n"
     ]
    }
   ],
   "source": [
    "import math\n",
    "from compas.geometry import Frame\n",
    "from compas_fab.robots import Configuration\n",
    "from compas_fab.backends import RosClient\n",
    "\n",
    "frame = Frame([0.4, 0.3, 0.4], [0, 1, 0], [0, 0, 1])\n",
    "tolerance_position = 0.001\n",
    "tolerance_axes = [math.radians(1)] * 3\n",
    "\n",
    "start_configuration = Configuration.from_revolute_values([-0.042, 4.295, 0, -3.327, 4.755, 0.])\n",
    "group = robot.main_group_name\n",
    "\n",
    "# create goal constraints from frame\n",
    "goal_constraints = robot.constraints_from_frame(frame,\n",
    "                                                tolerance_position,\n",
    "                                                tolerance_axes,\n",
    "                                                group)\n",
    "\n",
    "with RosClient() as client:\n",
    "    robot.client = client\n",
    "    \n",
    "    trajectory = robot.plan_motion(goal_constraints,\n",
    "                                   start_configuration,\n",
    "                                   group,\n",
    "                                   planner_id='RRT')\n",
    "\n",
    "print(\"Computed kinematic path with %d configurations.\" % len(trajectory.points))\n",
    "print(\"Executing this path at full speed would take approx. %.3f seconds.\" % trajectory.time_from_start)"
   ]
  },
  {
   "cell_type": "code",
   "execution_count": null,
   "metadata": {
    "slideshow": {
     "slide_type": "slide"
    }
   },
   "outputs": [],
   "source": [
    "<iframe src=\"http://localhost:8080/vnc.html?resize=scale&autoconnect=true\">\n",
    "</iframe>"
   ]
  },
  {
   "cell_type": "code",
   "execution_count": null,
   "metadata": {},
   "outputs": [],
   "source": []
  }
 ],
 "metadata": {
  "celltoolbar": "Slideshow",
  "kernelspec": {
   "display_name": "Python 3",
   "language": "python",
   "name": "python3"
  },
  "language_info": {
   "codemirror_mode": {
    "name": "ipython",
    "version": 3
   },
   "file_extension": ".py",
   "mimetype": "text/x-python",
   "name": "python",
   "nbconvert_exporter": "python",
   "pygments_lexer": "ipython3",
   "version": "3.6.7"
  }
 },
 "nbformat": 4,
 "nbformat_minor": 2
}
