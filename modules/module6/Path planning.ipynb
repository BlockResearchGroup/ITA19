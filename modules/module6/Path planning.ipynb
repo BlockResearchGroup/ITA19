{
 "cells": [
  {
   "cell_type": "markdown",
   "metadata": {
    "slideshow": {
     "slide_type": "slide"
    }
   },
   "source": [
    "# Path planning and assembly process simulation "
   ]
  },
  {
   "cell_type": "markdown",
   "metadata": {
    "slideshow": {
     "slide_type": "slide"
    }
   },
   "source": [
    "## Path planning\n",
    "\n",
    "* Collision checking (consider collisions)\n",
    "* Trajectory checking (synchronization, consider speed and acceleration of moving objects) \n",
    "\n",
    "<img src=\"images/path_planning_00.png\" width=\"600\" />"
   ]
  },
  {
   "cell_type": "markdown",
   "metadata": {
    "slideshow": {
     "slide_type": "slide"
    }
   },
   "source": [
    "# Collision checking\n",
    "\n",
    "* Intricate positions (spatial assembly)\n",
    "* Multiple robots working closely\n",
    "\n",
    "<table>\n",
    "<tr>\n",
    "<td><img src=\"http://www.dfab.arch.ethz.ch/data/ProjectImages/02_Web/M/248/190617_248_robotic_setup_3x2_AX_WM.jpg\" style=\"height: 300px\" /></td>\n",
    "<td><img src=\"http://www.dfab.arch.ethz.ch/data/ProjectImages/02_Web/M/188/160922_188_BuildupPrototype_MP_01_WM.jpg\" style=\"height: 300px\" /></td>\n",
    "</tr>\n",
    "</table>\n",
    "\n"
   ]
  },
  {
   "cell_type": "markdown",
   "metadata": {
    "slideshow": {
     "slide_type": "slide"
    }
   },
   "source": [
    "# Trajectory checking\n",
    "\n",
    "* Synchronisation\n",
    "* Continuous processes\n",
    "\n",
    "<table>\n",
    "<tr>\n",
    "<td><img src=\"images/path_planning_04.jpg\" style=\"height: 300px\" /></td>\n",
    "<td><img src=\"http://www.dfab.arch.ethz.ch/web/images/content/GKR_Infrastructure_7.jpg\" style=\"height: 300px\" /></td>\n",
    "</tr>\n",
    "</table>\n"
   ]
  },
  {
   "cell_type": "markdown",
   "metadata": {
    "slideshow": {
     "slide_type": "slide"
    }
   },
   "source": [
    "## MoveIt!\n",
    "\n",
    "* ROS’ default motion planning library\n",
    "* Works with different planners: OMPL (Open Motion Planning Library)\n",
    "* Collision checking through FCL (Flexible Collision Library)\n",
    "* Kinematics plugins (default KDL: Kinematics and Dynamics Library)\n",
    "* Trajectory processing routine\n",
    "\n",
    "<img src=\"https://moveit.ros.org/assets/images/moveit2_logo_black.png\" width=\"300\">\n"
   ]
  },
  {
   "cell_type": "code",
   "execution_count": null,
   "metadata": {
    "slideshow": {
     "slide_type": "slide"
    }
   },
   "outputs": [],
   "source": [
    "docker compose up"
   ]
  },
  {
   "cell_type": "code",
   "execution_count": null,
   "metadata": {
    "slideshow": {
     "slide_type": "slide"
    }
   },
   "outputs": [],
   "source": [
    "show ur5 in web"
   ]
  },
  {
   "cell_type": "markdown",
   "metadata": {
    "slideshow": {
     "slide_type": "slide"
    }
   },
   "source": [
    "<img src=\"images/moveit_ur5.jpg\" width=\"700\" />"
   ]
  },
  {
   "cell_type": "markdown",
   "metadata": {},
   "source": [
    "<img src=\"images/moveit_rfl.jpg\" width=\"700\" />"
   ]
  },
  {
   "cell_type": "markdown",
   "metadata": {
    "slideshow": {
     "slide_type": "slide"
    }
   },
   "source": [
    "<img src=\"images/moveit_ddad.jpg\" width=\"700\" />"
   ]
  },
  {
   "cell_type": "code",
   "execution_count": null,
   "metadata": {},
   "outputs": [],
   "source": [
    "list services via roslibpy"
   ]
  },
  {
   "cell_type": "code",
   "execution_count": null,
   "metadata": {},
   "outputs": [],
   "source": [
    "## Robot class in compas_fab\n",
    "\n",
    "- model\n",
    "- artist\n",
    "- semantic\n",
    "- client"
   ]
  },
  {
   "cell_type": "code",
   "execution_count": 1,
   "metadata": {},
   "outputs": [
    {
     "name": "stdout",
     "output_type": "stream",
     "text": [
      "done\n"
     ]
    }
   ],
   "source": [
    "import os\n",
    "import compas\n",
    "import compas_fab\n",
    "from compas.robots import *\n",
    "from compas_fab.robots import *\n",
    "from compas_fab.backends import RosClient\n",
    "from threejs_viewer import RobotArtist\n",
    "\n",
    "urdf_filename = compas_fab.get('universal_robot/ur_description/urdf/ur5.urdf')\n",
    "srdf_filename = compas_fab.get('universal_robot/ur5_moveit_config/config/ur5.srdf')\n",
    "\n",
    "model = RobotModel.from_urdf_file(urdf_filename)\n",
    "loader = LocalPackageMeshLoader(compas_fab.get('universal_robot'), 'ur_description')\n",
    "model.load_geometry(loader)\n",
    "\n",
    "semantics = RobotSemantics.from_srdf_file(srdf_filename, model)\n",
    "artist = RobotArtist(model)\n",
    "\n",
    "robot = Robot(model, artist=artist, semantics=semantics)\n",
    "print(\"done\")\n",
    "    "
   ]
  },
  {
   "cell_type": "code",
   "execution_count": 2,
   "metadata": {
    "slideshow": {
     "slide_type": "slide"
    }
   },
   "outputs": [
    {
     "name": "stdout",
     "output_type": "stream",
     "text": [
      "The robot's name is 'ur5'.\n",
      "The planning groups are: ['manipulator', 'endeffector']\n",
      "The main planning group is 'manipulator'.\n",
      "The end-effector's name is 'ee_link'.\n",
      "The base link's name is 'base_link'\n",
      "The base_frame is: Frame(Point(0.000, 0.000, 0.000), Vector(1.000, 0.000, 0.000), Vector(-0.000, 1.000, 0.000))\n",
      "The robot's joints are:\n",
      "\t* 'shoulder_pan_joint' is of type 'revolute' and has limits [6.283, -6.283]\n",
      "\t* 'shoulder_lift_joint' is of type 'revolute' and has limits [6.283, -6.283]\n",
      "\t* 'elbow_joint' is of type 'revolute' and has limits [6.283, -6.283]\n",
      "\t* 'wrist_1_joint' is of type 'revolute' and has limits [6.283, -6.283]\n",
      "\t* 'wrist_2_joint' is of type 'revolute' and has limits [6.283, -6.283]\n",
      "\t* 'wrist_3_joint' is of type 'revolute' and has limits [6.283, -6.283]\n",
      "The robot's links are:\n",
      "['base_link', 'shoulder_link', 'upper_arm_link', 'forearm_link', 'wrist_1_link', 'wrist_2_link', 'wrist_3_link', 'ee_link', 'base', 'tool0', 'world']\n"
     ]
    }
   ],
   "source": [
    "robot.info()"
   ]
  },
  {
   "cell_type": "markdown",
   "metadata": {
    "slideshow": {
     "slide_type": "slide"
    }
   },
   "source": [
    "## Inverse kinematic"
   ]
  },
  {
   "cell_type": "code",
   "execution_count": 5,
   "metadata": {},
   "outputs": [
    {
     "name": "stderr",
     "output_type": "stream",
     "text": [
      "Twisted reactor is already running\n"
     ]
    },
    {
     "name": "stdout",
     "output_type": "stream",
     "text": [
      "Configuration((6.241, 4.320, 1.671, 0.292, -4.755, -3.142), (0, 0, 0, 0, 0, 0))\n"
     ]
    }
   ],
   "source": [
    "from compas.geometry import Frame\n",
    "from compas_fab.backends import RosClient\n",
    "from compas_fab.robots import Configuration\n",
    "\n",
    "frame = Frame([0.3, 0.1, 0.5], [1, 0, 0], [0, 1, 0])\n",
    "start_configuration = Configuration.from_revolute_values([0] * 6)\n",
    "group = \"manipulator\" # or robot.main_group_name\n",
    "\n",
    "with RosClient() as client:\n",
    "    robot.client = client\n",
    "    config = robot.inverse_kinematics(frame, start_configuration, group)\n",
    "    print(config)\n",
    "\n",
    "\n"
   ]
  },
  {
   "cell_type": "code",
   "execution_count": 8,
   "metadata": {},
   "outputs": [
    {
     "name": "stdout",
     "output_type": "stream",
     "text": [
      "Configuration((6.241, 4.320, 1.671, 0.292, -4.755, -3.142), (0, 0, 0, 0, 0, 0))\n"
     ]
    },
    {
     "data": {
      "application/vnd.jupyter.widget-view+json": {
       "model_id": "bf23e4bdeb8548f8a25bedb3462dfa67",
       "version_major": 2,
       "version_minor": 0
      },
      "text/plain": [
       "Renderer(camera=PerspectiveCamera(children=(DirectionalLight(intensity=0.5, position=(0.0, 0.0, 1.0), quaterni…"
      ]
     },
     "metadata": {},
     "output_type": "display_data"
    }
   ],
   "source": [
    "from threejs_viewer import ThreeJsViewer\n",
    "\n",
    "robot.update(config)\n",
    "\n",
    "geo = robot.draw_visual()\n",
    "viewer = ThreeJsViewer()\n",
    "viewer.show(geo)\n"
   ]
  },
  {
   "cell_type": "code",
   "execution_count": null,
   "metadata": {},
   "outputs": [],
   "source": [
    "# Cartesian path\n",
    "\n",
    "* What is a cartesian path"
   ]
  },
  {
   "cell_type": "code",
   "execution_count": null,
   "metadata": {},
   "outputs": [],
   "source": []
  }
 ],
 "metadata": {
  "celltoolbar": "Slideshow",
  "kernelspec": {
   "display_name": "Python 3",
   "language": "python",
   "name": "python3"
  },
  "language_info": {
   "codemirror_mode": {
    "name": "ipython",
    "version": 3
   },
   "file_extension": ".py",
   "mimetype": "text/x-python",
   "name": "python",
   "nbconvert_exporter": "python",
   "pygments_lexer": "ipython3",
   "version": "3.6.7"
  }
 },
 "nbformat": 4,
 "nbformat_minor": 2
}
