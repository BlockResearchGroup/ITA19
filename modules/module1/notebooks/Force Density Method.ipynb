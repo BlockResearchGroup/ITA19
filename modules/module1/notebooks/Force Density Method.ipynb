{
 "cells": [
  {
   "cell_type": "markdown",
   "metadata": {},
   "source": [
    "# Force Density Method"
   ]
  },
  {
   "cell_type": "markdown",
   "metadata": {},
   "source": [
    "H.-J. Schek [1974] *The force density method for form finding and computation of general networks*. Computer Methods in Applied Mechanics and Engineering, 3(1): 115-134."
   ]
  },
  {
   "cell_type": "markdown",
   "metadata": {},
   "source": [
    "The Force Density Method is a mathematical strategy for solving the equations of equilibrium for any type of cable network, without requiring any initial coordinates of  the structure. This is achieved through the exploitation of a mathematical trick. The essential ideas are as follows. Pin-jointed network structures assume the state of  equilibrium when internal forces $s$ and external forces $p$ are balanced. "
   ]
  },
  {
   "cell_type": "markdown",
   "metadata": {},
   "source": [
    "## Equilibrium equations"
   ]
  },
  {
   "cell_type": "markdown",
   "metadata": {},
   "source": [
    "$$ f_1 \\frac{x_1 - x_0}{l_1} + f_2 \\frac{x_2 - x_0}{l_2} + f_3 \\frac{x_3 - x_0}{l_3} + f_4 \\frac{x_4 - x_0}{l_4} = p_{x, 0}$$"
   ]
  },
  {
   "cell_type": "markdown",
   "metadata": {},
   "source": [
    "$$ f_1 \\frac{y_1 - y_0}{l_1} + f_2 \\frac{y_2 - y_0}{l_2} + f_3 \\frac{y_3 - y_0}{l_3} + f_4 \\frac{y_4 - y_0}{l_4} = p_{y, 0}$$"
   ]
  },
  {
   "cell_type": "markdown",
   "metadata": {},
   "source": [
    "$$ f_1 \\frac{z_1 - z_0}{l_1} + f_2 \\frac{z_2 - z_0}{l_2} + f_3 \\frac{z_3 - z_0}{l_3} + f_4 \\frac{z_4 - z_0}{l_4} = p_{z, 0}$$"
   ]
  },
  {
   "cell_type": "markdown",
   "metadata": {},
   "source": [
    "$$ l_{ij} = \\sqrt{(x_j - x_i)^2 + (y_j - y_i)^2 + (z_j - z_i)^2} $$"
   ]
  },
  {
   "cell_type": "markdown",
   "metadata": {},
   "source": [
    "## Linearization"
   ]
  },
  {
   "cell_type": "markdown",
   "metadata": {},
   "source": [
    "$$\\sum_{j} \\frac{f_{ij}}{l_{ij}} (x_j - x_i) = p_{x, i}$$\n",
    "$$\\sum_{j} f_{ij} \\frac{y_j - y_i}{l_{ij}} = p_{y, i}$$\n",
    "$$\\sum_{j} f_{ij} \\frac{z_j - z_i}{l_{ij}} = p_{z, i}$$"
   ]
  },
  {
   "cell_type": "markdown",
   "metadata": {},
   "source": [
    "## Coordinate differences"
   ]
  },
  {
   "cell_type": "markdown",
   "metadata": {},
   "source": [
    "## Connectivity matrix"
   ]
  },
  {
   "cell_type": "code",
   "execution_count": null,
   "metadata": {},
   "outputs": [],
   "source": []
  }
 ],
 "metadata": {
  "kernelspec": {
   "display_name": "Python [conda env:ita19-dev] *",
   "language": "python",
   "name": "conda-env-ita19-dev-py"
  },
  "language_info": {
   "codemirror_mode": {
    "name": "ipython",
    "version": 3
   },
   "file_extension": ".py",
   "mimetype": "text/x-python",
   "name": "python",
   "nbconvert_exporter": "python",
   "pygments_lexer": "ipython3",
   "version": "3.6.7"
  }
 },
 "nbformat": 4,
 "nbformat_minor": 2
}
